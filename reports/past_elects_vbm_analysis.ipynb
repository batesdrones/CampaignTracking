{
 "cells": [
  {
   "cell_type": "markdown",
   "metadata": {},
   "source": [
    "![](../additional_materials/logos/darden_rice_logo_SM.png)"
   ]
  },
  {
   "cell_type": "markdown",
   "metadata": {},
   "source": [
    "### VBM Demographic Analysis\n",
    "#### 2013 & 2017 Municipal Primaries, Ballots Mailed"
   ]
  },
  {
   "cell_type": "markdown",
   "metadata": {},
   "source": [
    "---"
   ]
  },
  {
   "cell_type": "code",
   "execution_count": 1,
   "metadata": {},
   "outputs": [],
   "source": [
    "import pandas as pd\n",
    "pd.set_option('display.max_columns', None)\n",
    "\n",
    "import numpy as np\n",
    "import matplotlib.pyplot as plt\n",
    "import matplotlib.ticker as ticker\n",
    "import seaborn as sns\n",
    "\n",
    "import datetime"
   ]
  },
  {
   "cell_type": "code",
   "execution_count": 2,
   "metadata": {},
   "outputs": [],
   "source": [
    "df = pd.read_csv('../data/raw/2017_municipal_primary_VBM.csv')\n",
    "# df.head(3)"
   ]
  },
  {
   "cell_type": "code",
   "execution_count": 3,
   "metadata": {},
   "outputs": [],
   "source": [
    "# Define columns to be renamed based on headers in the first row (index 0) of df\n",
    "column_names = {'Age': 'Age 18-24', 'Unnamed: 2': 'Age 25-34', 'Unnamed: 3': 'Age 35-49', 'Unnamed: 4': 'Age 50-64',\n",
    "                'Unnamed: 5': 'Age 65+', 'Unnamed: 6': 'Age Unknown', 'Gender': 'Male', 'Unnamed: 8': 'Female', \n",
    "                'Unnamed: 9': 'Gender Unknown', 'Ethnicity': 'African American', 'Unnamed: 11': 'Hispanic', \n",
    "                'Unnamed: 12': 'White', 'Unnamed: 13': 'Other Ethnicity', 'Unnamed: 14': 'Ethnicity Unknown', \n",
    "                'Party': 'Democrat', 'Unnamed: 16': 'Independent', 'Unnamed: 17': 'Republican', 'Unnamed: 18': 'Other Party',\n",
    "                'Unnamed: 19': 'Party Unknown'}\n",
    "\n",
    "# Rename columns based on dictionary above\n",
    "df.rename(column_names, axis=1, inplace=True)"
   ]
  },
  {
   "cell_type": "code",
   "execution_count": 4,
   "metadata": {},
   "outputs": [],
   "source": [
    "# Drop the first row of the df, containing headers\n",
    "df.drop(labels=0, axis=0, inplace=True)\n",
    "# Drop final row of df, containing column totals\n",
    "df.drop(df.tail(1).index, inplace=True)\n",
    "\n",
    "# Reset df index\n",
    "df.reset_index(drop = True, inplace = True)"
   ]
  },
  {
   "cell_type": "code",
   "execution_count": 5,
   "metadata": {},
   "outputs": [],
   "source": [
    "# Remove commas from numeric entries and converting all columns to numeric values\n",
    "df = df.apply(lambda x: x.str.replace(',', ''))\n",
    "\n",
    "df = df.apply(pd.to_numeric)"
   ]
  },
  {
   "cell_type": "code",
   "execution_count": 6,
   "metadata": {},
   "outputs": [
    {
     "data": {
      "text/plain": [
       "Precinct             int64\n",
       "Age 18-24            int64\n",
       "Age 25-34            int64\n",
       "Age 35-49            int64\n",
       "Age 50-64            int64\n",
       "Age 65+              int64\n",
       "Age Unknown          int64\n",
       "Male                 int64\n",
       "Female               int64\n",
       "Gender Unknown       int64\n",
       "African American     int64\n",
       "Hispanic             int64\n",
       "White                int64\n",
       "Other Ethnicity      int64\n",
       "Ethnicity Unknown    int64\n",
       "Democrat             int64\n",
       "Independent          int64\n",
       "Republican           int64\n",
       "Other Party          int64\n",
       "Party Unknown        int64\n",
       "Total People         int64\n",
       "dtype: object"
      ]
     },
     "execution_count": 6,
     "metadata": {},
     "output_type": "execute_result"
    }
   ],
   "source": [
    "df.dtypes"
   ]
  },
  {
   "cell_type": "code",
   "execution_count": 7,
   "metadata": {},
   "outputs": [],
   "source": [
    "# Set index to precinct number\n",
    "df.set_index(df['Precinct'], inplace = True)\n",
    "\n",
    "df.drop('Precinct', axis = 1, inplace = True)"
   ]
  },
  {
   "cell_type": "code",
   "execution_count": 8,
   "metadata": {},
   "outputs": [],
   "source": [
    "# Use this function to remove all columns that sum to 0 people, i.e., columns that don't represent any voters\n",
    "def remove_zero_sum_cols(df):\n",
    "    features = []\n",
    "    columns = list(df.columns.values)\n",
    "    for c in columns:\n",
    "        if df[c].sum() != 0:\n",
    "            features.append(c)\n",
    "    df = df[features]\n",
    "    return df"
   ]
  },
  {
   "cell_type": "code",
   "execution_count": 9,
   "metadata": {},
   "outputs": [],
   "source": [
    "df = remove_zero_sum_cols(df)"
   ]
  },
  {
   "cell_type": "code",
   "execution_count": 10,
   "metadata": {},
   "outputs": [],
   "source": [
    "# CAUTION: Only uncomment and run this cell for 2013 data cleaning!!!\n",
    "\n",
    "# # There were no VBM ballots recorded for anyone in the 18-24 age range in 2013. I felt it was still important to know, \n",
    "# # so after removing zero-sum columns above, I re-added the 18-24 column with 0 for all its values.\n",
    "# df['Age 18-24'] = 0\n",
    "# df = df[['Age 18-24', 'Age 25-34', 'Age 35-49', 'Age 50-64', 'Age 65+', 'Male', \n",
    "#          'Female', 'Gender Unknown', 'African American', 'Hispanic', 'White',\n",
    "#          'Other Ethnicity', 'Democrat', 'Independent', 'Republican', 'Total People']]"
   ]
  },
  {
   "cell_type": "code",
   "execution_count": 11,
   "metadata": {},
   "outputs": [
    {
     "data": {
      "text/html": [
       "<div>\n",
       "<style scoped>\n",
       "    .dataframe tbody tr th:only-of-type {\n",
       "        vertical-align: middle;\n",
       "    }\n",
       "\n",
       "    .dataframe tbody tr th {\n",
       "        vertical-align: top;\n",
       "    }\n",
       "\n",
       "    .dataframe thead th {\n",
       "        text-align: right;\n",
       "    }\n",
       "</style>\n",
       "<table border=\"1\" class=\"dataframe\">\n",
       "  <thead>\n",
       "    <tr style=\"text-align: right;\">\n",
       "      <th></th>\n",
       "      <th>Age 18-24</th>\n",
       "      <th>Age 25-34</th>\n",
       "      <th>Age 35-49</th>\n",
       "      <th>Age 50-64</th>\n",
       "      <th>Age 65+</th>\n",
       "      <th>Male</th>\n",
       "      <th>Female</th>\n",
       "      <th>Gender Unknown</th>\n",
       "      <th>African American</th>\n",
       "      <th>Hispanic</th>\n",
       "      <th>White</th>\n",
       "      <th>Other Ethnicity</th>\n",
       "      <th>Democrat</th>\n",
       "      <th>Independent</th>\n",
       "      <th>Republican</th>\n",
       "      <th>Total People</th>\n",
       "    </tr>\n",
       "    <tr>\n",
       "      <th>Precinct</th>\n",
       "      <th></th>\n",
       "      <th></th>\n",
       "      <th></th>\n",
       "      <th></th>\n",
       "      <th></th>\n",
       "      <th></th>\n",
       "      <th></th>\n",
       "      <th></th>\n",
       "      <th></th>\n",
       "      <th></th>\n",
       "      <th></th>\n",
       "      <th></th>\n",
       "      <th></th>\n",
       "      <th></th>\n",
       "      <th></th>\n",
       "      <th></th>\n",
       "    </tr>\n",
       "  </thead>\n",
       "  <tbody>\n",
       "    <tr>\n",
       "      <th>101</th>\n",
       "      <td>9</td>\n",
       "      <td>38</td>\n",
       "      <td>63</td>\n",
       "      <td>199</td>\n",
       "      <td>282</td>\n",
       "      <td>237</td>\n",
       "      <td>352</td>\n",
       "      <td>2</td>\n",
       "      <td>361</td>\n",
       "      <td>10</td>\n",
       "      <td>198</td>\n",
       "      <td>22</td>\n",
       "      <td>459</td>\n",
       "      <td>58</td>\n",
       "      <td>74</td>\n",
       "      <td>591</td>\n",
       "    </tr>\n",
       "    <tr>\n",
       "      <th>102</th>\n",
       "      <td>2</td>\n",
       "      <td>7</td>\n",
       "      <td>40</td>\n",
       "      <td>80</td>\n",
       "      <td>204</td>\n",
       "      <td>119</td>\n",
       "      <td>214</td>\n",
       "      <td>0</td>\n",
       "      <td>149</td>\n",
       "      <td>2</td>\n",
       "      <td>173</td>\n",
       "      <td>9</td>\n",
       "      <td>251</td>\n",
       "      <td>27</td>\n",
       "      <td>55</td>\n",
       "      <td>333</td>\n",
       "    </tr>\n",
       "    <tr>\n",
       "      <th>103</th>\n",
       "      <td>5</td>\n",
       "      <td>7</td>\n",
       "      <td>37</td>\n",
       "      <td>60</td>\n",
       "      <td>91</td>\n",
       "      <td>86</td>\n",
       "      <td>114</td>\n",
       "      <td>0</td>\n",
       "      <td>11</td>\n",
       "      <td>2</td>\n",
       "      <td>179</td>\n",
       "      <td>8</td>\n",
       "      <td>108</td>\n",
       "      <td>34</td>\n",
       "      <td>58</td>\n",
       "      <td>200</td>\n",
       "    </tr>\n",
       "  </tbody>\n",
       "</table>\n",
       "</div>"
      ],
      "text/plain": [
       "          Age 18-24  Age 25-34  Age 35-49  Age 50-64  Age 65+  Male  Female  \\\n",
       "Precinct                                                                      \n",
       "101               9         38         63        199      282   237     352   \n",
       "102               2          7         40         80      204   119     214   \n",
       "103               5          7         37         60       91    86     114   \n",
       "\n",
       "          Gender Unknown  African American  Hispanic  White  Other Ethnicity  \\\n",
       "Precinct                                                                       \n",
       "101                    2               361        10    198               22   \n",
       "102                    0               149         2    173                9   \n",
       "103                    0                11         2    179                8   \n",
       "\n",
       "          Democrat  Independent  Republican  Total People  \n",
       "Precinct                                                   \n",
       "101            459           58          74           591  \n",
       "102            251           27          55           333  \n",
       "103            108           34          58           200  "
      ]
     },
     "execution_count": 11,
     "metadata": {},
     "output_type": "execute_result"
    }
   ],
   "source": [
    "df.head(3)"
   ]
  },
  {
   "cell_type": "code",
   "execution_count": null,
   "metadata": {},
   "outputs": [],
   "source": []
  },
  {
   "cell_type": "markdown",
   "metadata": {},
   "source": [
    "---\n",
    "---\n",
    "#### Save clean master csv here"
   ]
  },
  {
   "cell_type": "code",
   "execution_count": 12,
   "metadata": {},
   "outputs": [],
   "source": [
    "df.to_csv('../data/processed/2017_VBM_master.csv')"
   ]
  },
  {
   "cell_type": "markdown",
   "metadata": {},
   "source": [
    "---\n",
    "#### Generate and Export Subset Dataframes"
   ]
  },
  {
   "cell_type": "code",
   "execution_count": 13,
   "metadata": {},
   "outputs": [
    {
     "data": {
      "text/plain": [
       "Index(['Age 18-24', 'Age 25-34', 'Age 35-49', 'Age 50-64', 'Age 65+', 'Male',\n",
       "       'Female', 'Gender Unknown', 'African American', 'Hispanic', 'White',\n",
       "       'Other Ethnicity', 'Democrat', 'Independent', 'Republican',\n",
       "       'Total People'],\n",
       "      dtype='object')"
      ]
     },
     "execution_count": 13,
     "metadata": {},
     "output_type": "execute_result"
    }
   ],
   "source": [
    "df.columns"
   ]
  },
  {
   "cell_type": "code",
   "execution_count": 14,
   "metadata": {},
   "outputs": [],
   "source": [
    "# Subset dataframes containing age, gender, ethnicity, and party affiliation breakdowns by precinct\n",
    "age_df = df[['Age 18-24', 'Age 25-34', 'Age 35-49', 'Age 50-64', 'Age 65+', 'Total People']].copy()\n",
    "gen_df = df[['Male', 'Female', 'Gender Unknown', 'Total People']].copy()\n",
    "eth_df = df[['African American', 'Hispanic', 'White', 'Other Ethnicity', 'Total People']].copy()\n",
    "party_df = df[['Democrat', 'Independent', 'Republican', 'Total People']].copy()"
   ]
  },
  {
   "cell_type": "code",
   "execution_count": 15,
   "metadata": {},
   "outputs": [],
   "source": [
    "# Saving all master dataframe subsets to individual csv files\n",
    "age_df.to_csv('../data/processed/2017_VBM_age_breakdown.csv')\n",
    "gen_df.to_csv('../data/processed/2017_VBM_gender_breakdown.csv')\n",
    "eth_df.to_csv('../data/processed/2017_VBM_ethnicity_breakdown.csv')\n",
    "party_df.to_csv('../data/processed/2017_VBM_party_breakdown.csv')"
   ]
  },
  {
   "cell_type": "markdown",
   "metadata": {},
   "source": [
    "---\n",
    "---"
   ]
  },
  {
   "cell_type": "markdown",
   "metadata": {},
   "source": [
    "### Analysis"
   ]
  },
  {
   "cell_type": "code",
   "execution_count": 16,
   "metadata": {},
   "outputs": [],
   "source": [
    "df = pd.read_csv('../data/processed/2017_VBM_master.csv')"
   ]
  },
  {
   "cell_type": "code",
   "execution_count": 17,
   "metadata": {},
   "outputs": [],
   "source": [
    "# Set index to precinct number\n",
    "df.set_index(df['Precinct'], inplace = True)\n",
    "df.drop('Precinct', axis = 1, inplace = True)\n",
    "\n",
    "# Drop 'Total People'\n",
    "df.drop('Total People', axis = 1, inplace = True)"
   ]
  },
  {
   "cell_type": "code",
   "execution_count": 18,
   "metadata": {},
   "outputs": [
    {
     "data": {
      "text/html": [
       "<div>\n",
       "<style scoped>\n",
       "    .dataframe tbody tr th:only-of-type {\n",
       "        vertical-align: middle;\n",
       "    }\n",
       "\n",
       "    .dataframe tbody tr th {\n",
       "        vertical-align: top;\n",
       "    }\n",
       "\n",
       "    .dataframe thead th {\n",
       "        text-align: right;\n",
       "    }\n",
       "</style>\n",
       "<table border=\"1\" class=\"dataframe\">\n",
       "  <thead>\n",
       "    <tr style=\"text-align: right;\">\n",
       "      <th></th>\n",
       "      <th>Age 18-24</th>\n",
       "      <th>Age 25-34</th>\n",
       "      <th>Age 35-49</th>\n",
       "      <th>Age 50-64</th>\n",
       "      <th>Age 65+</th>\n",
       "      <th>Male</th>\n",
       "      <th>Female</th>\n",
       "      <th>Gender Unknown</th>\n",
       "      <th>African American</th>\n",
       "      <th>Hispanic</th>\n",
       "      <th>White</th>\n",
       "      <th>Other Ethnicity</th>\n",
       "      <th>Democrat</th>\n",
       "      <th>Independent</th>\n",
       "      <th>Republican</th>\n",
       "    </tr>\n",
       "    <tr>\n",
       "      <th>Precinct</th>\n",
       "      <th></th>\n",
       "      <th></th>\n",
       "      <th></th>\n",
       "      <th></th>\n",
       "      <th></th>\n",
       "      <th></th>\n",
       "      <th></th>\n",
       "      <th></th>\n",
       "      <th></th>\n",
       "      <th></th>\n",
       "      <th></th>\n",
       "      <th></th>\n",
       "      <th></th>\n",
       "      <th></th>\n",
       "      <th></th>\n",
       "    </tr>\n",
       "  </thead>\n",
       "  <tbody>\n",
       "    <tr>\n",
       "      <th>101</th>\n",
       "      <td>9</td>\n",
       "      <td>38</td>\n",
       "      <td>63</td>\n",
       "      <td>199</td>\n",
       "      <td>282</td>\n",
       "      <td>237</td>\n",
       "      <td>352</td>\n",
       "      <td>2</td>\n",
       "      <td>361</td>\n",
       "      <td>10</td>\n",
       "      <td>198</td>\n",
       "      <td>22</td>\n",
       "      <td>459</td>\n",
       "      <td>58</td>\n",
       "      <td>74</td>\n",
       "    </tr>\n",
       "    <tr>\n",
       "      <th>102</th>\n",
       "      <td>2</td>\n",
       "      <td>7</td>\n",
       "      <td>40</td>\n",
       "      <td>80</td>\n",
       "      <td>204</td>\n",
       "      <td>119</td>\n",
       "      <td>214</td>\n",
       "      <td>0</td>\n",
       "      <td>149</td>\n",
       "      <td>2</td>\n",
       "      <td>173</td>\n",
       "      <td>9</td>\n",
       "      <td>251</td>\n",
       "      <td>27</td>\n",
       "      <td>55</td>\n",
       "    </tr>\n",
       "    <tr>\n",
       "      <th>103</th>\n",
       "      <td>5</td>\n",
       "      <td>7</td>\n",
       "      <td>37</td>\n",
       "      <td>60</td>\n",
       "      <td>91</td>\n",
       "      <td>86</td>\n",
       "      <td>114</td>\n",
       "      <td>0</td>\n",
       "      <td>11</td>\n",
       "      <td>2</td>\n",
       "      <td>179</td>\n",
       "      <td>8</td>\n",
       "      <td>108</td>\n",
       "      <td>34</td>\n",
       "      <td>58</td>\n",
       "    </tr>\n",
       "  </tbody>\n",
       "</table>\n",
       "</div>"
      ],
      "text/plain": [
       "          Age 18-24  Age 25-34  Age 35-49  Age 50-64  Age 65+  Male  Female  \\\n",
       "Precinct                                                                      \n",
       "101               9         38         63        199      282   237     352   \n",
       "102               2          7         40         80      204   119     214   \n",
       "103               5          7         37         60       91    86     114   \n",
       "\n",
       "          Gender Unknown  African American  Hispanic  White  Other Ethnicity  \\\n",
       "Precinct                                                                       \n",
       "101                    2               361        10    198               22   \n",
       "102                    0               149         2    173                9   \n",
       "103                    0                11         2    179                8   \n",
       "\n",
       "          Democrat  Independent  Republican  \n",
       "Precinct                                     \n",
       "101            459           58          74  \n",
       "102            251           27          55  \n",
       "103            108           34          58  "
      ]
     },
     "execution_count": 18,
     "metadata": {},
     "output_type": "execute_result"
    }
   ],
   "source": [
    "df.head(3)"
   ]
  },
  {
   "cell_type": "code",
   "execution_count": 19,
   "metadata": {},
   "outputs": [
    {
     "data": {
      "text/plain": [
       "(91, 15)"
      ]
     },
     "execution_count": 19,
     "metadata": {},
     "output_type": "execute_result"
    }
   ],
   "source": [
    "df.shape"
   ]
  },
  {
   "cell_type": "code",
   "execution_count": 20,
   "metadata": {},
   "outputs": [],
   "source": [
    "# df.isnull().sum()"
   ]
  },
  {
   "cell_type": "code",
   "execution_count": 21,
   "metadata": {},
   "outputs": [],
   "source": [
    "# df.dtypes"
   ]
  },
  {
   "cell_type": "markdown",
   "metadata": {},
   "source": [
    "---"
   ]
  },
  {
   "cell_type": "code",
   "execution_count": 22,
   "metadata": {},
   "outputs": [],
   "source": [
    "summary_df = df.describe()\n",
    "summary_df.drop('count', axis = 0, inplace = True)"
   ]
  },
  {
   "cell_type": "code",
   "execution_count": 23,
   "metadata": {},
   "outputs": [],
   "source": [
    "summary_df = summary_df.round(2)"
   ]
  },
  {
   "cell_type": "markdown",
   "metadata": {},
   "source": [
    "**BELOW:** This table shows the mean, standard deviation, minimum and maximum values, and quartile values for all voters in Pinellas County (all precincts combined) who requested and wwere mailed ballots for the 2021 Municipal Primary."
   ]
  },
  {
   "cell_type": "code",
   "execution_count": 24,
   "metadata": {},
   "outputs": [
    {
     "data": {
      "text/html": [
       "<div>\n",
       "<style scoped>\n",
       "    .dataframe tbody tr th:only-of-type {\n",
       "        vertical-align: middle;\n",
       "    }\n",
       "\n",
       "    .dataframe tbody tr th {\n",
       "        vertical-align: top;\n",
       "    }\n",
       "\n",
       "    .dataframe thead th {\n",
       "        text-align: right;\n",
       "    }\n",
       "</style>\n",
       "<table border=\"1\" class=\"dataframe\">\n",
       "  <thead>\n",
       "    <tr style=\"text-align: right;\">\n",
       "      <th></th>\n",
       "      <th>Age 18-24</th>\n",
       "      <th>Age 25-34</th>\n",
       "      <th>Age 35-49</th>\n",
       "      <th>Age 50-64</th>\n",
       "      <th>Age 65+</th>\n",
       "      <th>Male</th>\n",
       "      <th>Female</th>\n",
       "      <th>Gender Unknown</th>\n",
       "      <th>African American</th>\n",
       "      <th>Hispanic</th>\n",
       "      <th>White</th>\n",
       "      <th>Other Ethnicity</th>\n",
       "      <th>Democrat</th>\n",
       "      <th>Independent</th>\n",
       "      <th>Republican</th>\n",
       "    </tr>\n",
       "  </thead>\n",
       "  <tbody>\n",
       "    <tr>\n",
       "      <th>mean</th>\n",
       "      <td>3.05</td>\n",
       "      <td>14.76</td>\n",
       "      <td>41.55</td>\n",
       "      <td>99.85</td>\n",
       "      <td>182.02</td>\n",
       "      <td>145.60</td>\n",
       "      <td>195.34</td>\n",
       "      <td>0.29</td>\n",
       "      <td>53.22</td>\n",
       "      <td>7.64</td>\n",
       "      <td>267.67</td>\n",
       "      <td>12.70</td>\n",
       "      <td>179.14</td>\n",
       "      <td>51.80</td>\n",
       "      <td>110.29</td>\n",
       "    </tr>\n",
       "    <tr>\n",
       "      <th>std</th>\n",
       "      <td>3.27</td>\n",
       "      <td>10.93</td>\n",
       "      <td>31.33</td>\n",
       "      <td>65.47</td>\n",
       "      <td>127.77</td>\n",
       "      <td>97.89</td>\n",
       "      <td>120.99</td>\n",
       "      <td>0.54</td>\n",
       "      <td>83.75</td>\n",
       "      <td>6.60</td>\n",
       "      <td>218.75</td>\n",
       "      <td>8.84</td>\n",
       "      <td>107.41</td>\n",
       "      <td>37.53</td>\n",
       "      <td>102.64</td>\n",
       "    </tr>\n",
       "    <tr>\n",
       "      <th>min</th>\n",
       "      <td>0.00</td>\n",
       "      <td>0.00</td>\n",
       "      <td>0.00</td>\n",
       "      <td>0.00</td>\n",
       "      <td>1.00</td>\n",
       "      <td>0.00</td>\n",
       "      <td>0.00</td>\n",
       "      <td>0.00</td>\n",
       "      <td>0.00</td>\n",
       "      <td>0.00</td>\n",
       "      <td>0.00</td>\n",
       "      <td>0.00</td>\n",
       "      <td>1.00</td>\n",
       "      <td>0.00</td>\n",
       "      <td>0.00</td>\n",
       "    </tr>\n",
       "    <tr>\n",
       "      <th>25%</th>\n",
       "      <td>1.00</td>\n",
       "      <td>6.00</td>\n",
       "      <td>19.00</td>\n",
       "      <td>58.00</td>\n",
       "      <td>96.00</td>\n",
       "      <td>71.50</td>\n",
       "      <td>114.00</td>\n",
       "      <td>0.00</td>\n",
       "      <td>5.00</td>\n",
       "      <td>2.00</td>\n",
       "      <td>100.50</td>\n",
       "      <td>5.50</td>\n",
       "      <td>105.50</td>\n",
       "      <td>23.50</td>\n",
       "      <td>31.50</td>\n",
       "    </tr>\n",
       "    <tr>\n",
       "      <th>50%</th>\n",
       "      <td>2.00</td>\n",
       "      <td>13.00</td>\n",
       "      <td>36.00</td>\n",
       "      <td>94.00</td>\n",
       "      <td>159.00</td>\n",
       "      <td>127.00</td>\n",
       "      <td>172.00</td>\n",
       "      <td>0.00</td>\n",
       "      <td>13.00</td>\n",
       "      <td>7.00</td>\n",
       "      <td>221.00</td>\n",
       "      <td>11.00</td>\n",
       "      <td>175.00</td>\n",
       "      <td>43.00</td>\n",
       "      <td>74.00</td>\n",
       "    </tr>\n",
       "    <tr>\n",
       "      <th>75%</th>\n",
       "      <td>4.50</td>\n",
       "      <td>20.50</td>\n",
       "      <td>57.00</td>\n",
       "      <td>129.00</td>\n",
       "      <td>225.00</td>\n",
       "      <td>193.50</td>\n",
       "      <td>252.50</td>\n",
       "      <td>0.00</td>\n",
       "      <td>56.50</td>\n",
       "      <td>10.50</td>\n",
       "      <td>394.00</td>\n",
       "      <td>17.50</td>\n",
       "      <td>238.50</td>\n",
       "      <td>72.50</td>\n",
       "      <td>168.50</td>\n",
       "    </tr>\n",
       "    <tr>\n",
       "      <th>max</th>\n",
       "      <td>15.00</td>\n",
       "      <td>53.00</td>\n",
       "      <td>169.00</td>\n",
       "      <td>304.00</td>\n",
       "      <td>569.00</td>\n",
       "      <td>416.00</td>\n",
       "      <td>529.00</td>\n",
       "      <td>2.00</td>\n",
       "      <td>374.00</td>\n",
       "      <td>28.00</td>\n",
       "      <td>868.00</td>\n",
       "      <td>40.00</td>\n",
       "      <td>511.00</td>\n",
       "      <td>154.00</td>\n",
       "      <td>429.00</td>\n",
       "    </tr>\n",
       "  </tbody>\n",
       "</table>\n",
       "</div>"
      ],
      "text/plain": [
       "      Age 18-24  Age 25-34  Age 35-49  Age 50-64  Age 65+    Male  Female  \\\n",
       "mean       3.05      14.76      41.55      99.85   182.02  145.60  195.34   \n",
       "std        3.27      10.93      31.33      65.47   127.77   97.89  120.99   \n",
       "min        0.00       0.00       0.00       0.00     1.00    0.00    0.00   \n",
       "25%        1.00       6.00      19.00      58.00    96.00   71.50  114.00   \n",
       "50%        2.00      13.00      36.00      94.00   159.00  127.00  172.00   \n",
       "75%        4.50      20.50      57.00     129.00   225.00  193.50  252.50   \n",
       "max       15.00      53.00     169.00     304.00   569.00  416.00  529.00   \n",
       "\n",
       "      Gender Unknown  African American  Hispanic   White  Other Ethnicity  \\\n",
       "mean            0.29             53.22      7.64  267.67            12.70   \n",
       "std             0.54             83.75      6.60  218.75             8.84   \n",
       "min             0.00              0.00      0.00    0.00             0.00   \n",
       "25%             0.00              5.00      2.00  100.50             5.50   \n",
       "50%             0.00             13.00      7.00  221.00            11.00   \n",
       "75%             0.00             56.50     10.50  394.00            17.50   \n",
       "max             2.00            374.00     28.00  868.00            40.00   \n",
       "\n",
       "      Democrat  Independent  Republican  \n",
       "mean    179.14        51.80      110.29  \n",
       "std     107.41        37.53      102.64  \n",
       "min       1.00         0.00        0.00  \n",
       "25%     105.50        23.50       31.50  \n",
       "50%     175.00        43.00       74.00  \n",
       "75%     238.50        72.50      168.50  \n",
       "max     511.00       154.00      429.00  "
      ]
     },
     "execution_count": 24,
     "metadata": {},
     "output_type": "execute_result"
    }
   ],
   "source": [
    "summary_df"
   ]
  },
  {
   "cell_type": "code",
   "execution_count": 25,
   "metadata": {},
   "outputs": [],
   "source": [
    "summary_df.to_csv('../data/processed/2017_summary_stats.csv')"
   ]
  },
  {
   "cell_type": "markdown",
   "metadata": {},
   "source": [
    "---\n",
    "---"
   ]
  },
  {
   "cell_type": "code",
   "execution_count": null,
   "metadata": {},
   "outputs": [],
   "source": []
  },
  {
   "cell_type": "code",
   "execution_count": 26,
   "metadata": {},
   "outputs": [],
   "source": [
    "age_df = pd.read_csv('../data/processed/2017_VBM_age_breakdown.csv')\n",
    "gen_df = pd.read_csv('../data/processed/2017_VBM_gender_breakdown.csv')\n",
    "eth_df = pd.read_csv('../data/processed/2017_VBM_ethnicity_breakdown.csv')\n",
    "party_df = pd.read_csv('../data/processed/2017_VBM_party_breakdown.csv')\n",
    "\n",
    "age_df.drop('Total People', axis = 1, inplace = True)\n",
    "gen_df.drop('Total People', axis = 1, inplace = True)\n",
    "eth_df.drop('Total People', axis = 1, inplace = True)\n",
    "party_df.drop('Total People', axis = 1, inplace = True)\n",
    "\n",
    "age_df.set_index(age_df['Precinct'], inplace = True)\n",
    "age_df.drop('Precinct', axis = 1, inplace = True)\n",
    "gen_df.set_index(gen_df['Precinct'], inplace = True)\n",
    "gen_df.drop('Precinct', axis = 1, inplace = True)\n",
    "eth_df.set_index(eth_df['Precinct'], inplace = True)\n",
    "eth_df.drop('Precinct', axis = 1, inplace = True)\n",
    "party_df.set_index(party_df['Precinct'], inplace = True)\n",
    "party_df.drop('Precinct', axis = 1, inplace = True)"
   ]
  },
  {
   "cell_type": "code",
   "execution_count": 27,
   "metadata": {},
   "outputs": [],
   "source": [
    "age_cols = ['Age 18-24', 'Age 25-34', 'Age 35-49', 'Age 50-64', 'Age 65+']\n",
    "gen_cols = ['Male', 'Female', 'Gender Unknown']\n",
    "eth_cols = ['African American', 'Hispanic', 'White', 'Other Ethnicity']\n",
    "party_cols = ['Democrat', 'Independent', 'Republican']\n",
    "\n",
    "\n",
    "age_df[age_cols] = age_df[age_cols].div(age_df[age_cols].sum(axis=1), axis=0).round(3)\n",
    "gen_df[gen_cols] = gen_df[gen_cols].div(gen_df[gen_cols].sum(axis=1), axis=0).round(3)\n",
    "eth_df[eth_cols] = eth_df[eth_cols].div(eth_df[eth_cols].sum(axis=1), axis=0).round(3)\n",
    "party_df[party_cols] = party_df[party_cols].div(party_df[party_cols].sum(axis=1), axis=0).round(3)"
   ]
  },
  {
   "cell_type": "code",
   "execution_count": 28,
   "metadata": {},
   "outputs": [
    {
     "data": {
      "text/html": [
       "<div>\n",
       "<style scoped>\n",
       "    .dataframe tbody tr th:only-of-type {\n",
       "        vertical-align: middle;\n",
       "    }\n",
       "\n",
       "    .dataframe tbody tr th {\n",
       "        vertical-align: top;\n",
       "    }\n",
       "\n",
       "    .dataframe thead th {\n",
       "        text-align: right;\n",
       "    }\n",
       "</style>\n",
       "<table border=\"1\" class=\"dataframe\">\n",
       "  <thead>\n",
       "    <tr style=\"text-align: right;\">\n",
       "      <th></th>\n",
       "      <th>Age 18-24</th>\n",
       "      <th>Age 25-34</th>\n",
       "      <th>Age 35-49</th>\n",
       "      <th>Age 50-64</th>\n",
       "      <th>Age 65+</th>\n",
       "    </tr>\n",
       "    <tr>\n",
       "      <th>Precinct</th>\n",
       "      <th></th>\n",
       "      <th></th>\n",
       "      <th></th>\n",
       "      <th></th>\n",
       "      <th></th>\n",
       "    </tr>\n",
       "  </thead>\n",
       "  <tbody>\n",
       "    <tr>\n",
       "      <th>101</th>\n",
       "      <td>0.015</td>\n",
       "      <td>0.064</td>\n",
       "      <td>0.107</td>\n",
       "      <td>0.337</td>\n",
       "      <td>0.477</td>\n",
       "    </tr>\n",
       "    <tr>\n",
       "      <th>102</th>\n",
       "      <td>0.006</td>\n",
       "      <td>0.021</td>\n",
       "      <td>0.120</td>\n",
       "      <td>0.240</td>\n",
       "      <td>0.613</td>\n",
       "    </tr>\n",
       "    <tr>\n",
       "      <th>103</th>\n",
       "      <td>0.025</td>\n",
       "      <td>0.035</td>\n",
       "      <td>0.185</td>\n",
       "      <td>0.300</td>\n",
       "      <td>0.455</td>\n",
       "    </tr>\n",
       "    <tr>\n",
       "      <th>104</th>\n",
       "      <td>0.015</td>\n",
       "      <td>0.054</td>\n",
       "      <td>0.113</td>\n",
       "      <td>0.330</td>\n",
       "      <td>0.488</td>\n",
       "    </tr>\n",
       "    <tr>\n",
       "      <th>105</th>\n",
       "      <td>0.012</td>\n",
       "      <td>0.047</td>\n",
       "      <td>0.126</td>\n",
       "      <td>0.264</td>\n",
       "      <td>0.551</td>\n",
       "    </tr>\n",
       "    <tr>\n",
       "      <th>...</th>\n",
       "      <td>...</td>\n",
       "      <td>...</td>\n",
       "      <td>...</td>\n",
       "      <td>...</td>\n",
       "      <td>...</td>\n",
       "    </tr>\n",
       "    <tr>\n",
       "      <th>237</th>\n",
       "      <td>0.000</td>\n",
       "      <td>0.059</td>\n",
       "      <td>0.059</td>\n",
       "      <td>0.324</td>\n",
       "      <td>0.559</td>\n",
       "    </tr>\n",
       "    <tr>\n",
       "      <th>239</th>\n",
       "      <td>0.008</td>\n",
       "      <td>0.043</td>\n",
       "      <td>0.125</td>\n",
       "      <td>0.283</td>\n",
       "      <td>0.541</td>\n",
       "    </tr>\n",
       "    <tr>\n",
       "      <th>240</th>\n",
       "      <td>0.003</td>\n",
       "      <td>0.049</td>\n",
       "      <td>0.091</td>\n",
       "      <td>0.307</td>\n",
       "      <td>0.550</td>\n",
       "    </tr>\n",
       "    <tr>\n",
       "      <th>241</th>\n",
       "      <td>0.003</td>\n",
       "      <td>0.031</td>\n",
       "      <td>0.085</td>\n",
       "      <td>0.304</td>\n",
       "      <td>0.577</td>\n",
       "    </tr>\n",
       "    <tr>\n",
       "      <th>275</th>\n",
       "      <td>0.007</td>\n",
       "      <td>0.021</td>\n",
       "      <td>0.153</td>\n",
       "      <td>0.285</td>\n",
       "      <td>0.535</td>\n",
       "    </tr>\n",
       "  </tbody>\n",
       "</table>\n",
       "<p>91 rows × 5 columns</p>\n",
       "</div>"
      ],
      "text/plain": [
       "          Age 18-24  Age 25-34  Age 35-49  Age 50-64  Age 65+\n",
       "Precinct                                                     \n",
       "101           0.015      0.064      0.107      0.337    0.477\n",
       "102           0.006      0.021      0.120      0.240    0.613\n",
       "103           0.025      0.035      0.185      0.300    0.455\n",
       "104           0.015      0.054      0.113      0.330    0.488\n",
       "105           0.012      0.047      0.126      0.264    0.551\n",
       "...             ...        ...        ...        ...      ...\n",
       "237           0.000      0.059      0.059      0.324    0.559\n",
       "239           0.008      0.043      0.125      0.283    0.541\n",
       "240           0.003      0.049      0.091      0.307    0.550\n",
       "241           0.003      0.031      0.085      0.304    0.577\n",
       "275           0.007      0.021      0.153      0.285    0.535\n",
       "\n",
       "[91 rows x 5 columns]"
      ]
     },
     "execution_count": 28,
     "metadata": {},
     "output_type": "execute_result"
    }
   ],
   "source": [
    "age_df"
   ]
  },
  {
   "cell_type": "code",
   "execution_count": 29,
   "metadata": {},
   "outputs": [],
   "source": [
    "age_df.to_csv('../data/processed/2017_VBM_age_percentages.csv')\n",
    "gen_df.to_csv('../data/processed/2017_VBM_gender_percentages.csv')\n",
    "eth_df.to_csv('../data/processed/2017_VBM_ethnicity_percentages.csv')\n",
    "party_df.to_csv('../data/processed/2017_VBM_party_percentages.csv')"
   ]
  },
  {
   "cell_type": "markdown",
   "metadata": {},
   "source": [
    "---"
   ]
  },
  {
   "cell_type": "code",
   "execution_count": null,
   "metadata": {},
   "outputs": [],
   "source": []
  },
  {
   "cell_type": "markdown",
   "metadata": {},
   "source": [
    "---\n",
    "#### Age"
   ]
  },
  {
   "cell_type": "code",
   "execution_count": null,
   "metadata": {},
   "outputs": [],
   "source": []
  },
  {
   "cell_type": "code",
   "execution_count": null,
   "metadata": {},
   "outputs": [],
   "source": []
  },
  {
   "cell_type": "code",
   "execution_count": null,
   "metadata": {},
   "outputs": [],
   "source": []
  },
  {
   "cell_type": "code",
   "execution_count": null,
   "metadata": {},
   "outputs": [],
   "source": []
  },
  {
   "cell_type": "code",
   "execution_count": null,
   "metadata": {},
   "outputs": [],
   "source": []
  },
  {
   "cell_type": "markdown",
   "metadata": {},
   "source": [
    "---\n",
    "#### Gender"
   ]
  },
  {
   "cell_type": "code",
   "execution_count": null,
   "metadata": {},
   "outputs": [],
   "source": []
  },
  {
   "cell_type": "code",
   "execution_count": null,
   "metadata": {},
   "outputs": [],
   "source": []
  },
  {
   "cell_type": "code",
   "execution_count": null,
   "metadata": {},
   "outputs": [],
   "source": []
  },
  {
   "cell_type": "code",
   "execution_count": null,
   "metadata": {},
   "outputs": [],
   "source": []
  },
  {
   "cell_type": "code",
   "execution_count": null,
   "metadata": {},
   "outputs": [],
   "source": []
  },
  {
   "cell_type": "code",
   "execution_count": null,
   "metadata": {},
   "outputs": [],
   "source": []
  },
  {
   "cell_type": "code",
   "execution_count": null,
   "metadata": {},
   "outputs": [],
   "source": []
  },
  {
   "cell_type": "markdown",
   "metadata": {},
   "source": [
    "---\n",
    "#### Ethnicity"
   ]
  },
  {
   "cell_type": "code",
   "execution_count": null,
   "metadata": {},
   "outputs": [],
   "source": []
  },
  {
   "cell_type": "code",
   "execution_count": null,
   "metadata": {},
   "outputs": [],
   "source": []
  },
  {
   "cell_type": "code",
   "execution_count": null,
   "metadata": {},
   "outputs": [],
   "source": []
  },
  {
   "cell_type": "code",
   "execution_count": null,
   "metadata": {},
   "outputs": [],
   "source": []
  },
  {
   "cell_type": "code",
   "execution_count": null,
   "metadata": {},
   "outputs": [],
   "source": []
  },
  {
   "cell_type": "code",
   "execution_count": null,
   "metadata": {},
   "outputs": [],
   "source": []
  },
  {
   "cell_type": "markdown",
   "metadata": {},
   "source": [
    "---\n",
    "#### Party Affiliation"
   ]
  },
  {
   "cell_type": "code",
   "execution_count": null,
   "metadata": {},
   "outputs": [],
   "source": []
  },
  {
   "cell_type": "code",
   "execution_count": null,
   "metadata": {},
   "outputs": [],
   "source": []
  },
  {
   "cell_type": "code",
   "execution_count": null,
   "metadata": {},
   "outputs": [],
   "source": []
  },
  {
   "cell_type": "code",
   "execution_count": null,
   "metadata": {},
   "outputs": [],
   "source": []
  },
  {
   "cell_type": "code",
   "execution_count": null,
   "metadata": {},
   "outputs": [],
   "source": []
  },
  {
   "cell_type": "code",
   "execution_count": null,
   "metadata": {},
   "outputs": [],
   "source": []
  },
  {
   "cell_type": "code",
   "execution_count": null,
   "metadata": {},
   "outputs": [],
   "source": []
  },
  {
   "cell_type": "code",
   "execution_count": null,
   "metadata": {},
   "outputs": [],
   "source": []
  },
  {
   "cell_type": "code",
   "execution_count": null,
   "metadata": {},
   "outputs": [],
   "source": []
  }
 ],
 "metadata": {
  "kernelspec": {
   "display_name": "Python 3",
   "language": "python",
   "name": "python3"
  },
  "language_info": {
   "codemirror_mode": {
    "name": "ipython",
    "version": 3
   },
   "file_extension": ".py",
   "mimetype": "text/x-python",
   "name": "python",
   "nbconvert_exporter": "python",
   "pygments_lexer": "ipython3",
   "version": "3.8.5"
  }
 },
 "nbformat": 4,
 "nbformat_minor": 4
}
