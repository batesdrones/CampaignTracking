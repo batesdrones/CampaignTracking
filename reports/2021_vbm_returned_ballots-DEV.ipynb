{
 "cells": [
  {
   "cell_type": "markdown",
   "metadata": {},
   "source": [
    "![](../additional_materials/logos/darden_rice_logo_SM.png)"
   ]
  },
  {
   "cell_type": "markdown",
   "metadata": {},
   "source": [
    "### VBM Demographic Analysis - DEV ENVIRONMENT\n",
    "#### 2021 Municipal Primary, Ballots Returned\n",
    "---"
   ]
  },
  {
   "cell_type": "code",
   "execution_count": 1,
   "metadata": {},
   "outputs": [],
   "source": [
    "import pandas as pd\n",
    "from pandas.tseries.offsets import BDay\n",
    "pd.set_option('display.max_columns', None)\n",
    "\n",
    "import numpy as np\n",
    "import matplotlib.pyplot as plt\n",
    "import matplotlib.ticker as ticker\n",
    "import seaborn as sns\n",
    "\n",
    "import datetime"
   ]
  },
  {
   "cell_type": "markdown",
   "metadata": {},
   "source": [
    "---\n",
    "---\n",
    "### Instructions\n",
    "1. When you receive the daily VBM file, save it in the following location and format: `../data/raw/vbm_mm-dd-yy.txt`. The date *must* be formatted correctly for the analysis to work.\n",
    "2. Run this notebook! The output of the daily demographics and ballots returned csvs will be in the folder `../data/daily_vbm/`. The output of the daily visualizations PDF will be in the `../visualizations/` folder.\n",
    "3. If you're running this report on a date other than when you received the raw file from the campaign, be sure to update the variables in the first cell so the correct dates are referenced. By default, this code assumes the day you run the report is the same as the date the reort was received.\n",
    "---"
   ]
  },
  {
   "cell_type": "code",
   "execution_count": 29,
   "metadata": {},
   "outputs": [],
   "source": [
    "today = datetime.date.today().strftime('%m-%d-%y')\n",
    "# In the following line 'BDay(1)' signifies 1 business day, and is subtracted from the current date\n",
    "preceding_rpt_date = (datetime.date.today() - BDay(1)).strftime('%m-%d-%y')\n",
    "\n",
    "read_file = f'../data/raw/vbm_{today}.txt'\n",
    "preceding_rpt_file = f'../data/daily_vbm/{preceding_rpt_date}_VBM_ballots_returned.csv'\n",
    "\n",
    "# Demographics breakdown df will save to this location\n",
    "demographics_write_file = f'../data/daily_vbm/{today}_VBM_demographics.csv'\n",
    "\n",
    "# Daily ballots df will save to this location\n",
    "daily_ballots_write_file = f'../data/daily_vbm/{today}_VBM_ballots_returned.csv'\n",
    "\n",
    "# Daily ballots visualizations will save to this location\n",
    "viz_file = f'../visualizations/{today}_VBM_demographics_viz.pdf'"
   ]
  },
  {
   "cell_type": "code",
   "execution_count": null,
   "metadata": {},
   "outputs": [],
   "source": [
    "print(read_file)\n",
    "print(preceding_rpt_file)\n",
    "print(demographics_write_file)\n",
    "print(daily_ballots_write_file)\n",
    "print(viz_file)"
   ]
  },
  {
   "cell_type": "markdown",
   "metadata": {},
   "source": [
    "---\n",
    "---"
   ]
  },
  {
   "cell_type": "markdown",
   "metadata": {},
   "source": [
    "### Section 1: Demographic Breakdowns"
   ]
  },
  {
   "cell_type": "code",
   "execution_count": 3,
   "metadata": {},
   "outputs": [],
   "source": [
    "df = pd.read_csv(read_file)"
   ]
  },
  {
   "cell_type": "code",
   "execution_count": 4,
   "metadata": {},
   "outputs": [
    {
     "data": {
      "text/html": [
       "<div>\n",
       "<style scoped>\n",
       "    .dataframe tbody tr th:only-of-type {\n",
       "        vertical-align: middle;\n",
       "    }\n",
       "\n",
       "    .dataframe tbody tr th {\n",
       "        vertical-align: top;\n",
       "    }\n",
       "\n",
       "    .dataframe thead th {\n",
       "        text-align: right;\n",
       "    }\n",
       "</style>\n",
       "<table border=\"1\" class=\"dataframe\">\n",
       "  <thead>\n",
       "    <tr style=\"text-align: right;\">\n",
       "      <th></th>\n",
       "      <th>VoterID</th>\n",
       "      <th>Voter_Name</th>\n",
       "      <th>Last_Name</th>\n",
       "      <th>First_Name</th>\n",
       "      <th>Middle_Name</th>\n",
       "      <th>Name_Style</th>\n",
       "      <th>Formatted_Address</th>\n",
       "      <th>City_State</th>\n",
       "      <th>Zip_Country</th>\n",
       "      <th>Residence_Address</th>\n",
       "      <th>Street_Number</th>\n",
       "      <th>Street_Number_Suffix</th>\n",
       "      <th>Street_Dir</th>\n",
       "      <th>Street_Name</th>\n",
       "      <th>Street_Type</th>\n",
       "      <th>Street_Dir_Suffix</th>\n",
       "      <th>Unit_Type</th>\n",
       "      <th>Apartment_Number</th>\n",
       "      <th>Zip_Code</th>\n",
       "      <th>City_Name</th>\n",
       "      <th>Mailing_Address_1</th>\n",
       "      <th>Mailing_Address_2</th>\n",
       "      <th>Mailing_Address_3</th>\n",
       "      <th>Mailing_Address_4</th>\n",
       "      <th>Mailing_City</th>\n",
       "      <th>Mailing_State</th>\n",
       "      <th>Mailing_zip</th>\n",
       "      <th>Mailing_Country</th>\n",
       "      <th>Race</th>\n",
       "      <th>Sex</th>\n",
       "      <th>Birth_Date</th>\n",
       "      <th>Registration_Date</th>\n",
       "      <th>Congressional_District</th>\n",
       "      <th>Party</th>\n",
       "      <th>Precinct</th>\n",
       "      <th>House_District</th>\n",
       "      <th>Senate_District</th>\n",
       "      <th>Commission_District</th>\n",
       "      <th>School_Board_District</th>\n",
       "      <th>Assistance_Required</th>\n",
       "      <th>Mailing_Address_Flag</th>\n",
       "      <th>City_Code</th>\n",
       "      <th>City_Ward</th>\n",
       "      <th>Telephone_Number</th>\n",
       "      <th>Voter_Status</th>\n",
       "      <th>Sample_Ballots_By_Email</th>\n",
       "      <th>Vote_by_Mail_Email_Address</th>\n",
       "      <th>Public_Email_Address</th>\n",
       "    </tr>\n",
       "  </thead>\n",
       "  <tbody>\n",
       "    <tr>\n",
       "      <th>0</th>\n",
       "      <td>107077259</td>\n",
       "      <td>ACKLIN JR, ERNEST B</td>\n",
       "      <td>ACKLIN</td>\n",
       "      <td>ERNEST</td>\n",
       "      <td>BOYD</td>\n",
       "      <td>JR</td>\n",
       "      <td>1110 42ND AVE N</td>\n",
       "      <td>ST PETERSBURG FL</td>\n",
       "      <td>33703</td>\n",
       "      <td>1110 42ND AVE N</td>\n",
       "      <td>1110</td>\n",
       "      <td>NaN</td>\n",
       "      <td>NaN</td>\n",
       "      <td>42ND</td>\n",
       "      <td>AVE</td>\n",
       "      <td>N</td>\n",
       "      <td>NaN</td>\n",
       "      <td>NaN</td>\n",
       "      <td>33703</td>\n",
       "      <td>ST PETERSBURG</td>\n",
       "      <td>1110 42ND AVE N</td>\n",
       "      <td>ST PETERSBURG FL 33703</td>\n",
       "      <td>NaN</td>\n",
       "      <td>NaN</td>\n",
       "      <td>ST PETERSBURG</td>\n",
       "      <td>FL</td>\n",
       "      <td>33703</td>\n",
       "      <td>NaN</td>\n",
       "      <td>5</td>\n",
       "      <td>M</td>\n",
       "      <td>04/19/1936</td>\n",
       "      <td>08/27/1996</td>\n",
       "      <td>13</td>\n",
       "      <td>REP</td>\n",
       "      <td>140.0</td>\n",
       "      <td>68</td>\n",
       "      <td>24</td>\n",
       "      <td>6</td>\n",
       "      <td>6</td>\n",
       "      <td>N</td>\n",
       "      <td>N</td>\n",
       "      <td>21</td>\n",
       "      <td>213</td>\n",
       "      <td>NaN</td>\n",
       "      <td>ACT</td>\n",
       "      <td>NaN</td>\n",
       "      <td>NaN</td>\n",
       "      <td>NaN</td>\n",
       "    </tr>\n",
       "    <tr>\n",
       "      <th>1</th>\n",
       "      <td>106696900</td>\n",
       "      <td>ACKROYD, LETITIA J</td>\n",
       "      <td>ACKROYD</td>\n",
       "      <td>LETITIA</td>\n",
       "      <td>J</td>\n",
       "      <td>NaN</td>\n",
       "      <td>6496 27TH AVE N</td>\n",
       "      <td>ST PETERSBURG FL</td>\n",
       "      <td>33710</td>\n",
       "      <td>6496 27TH AVE N</td>\n",
       "      <td>6496</td>\n",
       "      <td>NaN</td>\n",
       "      <td>NaN</td>\n",
       "      <td>27TH</td>\n",
       "      <td>AVE</td>\n",
       "      <td>N</td>\n",
       "      <td>NaN</td>\n",
       "      <td>NaN</td>\n",
       "      <td>33710</td>\n",
       "      <td>ST PETERSBURG</td>\n",
       "      <td>6496 27TH AVE N</td>\n",
       "      <td>ST PETERSBURG FL 33710</td>\n",
       "      <td>NaN</td>\n",
       "      <td>NaN</td>\n",
       "      <td>ST PETERSBURG</td>\n",
       "      <td>FL</td>\n",
       "      <td>33710</td>\n",
       "      <td>NaN</td>\n",
       "      <td>5</td>\n",
       "      <td>F</td>\n",
       "      <td>05/16/1937</td>\n",
       "      <td>09/27/1960</td>\n",
       "      <td>13</td>\n",
       "      <td>REP</td>\n",
       "      <td>230.0</td>\n",
       "      <td>69</td>\n",
       "      <td>24</td>\n",
       "      <td>7</td>\n",
       "      <td>7</td>\n",
       "      <td>N</td>\n",
       "      <td>N</td>\n",
       "      <td>21</td>\n",
       "      <td>211</td>\n",
       "      <td>NaN</td>\n",
       "      <td>ACT</td>\n",
       "      <td>NaN</td>\n",
       "      <td>NaN</td>\n",
       "      <td>NaN</td>\n",
       "    </tr>\n",
       "    <tr>\n",
       "      <th>2</th>\n",
       "      <td>106687733</td>\n",
       "      <td>ADAMS, JAMES D</td>\n",
       "      <td>ADAMS</td>\n",
       "      <td>JAMES</td>\n",
       "      <td>D</td>\n",
       "      <td>NaN</td>\n",
       "      <td>6287 33RD AVE N</td>\n",
       "      <td>ST PETERSBURG FL</td>\n",
       "      <td>33710</td>\n",
       "      <td>6287 33RD AVE N</td>\n",
       "      <td>6287</td>\n",
       "      <td>NaN</td>\n",
       "      <td>NaN</td>\n",
       "      <td>33RD</td>\n",
       "      <td>AVE</td>\n",
       "      <td>N</td>\n",
       "      <td>NaN</td>\n",
       "      <td>NaN</td>\n",
       "      <td>33710</td>\n",
       "      <td>ST PETERSBURG</td>\n",
       "      <td>6287 33RD AVE N</td>\n",
       "      <td>ST PETERSBURG FL 33710</td>\n",
       "      <td>NaN</td>\n",
       "      <td>NaN</td>\n",
       "      <td>ST PETERSBURG</td>\n",
       "      <td>FL</td>\n",
       "      <td>33710</td>\n",
       "      <td>NaN</td>\n",
       "      <td>5</td>\n",
       "      <td>M</td>\n",
       "      <td>12/24/1943</td>\n",
       "      <td>12/30/1965</td>\n",
       "      <td>13</td>\n",
       "      <td>DEM</td>\n",
       "      <td>231.0</td>\n",
       "      <td>69</td>\n",
       "      <td>24</td>\n",
       "      <td>7</td>\n",
       "      <td>7</td>\n",
       "      <td>N</td>\n",
       "      <td>N</td>\n",
       "      <td>21</td>\n",
       "      <td>211</td>\n",
       "      <td>NaN</td>\n",
       "      <td>ACT</td>\n",
       "      <td>NaN</td>\n",
       "      <td>NaN</td>\n",
       "      <td>NaN</td>\n",
       "    </tr>\n",
       "  </tbody>\n",
       "</table>\n",
       "</div>"
      ],
      "text/plain": [
       "     VoterID           Voter_Name Last_Name First_Name Middle_Name Name_Style  \\\n",
       "0  107077259  ACKLIN JR, ERNEST B    ACKLIN     ERNEST        BOYD         JR   \n",
       "1  106696900   ACKROYD, LETITIA J   ACKROYD    LETITIA           J        NaN   \n",
       "2  106687733       ADAMS, JAMES D     ADAMS      JAMES           D        NaN   \n",
       "\n",
       "  Formatted_Address        City_State Zip_Country Residence_Address  \\\n",
       "0   1110 42ND AVE N  ST PETERSBURG FL       33703   1110 42ND AVE N   \n",
       "1   6496 27TH AVE N  ST PETERSBURG FL       33710   6496 27TH AVE N   \n",
       "2   6287 33RD AVE N  ST PETERSBURG FL       33710   6287 33RD AVE N   \n",
       "\n",
       "   Street_Number Street_Number_Suffix Street_Dir Street_Name Street_Type  \\\n",
       "0           1110                  NaN        NaN        42ND         AVE   \n",
       "1           6496                  NaN        NaN        27TH         AVE   \n",
       "2           6287                  NaN        NaN        33RD         AVE   \n",
       "\n",
       "  Street_Dir_Suffix Unit_Type Apartment_Number Zip_Code      City_Name  \\\n",
       "0                 N       NaN              NaN    33703  ST PETERSBURG   \n",
       "1                 N       NaN              NaN    33710  ST PETERSBURG   \n",
       "2                 N       NaN              NaN    33710  ST PETERSBURG   \n",
       "\n",
       "  Mailing_Address_1       Mailing_Address_2 Mailing_Address_3  \\\n",
       "0   1110 42ND AVE N  ST PETERSBURG FL 33703               NaN   \n",
       "1   6496 27TH AVE N  ST PETERSBURG FL 33710               NaN   \n",
       "2   6287 33RD AVE N  ST PETERSBURG FL 33710               NaN   \n",
       "\n",
       "   Mailing_Address_4   Mailing_City Mailing_State Mailing_zip  \\\n",
       "0                NaN  ST PETERSBURG            FL       33703   \n",
       "1                NaN  ST PETERSBURG            FL       33710   \n",
       "2                NaN  ST PETERSBURG            FL       33710   \n",
       "\n",
       "   Mailing_Country  Race Sex  Birth_Date Registration_Date  \\\n",
       "0              NaN     5   M  04/19/1936        08/27/1996   \n",
       "1              NaN     5   F  05/16/1937        09/27/1960   \n",
       "2              NaN     5   M  12/24/1943        12/30/1965   \n",
       "\n",
       "   Congressional_District Party  Precinct  House_District  Senate_District  \\\n",
       "0                      13   REP     140.0              68               24   \n",
       "1                      13   REP     230.0              69               24   \n",
       "2                      13   DEM     231.0              69               24   \n",
       "\n",
       "   Commission_District  School_Board_District Assistance_Required  \\\n",
       "0                    6                      6                   N   \n",
       "1                    7                      7                   N   \n",
       "2                    7                      7                   N   \n",
       "\n",
       "  Mailing_Address_Flag  City_Code  City_Ward Telephone_Number Voter_Status  \\\n",
       "0                    N         21        213              NaN          ACT   \n",
       "1                    N         21        211              NaN          ACT   \n",
       "2                    N         21        211              NaN          ACT   \n",
       "\n",
       "  Sample_Ballots_By_Email Vote_by_Mail_Email_Address Public_Email_Address  \n",
       "0                     NaN                        NaN                  NaN  \n",
       "1                     NaN                        NaN                  NaN  \n",
       "2                     NaN                        NaN                  NaN  "
      ]
     },
     "execution_count": 4,
     "metadata": {},
     "output_type": "execute_result"
    }
   ],
   "source": [
    "df.head(3)"
   ]
  },
  {
   "cell_type": "code",
   "execution_count": 5,
   "metadata": {},
   "outputs": [
    {
     "data": {
      "text/plain": [
       "(1028, 48)"
      ]
     },
     "execution_count": 5,
     "metadata": {},
     "output_type": "execute_result"
    }
   ],
   "source": [
    "df.shape"
   ]
  },
  {
   "cell_type": "code",
   "execution_count": 6,
   "metadata": {},
   "outputs": [],
   "source": [
    "# Extract and assign age based on birth date\n",
    "def age(bday):\n",
    "    bday = datetime.datetime.strptime(bday, '%m/%d/%Y').date()\n",
    "    today = datetime.date.today()\n",
    "    return today.year - bday.year - ((today.month, today.day) < (bday.month, bday.day))\n",
    "\n",
    "# Create column to hold ages\n",
    "df['Age'] = df['Birth_Date'].apply(age)"
   ]
  },
  {
   "cell_type": "code",
   "execution_count": 7,
   "metadata": {},
   "outputs": [],
   "source": [
    "# Relabel race based on data dictionary (see '../data/VBM_Report_Codes.txt')\n",
    "eth_dict = {1: 'Native American/Alaskan', 2: 'Asian or Pacific Isl', 3: 'African American', \n",
    "            4: 'Hispanic', 5: 'White', 6: 'Other', 7: 'Multi-Racial', 9: 'Unknown'}\n",
    "\n",
    "df['Race'] = df['Race'].map(eth_dict)"
   ]
  },
  {
   "cell_type": "code",
   "execution_count": 8,
   "metadata": {},
   "outputs": [],
   "source": [
    "# Dataframe columns to keep for analysis\n",
    "keep_columns = ['Precinct', 'Sex', 'Race', 'Party', 'Age']\n",
    "\n",
    "# Set dataframe to contain only the features in 'keep_columns'\n",
    "df = df[keep_columns].copy()\n",
    "\n",
    "# Cast the precincts as integers\n",
    "df['Precinct'] = df['Precinct'].astype(int)\n",
    "\n",
    "# Rename columns to match mailed ballot analysis\n",
    "df = df.rename({'Sex': 'Gender', 'Race': 'Ethnicity'}, axis=1)"
   ]
  },
  {
   "cell_type": "code",
   "execution_count": 9,
   "metadata": {},
   "outputs": [],
   "source": [
    "# Sort in order of precinct\n",
    "df = df.sort_values('Precinct', axis=0)\n",
    "df.reset_index(drop=True, inplace=True)"
   ]
  },
  {
   "cell_type": "code",
   "execution_count": 10,
   "metadata": {},
   "outputs": [
    {
     "data": {
      "text/html": [
       "<div>\n",
       "<style scoped>\n",
       "    .dataframe tbody tr th:only-of-type {\n",
       "        vertical-align: middle;\n",
       "    }\n",
       "\n",
       "    .dataframe tbody tr th {\n",
       "        vertical-align: top;\n",
       "    }\n",
       "\n",
       "    .dataframe thead th {\n",
       "        text-align: right;\n",
       "    }\n",
       "</style>\n",
       "<table border=\"1\" class=\"dataframe\">\n",
       "  <thead>\n",
       "    <tr style=\"text-align: right;\">\n",
       "      <th></th>\n",
       "      <th>Precinct</th>\n",
       "      <th>Gender</th>\n",
       "      <th>Ethnicity</th>\n",
       "      <th>Party</th>\n",
       "      <th>Age</th>\n",
       "    </tr>\n",
       "  </thead>\n",
       "  <tbody>\n",
       "    <tr>\n",
       "      <th>0</th>\n",
       "      <td>101</td>\n",
       "      <td>U</td>\n",
       "      <td>African American</td>\n",
       "      <td>DEM</td>\n",
       "      <td>26</td>\n",
       "    </tr>\n",
       "    <tr>\n",
       "      <th>1</th>\n",
       "      <td>101</td>\n",
       "      <td>M</td>\n",
       "      <td>Asian or Pacific Isl</td>\n",
       "      <td>DEM</td>\n",
       "      <td>65</td>\n",
       "    </tr>\n",
       "    <tr>\n",
       "      <th>2</th>\n",
       "      <td>101</td>\n",
       "      <td>F</td>\n",
       "      <td>White</td>\n",
       "      <td>REP</td>\n",
       "      <td>81</td>\n",
       "    </tr>\n",
       "  </tbody>\n",
       "</table>\n",
       "</div>"
      ],
      "text/plain": [
       "   Precinct Gender             Ethnicity Party  Age\n",
       "0       101      U      African American   DEM   26\n",
       "1       101      M  Asian or Pacific Isl   DEM   65\n",
       "2       101      F                 White   REP   81"
      ]
     },
     "execution_count": 10,
     "metadata": {},
     "output_type": "execute_result"
    }
   ],
   "source": [
    "df.head(3)"
   ]
  },
  {
   "cell_type": "code",
   "execution_count": 11,
   "metadata": {},
   "outputs": [
    {
     "data": {
      "text/html": [
       "<div>\n",
       "<style scoped>\n",
       "    .dataframe tbody tr th:only-of-type {\n",
       "        vertical-align: middle;\n",
       "    }\n",
       "\n",
       "    .dataframe tbody tr th {\n",
       "        vertical-align: top;\n",
       "    }\n",
       "\n",
       "    .dataframe thead th {\n",
       "        text-align: right;\n",
       "    }\n",
       "</style>\n",
       "<table border=\"1\" class=\"dataframe\">\n",
       "  <thead>\n",
       "    <tr style=\"text-align: right;\">\n",
       "      <th></th>\n",
       "      <th>Precinct</th>\n",
       "      <th>Gender</th>\n",
       "      <th>Ethnicity</th>\n",
       "      <th>Party</th>\n",
       "      <th>Age</th>\n",
       "    </tr>\n",
       "  </thead>\n",
       "  <tbody>\n",
       "    <tr>\n",
       "      <th>1025</th>\n",
       "      <td>275</td>\n",
       "      <td>F</td>\n",
       "      <td>White</td>\n",
       "      <td>REP</td>\n",
       "      <td>77</td>\n",
       "    </tr>\n",
       "    <tr>\n",
       "      <th>1026</th>\n",
       "      <td>275</td>\n",
       "      <td>F</td>\n",
       "      <td>White</td>\n",
       "      <td>REP</td>\n",
       "      <td>61</td>\n",
       "    </tr>\n",
       "    <tr>\n",
       "      <th>1027</th>\n",
       "      <td>275</td>\n",
       "      <td>F</td>\n",
       "      <td>White</td>\n",
       "      <td>REP</td>\n",
       "      <td>34</td>\n",
       "    </tr>\n",
       "  </tbody>\n",
       "</table>\n",
       "</div>"
      ],
      "text/plain": [
       "      Precinct Gender Ethnicity Party  Age\n",
       "1025       275      F     White   REP   77\n",
       "1026       275      F     White   REP   61\n",
       "1027       275      F     White   REP   34"
      ]
     },
     "execution_count": 11,
     "metadata": {},
     "output_type": "execute_result"
    }
   ],
   "source": [
    "df.tail(3)"
   ]
  },
  {
   "cell_type": "code",
   "execution_count": 12,
   "metadata": {},
   "outputs": [
    {
     "name": "stdout",
     "output_type": "stream",
     "text": [
      "<class 'pandas.core.frame.DataFrame'>\n",
      "RangeIndex: 1028 entries, 0 to 1027\n",
      "Data columns (total 5 columns):\n",
      " #   Column     Non-Null Count  Dtype \n",
      "---  ------     --------------  ----- \n",
      " 0   Precinct   1028 non-null   int64 \n",
      " 1   Gender     1028 non-null   object\n",
      " 2   Ethnicity  1028 non-null   object\n",
      " 3   Party      1028 non-null   object\n",
      " 4   Age        1028 non-null   int64 \n",
      "dtypes: int64(2), object(3)\n",
      "memory usage: 40.3+ KB\n"
     ]
    }
   ],
   "source": [
    "df.info()"
   ]
  },
  {
   "cell_type": "code",
   "execution_count": 13,
   "metadata": {},
   "outputs": [
    {
     "name": "stdout",
     "output_type": "stream",
     "text": [
      "['U' 'M' 'F']\n",
      "['African American' 'Asian or Pacific Isl' 'White' 'Other'\n",
      " 'Native American/Alaskan' 'Hispanic' 'Multi-Racial' 'Unknown']\n",
      "['DEM' 'REP' 'NPA' 'LPF' 'IND']\n"
     ]
    }
   ],
   "source": [
    "print(df['Gender'].unique())\n",
    "print(df['Ethnicity'].unique())\n",
    "print(df['Party'].unique())"
   ]
  },
  {
   "cell_type": "code",
   "execution_count": 14,
   "metadata": {},
   "outputs": [
    {
     "data": {
      "text/plain": [
       "F    583\n",
       "M    430\n",
       "U     15\n",
       "Name: Gender, dtype: int64"
      ]
     },
     "execution_count": 14,
     "metadata": {},
     "output_type": "execute_result"
    }
   ],
   "source": [
    "df['Gender'].value_counts()"
   ]
  },
  {
   "cell_type": "markdown",
   "metadata": {},
   "source": [
    "---\n",
    "---\n",
    "**BELOW:** This is the count of total ballots returned **only** for the current reporting date. It is **not** a running total of ballots returned."
   ]
  },
  {
   "cell_type": "code",
   "execution_count": 16,
   "metadata": {},
   "outputs": [
    {
     "data": {
      "text/plain": [
       "1028"
      ]
     },
     "execution_count": 16,
     "metadata": {},
     "output_type": "execute_result"
    }
   ],
   "source": [
    "total_daily_ballots = len(df)\n",
    "total_daily_ballots"
   ]
  },
  {
   "cell_type": "code",
   "execution_count": 15,
   "metadata": {},
   "outputs": [],
   "source": [
    "# Save formatted df\n",
    "df.to_csv(demographics_write_file, index=False)"
   ]
  },
  {
   "cell_type": "markdown",
   "metadata": {},
   "source": [
    "---\n",
    "---"
   ]
  },
  {
   "cell_type": "markdown",
   "metadata": {},
   "source": [
    "### Demographic Visualizations"
   ]
  },
  {
   "cell_type": "code",
   "execution_count": 27,
   "metadata": {},
   "outputs": [],
   "source": [
    "fig_title = f'Daily Demographic Breakdown {today}\\nTotal VBM Ballots Returned Today: {total_daily_ballots}'"
   ]
  },
  {
   "cell_type": "code",
   "execution_count": 18,
   "metadata": {},
   "outputs": [
    {
     "data": {
      "image/png": "[encoded data removed]",
      "text/plain": [
       "<Figure size 1800x1224 with 4 Axes>"
      ]
     },
     "metadata": {
      "needs_background": "light"
     },
     "output_type": "display_data"
    }
   ],
   "source": [
    "# Plot daily demographic breakdown by gender, ethnicity, party affiliation, and age\n",
    "fig, axes = plt.subplots(2, 2, figsize=(25, 17))\n",
    "fig.suptitle(fig_title, size=21)\n",
    "# Uncomment, change date, and run the following line INSTEAD OF the immediately preceding line if date of reporting is different from VBM return date\n",
    "# fig.suptitle('Daily Demographic Breakdown 08-09-21', size=21)\n",
    "\n",
    "# Gender subplot\n",
    "genplot = sns.countplot(ax=axes[0, 0], data=df, x='Gender')\n",
    "genplot.set_title('Gender', size=17)\n",
    "\n",
    "# Ethnicity subplot\n",
    "ethplot = sns.countplot(ax=axes[1, 0], data=df, x='Ethnicity')\n",
    "ethplot.set_title('Ethnicity', size=17)\n",
    "\n",
    "# Party subplot\n",
    "partyplot = sns.countplot(ax=axes[0, 1], data=df, x='Party')\n",
    "partyplot.set_title('Party', size=17)\n",
    "\n",
    "# Age subplot\n",
    "ageplot = sns.countplot(ax=axes[1, 1], data=df, x='Age')\n",
    "ageplot.xaxis.set_major_locator(ticker.MultipleLocator(10)) \n",
    "x = df['Age'].value_counts()\n",
    "plt.yticks(np.arange(0, max(x)+1, 5)) \n",
    "ageplot.set_title('Age', size=17)\n",
    "\n",
    "\n",
    "# Save the plot\n",
    "plt.savefig(viz_file, dpi=300)\n",
    "\n",
    "plt.show()"
   ]
  },
  {
   "cell_type": "markdown",
   "metadata": {},
   "source": [
    "---\n",
    "---"
   ]
  },
  {
   "cell_type": "markdown",
   "metadata": {},
   "source": [
    "### Section 2: VBM Ballot Counts"
   ]
  },
  {
   "cell_type": "code",
   "execution_count": 19,
   "metadata": {},
   "outputs": [],
   "source": [
    "# Create df of ballots received by precinct\n",
    "precinct_df = df['Precinct'].value_counts().rename_axis('Precinct').reset_index(name='VBM Ballots Returned Today')\n",
    "precinct_df = precinct_df.sort_values('Precinct', axis=0)\n",
    "precinct_df.reset_index(drop=True, inplace=True)"
   ]
  },
  {
   "cell_type": "code",
   "execution_count": 20,
   "metadata": {},
   "outputs": [
    {
     "data": {
      "text/html": [
       "<div>\n",
       "<style scoped>\n",
       "    .dataframe tbody tr th:only-of-type {\n",
       "        vertical-align: middle;\n",
       "    }\n",
       "\n",
       "    .dataframe tbody tr th {\n",
       "        vertical-align: top;\n",
       "    }\n",
       "\n",
       "    .dataframe thead th {\n",
       "        text-align: right;\n",
       "    }\n",
       "</style>\n",
       "<table border=\"1\" class=\"dataframe\">\n",
       "  <thead>\n",
       "    <tr style=\"text-align: right;\">\n",
       "      <th></th>\n",
       "      <th>Precinct</th>\n",
       "      <th>VBM Ballots Returned Today</th>\n",
       "    </tr>\n",
       "  </thead>\n",
       "  <tbody>\n",
       "    <tr>\n",
       "      <th>0</th>\n",
       "      <td>101</td>\n",
       "      <td>14</td>\n",
       "    </tr>\n",
       "    <tr>\n",
       "      <th>1</th>\n",
       "      <td>102</td>\n",
       "      <td>7</td>\n",
       "    </tr>\n",
       "    <tr>\n",
       "      <th>2</th>\n",
       "      <td>103</td>\n",
       "      <td>3</td>\n",
       "    </tr>\n",
       "  </tbody>\n",
       "</table>\n",
       "</div>"
      ],
      "text/plain": [
       "   Precinct  VBM Ballots Returned Today\n",
       "0       101                          14\n",
       "1       102                           7\n",
       "2       103                           3"
      ]
     },
     "execution_count": 20,
     "metadata": {},
     "output_type": "execute_result"
    }
   ],
   "source": [
    "precinct_df.head(3)"
   ]
  },
  {
   "cell_type": "code",
   "execution_count": 21,
   "metadata": {},
   "outputs": [],
   "source": [
    "# Read in total requested ballots by precinct for comparison\n",
    "requested_df = pd.read_csv('../data/processed/2021_VBM_mailed_ballots_master.csv')\n",
    "\n",
    "requested_df = requested_df[['Precinct', 'Total People']]"
   ]
  },
  {
   "cell_type": "code",
   "execution_count": 22,
   "metadata": {},
   "outputs": [],
   "source": [
    "precinct_df = requested_df.merge(precinct_df, how='left', left_on='Precinct', right_on='Precinct')\n",
    "\n",
    "# Fill nulls in 'VBM Ballots Returned Today' with a value of 0\n",
    "precinct_df['VBM Ballots Returned Today'].fillna(0, inplace=True)\n",
    "\n",
    "# Cast as integers\n",
    "precinct_df['VBM Ballots Returned Today'] = precinct_df['VBM Ballots Returned Today'].astype(int)"
   ]
  },
  {
   "cell_type": "code",
   "execution_count": 23,
   "metadata": {},
   "outputs": [
    {
     "data": {
      "text/html": [
       "<div>\n",
       "<style scoped>\n",
       "    .dataframe tbody tr th:only-of-type {\n",
       "        vertical-align: middle;\n",
       "    }\n",
       "\n",
       "    .dataframe tbody tr th {\n",
       "        vertical-align: top;\n",
       "    }\n",
       "\n",
       "    .dataframe thead th {\n",
       "        text-align: right;\n",
       "    }\n",
       "</style>\n",
       "<table border=\"1\" class=\"dataframe\">\n",
       "  <thead>\n",
       "    <tr style=\"text-align: right;\">\n",
       "      <th></th>\n",
       "      <th>Precinct</th>\n",
       "      <th>Total People</th>\n",
       "      <th>VBM Ballots Returned Today</th>\n",
       "    </tr>\n",
       "  </thead>\n",
       "  <tbody>\n",
       "    <tr>\n",
       "      <th>0</th>\n",
       "      <td>101</td>\n",
       "      <td>2006</td>\n",
       "      <td>14</td>\n",
       "    </tr>\n",
       "    <tr>\n",
       "      <th>1</th>\n",
       "      <td>102</td>\n",
       "      <td>965</td>\n",
       "      <td>7</td>\n",
       "    </tr>\n",
       "    <tr>\n",
       "      <th>2</th>\n",
       "      <td>103</td>\n",
       "      <td>485</td>\n",
       "      <td>3</td>\n",
       "    </tr>\n",
       "    <tr>\n",
       "      <th>3</th>\n",
       "      <td>104</td>\n",
       "      <td>956</td>\n",
       "      <td>3</td>\n",
       "    </tr>\n",
       "    <tr>\n",
       "      <th>4</th>\n",
       "      <td>105</td>\n",
       "      <td>1994</td>\n",
       "      <td>16</td>\n",
       "    </tr>\n",
       "    <tr>\n",
       "      <th>...</th>\n",
       "      <td>...</td>\n",
       "      <td>...</td>\n",
       "      <td>...</td>\n",
       "    </tr>\n",
       "    <tr>\n",
       "      <th>86</th>\n",
       "      <td>237</td>\n",
       "      <td>110</td>\n",
       "      <td>2</td>\n",
       "    </tr>\n",
       "    <tr>\n",
       "      <th>87</th>\n",
       "      <td>239</td>\n",
       "      <td>1687</td>\n",
       "      <td>20</td>\n",
       "    </tr>\n",
       "    <tr>\n",
       "      <th>88</th>\n",
       "      <td>240</td>\n",
       "      <td>909</td>\n",
       "      <td>8</td>\n",
       "    </tr>\n",
       "    <tr>\n",
       "      <th>89</th>\n",
       "      <td>241</td>\n",
       "      <td>1106</td>\n",
       "      <td>23</td>\n",
       "    </tr>\n",
       "    <tr>\n",
       "      <th>90</th>\n",
       "      <td>275</td>\n",
       "      <td>469</td>\n",
       "      <td>3</td>\n",
       "    </tr>\n",
       "  </tbody>\n",
       "</table>\n",
       "<p>91 rows × 3 columns</p>\n",
       "</div>"
      ],
      "text/plain": [
       "    Precinct  Total People  VBM Ballots Returned Today\n",
       "0        101          2006                          14\n",
       "1        102           965                           7\n",
       "2        103           485                           3\n",
       "3        104           956                           3\n",
       "4        105          1994                          16\n",
       "..       ...           ...                         ...\n",
       "86       237           110                           2\n",
       "87       239          1687                          20\n",
       "88       240           909                           8\n",
       "89       241          1106                          23\n",
       "90       275           469                           3\n",
       "\n",
       "[91 rows x 3 columns]"
      ]
     },
     "execution_count": 23,
     "metadata": {},
     "output_type": "execute_result"
    }
   ],
   "source": [
    "precinct_df"
   ]
  },
  {
   "cell_type": "markdown",
   "metadata": {},
   "source": [
    "---\n",
    "---"
   ]
  },
  {
   "cell_type": "markdown",
   "metadata": {},
   "source": [
    "### Master Comparison"
   ]
  },
  {
   "cell_type": "markdown",
   "metadata": {},
   "source": [
    "---\n",
    "---\n",
    "#### CAUTION! Only run this section if you need to reset running totals!!!"
   ]
  },
  {
   "cell_type": "code",
   "execution_count": 24,
   "metadata": {},
   "outputs": [],
   "source": [
    "# # Read in total requested ballots by precinct for comparison\n",
    "# mailed_df = pd.read_csv('../data/processed/2021_VBM_mailed_ballots_master.csv')\n",
    "\n",
    "# mailed_df = mailed_df[['Precinct', 'Total People']]\n",
    "# mailed_df = mailed_df.rename({'Total People': 'Total Requested Ballots'}, axis=1)"
   ]
  },
  {
   "cell_type": "code",
   "execution_count": 25,
   "metadata": {},
   "outputs": [],
   "source": [
    "# mailed_df.head(3)"
   ]
  },
  {
   "cell_type": "code",
   "execution_count": 26,
   "metadata": {},
   "outputs": [],
   "source": [
    "# precinct_df.head(3)"
   ]
  },
  {
   "cell_type": "code",
   "execution_count": 27,
   "metadata": {},
   "outputs": [],
   "source": [
    "# print(len(mailed_df))\n",
    "# print(len(precinct_df))"
   ]
  },
  {
   "cell_type": "code",
   "execution_count": 28,
   "metadata": {},
   "outputs": [],
   "source": [
    "# comp_df = mailed_df.copy()\n",
    "# comp_df = comp_df.merge(precinct_df, how='left', left_on='Precinct', right_on='Precinct')"
   ]
  },
  {
   "cell_type": "code",
   "execution_count": 29,
   "metadata": {},
   "outputs": [],
   "source": [
    "# print(len(comp_df))\n",
    "# print(len(mailed_df))"
   ]
  },
  {
   "cell_type": "code",
   "execution_count": 30,
   "metadata": {},
   "outputs": [],
   "source": [
    "# # Fill nulls in 'VBM Ballots Returned Today' with a value of 0\n",
    "# comp_df['VBM Ballots Returned Today'].fillna(0, inplace=True)"
   ]
  },
  {
   "cell_type": "code",
   "execution_count": 31,
   "metadata": {},
   "outputs": [],
   "source": [
    "# comp_df.isnull().sum()"
   ]
  },
  {
   "cell_type": "code",
   "execution_count": 32,
   "metadata": {},
   "outputs": [],
   "source": [
    "# # Cast as integer\n",
    "# comp_df['VBM Ballots Returned Today'] = comp_df['VBM Ballots Returned Today'].astype(int)"
   ]
  },
  {
   "cell_type": "code",
   "execution_count": 33,
   "metadata": {},
   "outputs": [],
   "source": [
    "# # Create a column for total ballots returned\n",
    "# comp_df['Total Returned Ballots'] = 0"
   ]
  },
  {
   "cell_type": "code",
   "execution_count": 34,
   "metadata": {},
   "outputs": [],
   "source": [
    "# comp_df = comp_df[['Precinct', 'VBM Ballots Returned Today', 'Total Returned Ballots', 'Total Requested Ballots']]"
   ]
  },
  {
   "cell_type": "code",
   "execution_count": 35,
   "metadata": {},
   "outputs": [],
   "source": [
    "# comp_df.head(3)"
   ]
  },
  {
   "cell_type": "code",
   "execution_count": 36,
   "metadata": {},
   "outputs": [],
   "source": [
    "# comp_df.to_csv('../data/processed/VBM_returned_master.csv', index=False)"
   ]
  },
  {
   "cell_type": "markdown",
   "metadata": {},
   "source": [
    "---\n",
    "---"
   ]
  },
  {
   "cell_type": "code",
   "execution_count": 37,
   "metadata": {},
   "outputs": [],
   "source": [
    "# Load the preceding report - will be used to generate running totals\n",
    "comp_df = pd.read_csv(preceding_rpt_file)\n",
    "\n",
    "# Drop 'Totals' row from the last report\n",
    "comp_df = comp_df.drop(91)"
   ]
  },
  {
   "cell_type": "code",
   "execution_count": 38,
   "metadata": {},
   "outputs": [],
   "source": [
    "# Replace yesterday's 'VBM Ballots Returned Today' entries with today's\n",
    "comp_df['VBM Ballots Returned Today'] = precinct_df['VBM Ballots Returned Today']"
   ]
  },
  {
   "cell_type": "code",
   "execution_count": 39,
   "metadata": {},
   "outputs": [
    {
     "data": {
      "text/html": [
       "<div>\n",
       "<style scoped>\n",
       "    .dataframe tbody tr th:only-of-type {\n",
       "        vertical-align: middle;\n",
       "    }\n",
       "\n",
       "    .dataframe tbody tr th {\n",
       "        vertical-align: top;\n",
       "    }\n",
       "\n",
       "    .dataframe thead th {\n",
       "        text-align: right;\n",
       "    }\n",
       "</style>\n",
       "<table border=\"1\" class=\"dataframe\">\n",
       "  <thead>\n",
       "    <tr style=\"text-align: right;\">\n",
       "      <th></th>\n",
       "      <th>Precinct</th>\n",
       "      <th>VBM Ballots Returned Today</th>\n",
       "      <th>Total Returned Ballots</th>\n",
       "      <th>Total Requested Ballots</th>\n",
       "      <th>Percent of Total</th>\n",
       "    </tr>\n",
       "  </thead>\n",
       "  <tbody>\n",
       "    <tr>\n",
       "      <th>0</th>\n",
       "      <td>101</td>\n",
       "      <td>14</td>\n",
       "      <td>264</td>\n",
       "      <td>2006</td>\n",
       "      <td>0.1316</td>\n",
       "    </tr>\n",
       "    <tr>\n",
       "      <th>1</th>\n",
       "      <td>102</td>\n",
       "      <td>7</td>\n",
       "      <td>178</td>\n",
       "      <td>965</td>\n",
       "      <td>0.1845</td>\n",
       "    </tr>\n",
       "    <tr>\n",
       "      <th>2</th>\n",
       "      <td>103</td>\n",
       "      <td>3</td>\n",
       "      <td>84</td>\n",
       "      <td>485</td>\n",
       "      <td>0.1732</td>\n",
       "    </tr>\n",
       "  </tbody>\n",
       "</table>\n",
       "</div>"
      ],
      "text/plain": [
       "  Precinct  VBM Ballots Returned Today  Total Returned Ballots  \\\n",
       "0      101                          14                     264   \n",
       "1      102                           7                     178   \n",
       "2      103                           3                      84   \n",
       "\n",
       "   Total Requested Ballots  Percent of Total  \n",
       "0                     2006            0.1316  \n",
       "1                      965            0.1845  \n",
       "2                      485            0.1732  "
      ]
     },
     "execution_count": 39,
     "metadata": {},
     "output_type": "execute_result"
    }
   ],
   "source": [
    "comp_df.head(3)"
   ]
  },
  {
   "cell_type": "code",
   "execution_count": 40,
   "metadata": {},
   "outputs": [
    {
     "data": {
      "text/plain": [
       "Precinct                      0\n",
       "VBM Ballots Returned Today    0\n",
       "Total Returned Ballots        0\n",
       "Total Requested Ballots       0\n",
       "Percent of Total              0\n",
       "dtype: int64"
      ]
     },
     "execution_count": 40,
     "metadata": {},
     "output_type": "execute_result"
    }
   ],
   "source": [
    "comp_df.isnull().sum()"
   ]
  },
  {
   "cell_type": "markdown",
   "metadata": {},
   "source": [
    "---\n",
    "#### CAUTION! Only run this section once per day!"
   ]
  },
  {
   "cell_type": "code",
   "execution_count": 41,
   "metadata": {},
   "outputs": [],
   "source": [
    "# Update total returned ballots by adding count from latest report\n",
    "comp_df['Total Returned Ballots'] = comp_df['Total Returned Ballots'] + precinct_df['VBM Ballots Returned Today']"
   ]
  },
  {
   "cell_type": "code",
   "execution_count": 42,
   "metadata": {},
   "outputs": [],
   "source": [
    "# Calculate and input percent of total returned\n",
    "comp_df['Percent of Total'] = round(comp_df['Total Returned Ballots'] / comp_df['Total Requested Ballots'], 4)"
   ]
  },
  {
   "cell_type": "code",
   "execution_count": 43,
   "metadata": {},
   "outputs": [],
   "source": [
    "# Generate row for totals\n",
    "comp_df.loc[len(comp_df.index)] = ['TOTALS', sum(comp_df['VBM Ballots Returned Today']), sum(comp_df['Total Returned Ballots']),\n",
    "                                   sum(comp_df['Total Requested Ballots']), 0]\n",
    "\n",
    "comp_df.iloc[91, 4] = round((comp_df['Total Returned Ballots'][91]) / (comp_df['Total Requested Ballots'][91]), 4)"
   ]
  },
  {
   "cell_type": "code",
   "execution_count": 44,
   "metadata": {},
   "outputs": [
    {
     "data": {
      "text/html": [
       "<div>\n",
       "<style scoped>\n",
       "    .dataframe tbody tr th:only-of-type {\n",
       "        vertical-align: middle;\n",
       "    }\n",
       "\n",
       "    .dataframe tbody tr th {\n",
       "        vertical-align: top;\n",
       "    }\n",
       "\n",
       "    .dataframe thead th {\n",
       "        text-align: right;\n",
       "    }\n",
       "</style>\n",
       "<table border=\"1\" class=\"dataframe\">\n",
       "  <thead>\n",
       "    <tr style=\"text-align: right;\">\n",
       "      <th></th>\n",
       "      <th>Precinct</th>\n",
       "      <th>VBM Ballots Returned Today</th>\n",
       "      <th>Total Returned Ballots</th>\n",
       "      <th>Total Requested Ballots</th>\n",
       "      <th>Percent of Total</th>\n",
       "    </tr>\n",
       "  </thead>\n",
       "  <tbody>\n",
       "    <tr>\n",
       "      <th>0</th>\n",
       "      <td>101</td>\n",
       "      <td>14</td>\n",
       "      <td>278</td>\n",
       "      <td>2006</td>\n",
       "      <td>0.1386</td>\n",
       "    </tr>\n",
       "    <tr>\n",
       "      <th>1</th>\n",
       "      <td>102</td>\n",
       "      <td>7</td>\n",
       "      <td>185</td>\n",
       "      <td>965</td>\n",
       "      <td>0.1917</td>\n",
       "    </tr>\n",
       "    <tr>\n",
       "      <th>2</th>\n",
       "      <td>103</td>\n",
       "      <td>3</td>\n",
       "      <td>87</td>\n",
       "      <td>485</td>\n",
       "      <td>0.1794</td>\n",
       "    </tr>\n",
       "    <tr>\n",
       "      <th>3</th>\n",
       "      <td>104</td>\n",
       "      <td>3</td>\n",
       "      <td>144</td>\n",
       "      <td>956</td>\n",
       "      <td>0.1506</td>\n",
       "    </tr>\n",
       "    <tr>\n",
       "      <th>4</th>\n",
       "      <td>105</td>\n",
       "      <td>16</td>\n",
       "      <td>332</td>\n",
       "      <td>1994</td>\n",
       "      <td>0.1665</td>\n",
       "    </tr>\n",
       "    <tr>\n",
       "      <th>...</th>\n",
       "      <td>...</td>\n",
       "      <td>...</td>\n",
       "      <td>...</td>\n",
       "      <td>...</td>\n",
       "      <td>...</td>\n",
       "    </tr>\n",
       "    <tr>\n",
       "      <th>87</th>\n",
       "      <td>239</td>\n",
       "      <td>20</td>\n",
       "      <td>275</td>\n",
       "      <td>1687</td>\n",
       "      <td>0.1630</td>\n",
       "    </tr>\n",
       "    <tr>\n",
       "      <th>88</th>\n",
       "      <td>240</td>\n",
       "      <td>8</td>\n",
       "      <td>133</td>\n",
       "      <td>909</td>\n",
       "      <td>0.1463</td>\n",
       "    </tr>\n",
       "    <tr>\n",
       "      <th>89</th>\n",
       "      <td>241</td>\n",
       "      <td>23</td>\n",
       "      <td>207</td>\n",
       "      <td>1106</td>\n",
       "      <td>0.1872</td>\n",
       "    </tr>\n",
       "    <tr>\n",
       "      <th>90</th>\n",
       "      <td>275</td>\n",
       "      <td>3</td>\n",
       "      <td>71</td>\n",
       "      <td>469</td>\n",
       "      <td>0.1514</td>\n",
       "    </tr>\n",
       "    <tr>\n",
       "      <th>91</th>\n",
       "      <td>TOTALS</td>\n",
       "      <td>1028</td>\n",
       "      <td>17389</td>\n",
       "      <td>96648</td>\n",
       "      <td>0.1799</td>\n",
       "    </tr>\n",
       "  </tbody>\n",
       "</table>\n",
       "<p>92 rows × 5 columns</p>\n",
       "</div>"
      ],
      "text/plain": [
       "   Precinct  VBM Ballots Returned Today  Total Returned Ballots  \\\n",
       "0       101                          14                     278   \n",
       "1       102                           7                     185   \n",
       "2       103                           3                      87   \n",
       "3       104                           3                     144   \n",
       "4       105                          16                     332   \n",
       "..      ...                         ...                     ...   \n",
       "87      239                          20                     275   \n",
       "88      240                           8                     133   \n",
       "89      241                          23                     207   \n",
       "90      275                           3                      71   \n",
       "91   TOTALS                        1028                   17389   \n",
       "\n",
       "    Total Requested Ballots  Percent of Total  \n",
       "0                      2006            0.1386  \n",
       "1                       965            0.1917  \n",
       "2                       485            0.1794  \n",
       "3                       956            0.1506  \n",
       "4                      1994            0.1665  \n",
       "..                      ...               ...  \n",
       "87                     1687            0.1630  \n",
       "88                      909            0.1463  \n",
       "89                     1106            0.1872  \n",
       "90                      469            0.1514  \n",
       "91                    96648            0.1799  \n",
       "\n",
       "[92 rows x 5 columns]"
      ]
     },
     "execution_count": 44,
     "metadata": {},
     "output_type": "execute_result"
    }
   ],
   "source": [
    "comp_df"
   ]
  },
  {
   "cell_type": "code",
   "execution_count": 45,
   "metadata": {},
   "outputs": [],
   "source": [
    "# Save to clean csv\n",
    "comp_df.to_csv(daily_ballots_write_file, index=False)"
   ]
  },
  {
   "cell_type": "markdown",
   "metadata": {},
   "source": [
    "---\n",
    "---"
   ]
  },
  {
   "cell_type": "code",
   "execution_count": null,
   "metadata": {},
   "outputs": [],
   "source": []
  }
 ],
 "metadata": {
  "kernelspec": {
   "display_name": "Python 3",
   "language": "python",
   "name": "python3"
  },
  "language_info": {
   "codemirror_mode": {
    "name": "ipython",
    "version": 3
   },
   "file_extension": ".py",
   "mimetype": "text/x-python",
   "name": "python",
   "nbconvert_exporter": "python",
   "pygments_lexer": "ipython3",
   "version": "3.8.5"
  }
 },
 "nbformat": 4,
 "nbformat_minor": 4
}
