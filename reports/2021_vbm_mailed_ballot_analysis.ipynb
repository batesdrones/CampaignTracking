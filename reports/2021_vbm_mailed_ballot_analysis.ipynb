{
 "cells": [
  {
   "cell_type": "markdown",
   "metadata": {},
   "source": [
    "![](../additional_materials/logos/darden_rice_logo_SM.png)"
   ]
  },
  {
   "cell_type": "markdown",
   "metadata": {},
   "source": [
    "### VBM Demographic Analysis\n",
    "#### 2021 Municipal Primary, Ballots Mailed\n",
    "---"
   ]
  },
  {
   "cell_type": "code",
   "execution_count": 1,
   "metadata": {},
   "outputs": [],
   "source": [
    "import pandas as pd\n",
    "pd.set_option('display.max_columns', None)\n",
    "\n",
    "import numpy as np\n",
    "import matplotlib.pyplot as plt\n",
    "import seaborn as sns\n",
    "\n",
    "import datetime"
   ]
  },
  {
   "cell_type": "code",
   "execution_count": 2,
   "metadata": {},
   "outputs": [],
   "source": [
    "filepath = '../data/raw/2021_VBM_mailed_ballots.csv'"
   ]
  },
  {
   "cell_type": "code",
   "execution_count": 3,
   "metadata": {},
   "outputs": [
    {
     "data": {
      "text/html": [
       "<div>\n",
       "<style scoped>\n",
       "    .dataframe tbody tr th:only-of-type {\n",
       "        vertical-align: middle;\n",
       "    }\n",
       "\n",
       "    .dataframe tbody tr th {\n",
       "        vertical-align: top;\n",
       "    }\n",
       "\n",
       "    .dataframe thead th {\n",
       "        text-align: right;\n",
       "    }\n",
       "</style>\n",
       "<table border=\"1\" class=\"dataframe\">\n",
       "  <thead>\n",
       "    <tr style=\"text-align: right;\">\n",
       "      <th></th>\n",
       "      <th>Precinct</th>\n",
       "      <th>Age</th>\n",
       "      <th>Unnamed: 2</th>\n",
       "      <th>Unnamed: 3</th>\n",
       "      <th>Unnamed: 4</th>\n",
       "      <th>Unnamed: 5</th>\n",
       "      <th>Unnamed: 6</th>\n",
       "      <th>Gender</th>\n",
       "      <th>Unnamed: 8</th>\n",
       "      <th>Unnamed: 9</th>\n",
       "      <th>Ethnicity</th>\n",
       "      <th>Unnamed: 11</th>\n",
       "      <th>Unnamed: 12</th>\n",
       "      <th>Unnamed: 13</th>\n",
       "      <th>Unnamed: 14</th>\n",
       "      <th>Party</th>\n",
       "      <th>Unnamed: 16</th>\n",
       "      <th>Unnamed: 17</th>\n",
       "      <th>Unnamed: 18</th>\n",
       "      <th>Total People</th>\n",
       "    </tr>\n",
       "  </thead>\n",
       "  <tbody>\n",
       "    <tr>\n",
       "      <th>0</th>\n",
       "      <td>NaN</td>\n",
       "      <td>18 to 24</td>\n",
       "      <td>25 to 34</td>\n",
       "      <td>35 to 49</td>\n",
       "      <td>50 to 64</td>\n",
       "      <td>65+</td>\n",
       "      <td>Unknown</td>\n",
       "      <td>Male</td>\n",
       "      <td>Female</td>\n",
       "      <td>Unknown</td>\n",
       "      <td>African Amer</td>\n",
       "      <td>Hispanic</td>\n",
       "      <td>White</td>\n",
       "      <td>Other</td>\n",
       "      <td>Unknown</td>\n",
       "      <td>Democrats</td>\n",
       "      <td>Independent</td>\n",
       "      <td>Republicans</td>\n",
       "      <td>Unknown</td>\n",
       "      <td>NaN</td>\n",
       "    </tr>\n",
       "    <tr>\n",
       "      <th>1</th>\n",
       "      <td>101</td>\n",
       "      <td>123</td>\n",
       "      <td>222</td>\n",
       "      <td>374</td>\n",
       "      <td>666</td>\n",
       "      <td>621</td>\n",
       "      <td>0</td>\n",
       "      <td>829</td>\n",
       "      <td>1,167</td>\n",
       "      <td>10</td>\n",
       "      <td>1,052</td>\n",
       "      <td>42</td>\n",
       "      <td>781</td>\n",
       "      <td>131</td>\n",
       "      <td>0</td>\n",
       "      <td>1,395</td>\n",
       "      <td>356</td>\n",
       "      <td>255</td>\n",
       "      <td>0</td>\n",
       "      <td>2,006</td>\n",
       "    </tr>\n",
       "    <tr>\n",
       "      <th>2</th>\n",
       "      <td>102</td>\n",
       "      <td>33</td>\n",
       "      <td>93</td>\n",
       "      <td>163</td>\n",
       "      <td>258</td>\n",
       "      <td>418</td>\n",
       "      <td>0</td>\n",
       "      <td>378</td>\n",
       "      <td>583</td>\n",
       "      <td>4</td>\n",
       "      <td>466</td>\n",
       "      <td>17</td>\n",
       "      <td>428</td>\n",
       "      <td>54</td>\n",
       "      <td>0</td>\n",
       "      <td>707</td>\n",
       "      <td>134</td>\n",
       "      <td>124</td>\n",
       "      <td>0</td>\n",
       "      <td>965</td>\n",
       "    </tr>\n",
       "  </tbody>\n",
       "</table>\n",
       "</div>"
      ],
      "text/plain": [
       "  Precinct       Age Unnamed: 2 Unnamed: 3 Unnamed: 4 Unnamed: 5 Unnamed: 6  \\\n",
       "0      NaN  18 to 24   25 to 34   35 to 49   50 to 64        65+    Unknown   \n",
       "1      101       123        222        374        666        621          0   \n",
       "2      102        33         93        163        258        418          0   \n",
       "\n",
       "  Gender Unnamed: 8 Unnamed: 9     Ethnicity Unnamed: 11 Unnamed: 12  \\\n",
       "0   Male     Female    Unknown  African Amer    Hispanic       White   \n",
       "1    829      1,167         10         1,052          42         781   \n",
       "2    378        583          4           466          17         428   \n",
       "\n",
       "  Unnamed: 13 Unnamed: 14      Party  Unnamed: 16  Unnamed: 17 Unnamed: 18  \\\n",
       "0       Other     Unknown  Democrats  Independent  Republicans     Unknown   \n",
       "1         131           0      1,395          356          255           0   \n",
       "2          54           0        707          134          124           0   \n",
       "\n",
       "  Total People  \n",
       "0          NaN  \n",
       "1        2,006  \n",
       "2          965  "
      ]
     },
     "execution_count": 3,
     "metadata": {},
     "output_type": "execute_result"
    }
   ],
   "source": [
    "df = pd.read_csv(filepath)\n",
    "df.head(3)"
   ]
  },
  {
   "cell_type": "code",
   "execution_count": 4,
   "metadata": {},
   "outputs": [],
   "source": [
    "# Define columns to be renamed based on headers in the first row (index 0) of df\n",
    "column_names = {'Age': 'Age 18-24', 'Unnamed: 2': 'Age 25-34', 'Unnamed: 3': 'Age 35-49', 'Unnamed: 4': 'Age 50-64',\n",
    "                'Unnamed: 5': 'Age 65+', 'Unnamed: 6': 'Age Unknown', 'Gender': 'Male', 'Unnamed: 8': 'Female', \n",
    "                'Unnamed: 9': 'Gender Unknown', 'Ethnicity': 'African American', 'Unnamed: 11': 'Hispanic', \n",
    "                'Unnamed: 12': 'White', 'Unnamed: 13': 'Other Ethnicity', 'Unnamed: 14': 'Ethnicity Unknown', \n",
    "                'Party': 'Democrat', 'Unnamed: 16': 'Independent', 'Unnamed: 17': 'Republican', 'Unnamed: 18': 'Other Party',\n",
    "                'Unnamed: 19': 'Party Unknown'}\n",
    "\n",
    "# Rename columns based on dictionary above\n",
    "df.rename(column_names, axis=1, inplace=True)"
   ]
  },
  {
   "cell_type": "code",
   "execution_count": 5,
   "metadata": {},
   "outputs": [],
   "source": [
    "# Drop the first row of the df, containing headers\n",
    "df.drop(labels=0, axis=0, inplace=True)\n",
    "# Drop final row of df, containing column totals\n",
    "df.drop(df.tail(1).index, inplace=True)\n",
    "\n",
    "# Reset df index\n",
    "df.reset_index(drop = True, inplace = True)"
   ]
  },
  {
   "cell_type": "code",
   "execution_count": 6,
   "metadata": {},
   "outputs": [],
   "source": [
    "# Remove commas from numeric entries and converting all columns to numeric values\n",
    "df = df.apply(lambda x: x.str.replace(',', ''))\n",
    "\n",
    "df = df.apply(pd.to_numeric)"
   ]
  },
  {
   "cell_type": "code",
   "execution_count": 7,
   "metadata": {},
   "outputs": [
    {
     "data": {
      "text/plain": [
       "Precinct             int64\n",
       "Age 18-24            int64\n",
       "Age 25-34            int64\n",
       "Age 35-49            int64\n",
       "Age 50-64            int64\n",
       "Age 65+              int64\n",
       "Age Unknown          int64\n",
       "Male                 int64\n",
       "Female               int64\n",
       "Gender Unknown       int64\n",
       "African American     int64\n",
       "Hispanic             int64\n",
       "White                int64\n",
       "Other Ethnicity      int64\n",
       "Ethnicity Unknown    int64\n",
       "Democrat             int64\n",
       "Independent          int64\n",
       "Republican           int64\n",
       "Other Party          int64\n",
       "Total People         int64\n",
       "dtype: object"
      ]
     },
     "execution_count": 7,
     "metadata": {},
     "output_type": "execute_result"
    }
   ],
   "source": [
    "df.dtypes"
   ]
  },
  {
   "cell_type": "code",
   "execution_count": 8,
   "metadata": {},
   "outputs": [],
   "source": [
    "# Set index to precinct number\n",
    "df.set_index(df['Precinct'], inplace = True)\n",
    "df.drop('Precinct', axis = 1, inplace = True)\n",
    "\n",
    "# df.head(3)"
   ]
  },
  {
   "cell_type": "code",
   "execution_count": 9,
   "metadata": {},
   "outputs": [],
   "source": [
    "# Use this function to remove all columns that sum to 0 people, i.e., columns that don't represent any voters\n",
    "def remove_zero_sum_cols(df):\n",
    "    features = []\n",
    "    columns = list(df.columns.values)\n",
    "    for c in columns:\n",
    "        if df[c].sum() != 0:\n",
    "            features.append(c)\n",
    "    df = df[features]\n",
    "    return df"
   ]
  },
  {
   "cell_type": "code",
   "execution_count": 10,
   "metadata": {},
   "outputs": [],
   "source": [
    "df = remove_zero_sum_cols(df)"
   ]
  },
  {
   "cell_type": "code",
   "execution_count": 11,
   "metadata": {},
   "outputs": [
    {
     "data": {
      "text/html": [
       "<div>\n",
       "<style scoped>\n",
       "    .dataframe tbody tr th:only-of-type {\n",
       "        vertical-align: middle;\n",
       "    }\n",
       "\n",
       "    .dataframe tbody tr th {\n",
       "        vertical-align: top;\n",
       "    }\n",
       "\n",
       "    .dataframe thead th {\n",
       "        text-align: right;\n",
       "    }\n",
       "</style>\n",
       "<table border=\"1\" class=\"dataframe\">\n",
       "  <thead>\n",
       "    <tr style=\"text-align: right;\">\n",
       "      <th></th>\n",
       "      <th>Age 18-24</th>\n",
       "      <th>Age 25-34</th>\n",
       "      <th>Age 35-49</th>\n",
       "      <th>Age 50-64</th>\n",
       "      <th>Age 65+</th>\n",
       "      <th>Male</th>\n",
       "      <th>Female</th>\n",
       "      <th>Gender Unknown</th>\n",
       "      <th>African American</th>\n",
       "      <th>Hispanic</th>\n",
       "      <th>White</th>\n",
       "      <th>Other Ethnicity</th>\n",
       "      <th>Democrat</th>\n",
       "      <th>Independent</th>\n",
       "      <th>Republican</th>\n",
       "      <th>Total People</th>\n",
       "    </tr>\n",
       "    <tr>\n",
       "      <th>Precinct</th>\n",
       "      <th></th>\n",
       "      <th></th>\n",
       "      <th></th>\n",
       "      <th></th>\n",
       "      <th></th>\n",
       "      <th></th>\n",
       "      <th></th>\n",
       "      <th></th>\n",
       "      <th></th>\n",
       "      <th></th>\n",
       "      <th></th>\n",
       "      <th></th>\n",
       "      <th></th>\n",
       "      <th></th>\n",
       "      <th></th>\n",
       "      <th></th>\n",
       "    </tr>\n",
       "  </thead>\n",
       "  <tbody>\n",
       "    <tr>\n",
       "      <th>101</th>\n",
       "      <td>123</td>\n",
       "      <td>222</td>\n",
       "      <td>374</td>\n",
       "      <td>666</td>\n",
       "      <td>621</td>\n",
       "      <td>829</td>\n",
       "      <td>1167</td>\n",
       "      <td>10</td>\n",
       "      <td>1052</td>\n",
       "      <td>42</td>\n",
       "      <td>781</td>\n",
       "      <td>131</td>\n",
       "      <td>1395</td>\n",
       "      <td>356</td>\n",
       "      <td>255</td>\n",
       "      <td>2006</td>\n",
       "    </tr>\n",
       "    <tr>\n",
       "      <th>102</th>\n",
       "      <td>33</td>\n",
       "      <td>93</td>\n",
       "      <td>163</td>\n",
       "      <td>258</td>\n",
       "      <td>418</td>\n",
       "      <td>378</td>\n",
       "      <td>583</td>\n",
       "      <td>4</td>\n",
       "      <td>466</td>\n",
       "      <td>17</td>\n",
       "      <td>428</td>\n",
       "      <td>54</td>\n",
       "      <td>707</td>\n",
       "      <td>134</td>\n",
       "      <td>124</td>\n",
       "      <td>965</td>\n",
       "    </tr>\n",
       "    <tr>\n",
       "      <th>103</th>\n",
       "      <td>25</td>\n",
       "      <td>41</td>\n",
       "      <td>103</td>\n",
       "      <td>136</td>\n",
       "      <td>180</td>\n",
       "      <td>210</td>\n",
       "      <td>275</td>\n",
       "      <td>0</td>\n",
       "      <td>33</td>\n",
       "      <td>9</td>\n",
       "      <td>413</td>\n",
       "      <td>30</td>\n",
       "      <td>258</td>\n",
       "      <td>108</td>\n",
       "      <td>119</td>\n",
       "      <td>485</td>\n",
       "    </tr>\n",
       "  </tbody>\n",
       "</table>\n",
       "</div>"
      ],
      "text/plain": [
       "          Age 18-24  Age 25-34  Age 35-49  Age 50-64  Age 65+  Male  Female  \\\n",
       "Precinct                                                                      \n",
       "101             123        222        374        666      621   829    1167   \n",
       "102              33         93        163        258      418   378     583   \n",
       "103              25         41        103        136      180   210     275   \n",
       "\n",
       "          Gender Unknown  African American  Hispanic  White  Other Ethnicity  \\\n",
       "Precinct                                                                       \n",
       "101                   10              1052        42    781              131   \n",
       "102                    4               466        17    428               54   \n",
       "103                    0                33         9    413               30   \n",
       "\n",
       "          Democrat  Independent  Republican  Total People  \n",
       "Precinct                                                   \n",
       "101           1395          356         255          2006  \n",
       "102            707          134         124           965  \n",
       "103            258          108         119           485  "
      ]
     },
     "execution_count": 11,
     "metadata": {},
     "output_type": "execute_result"
    }
   ],
   "source": [
    "df.head(3)"
   ]
  },
  {
   "cell_type": "markdown",
   "metadata": {},
   "source": [
    "---\n",
    "---\n",
    "#### Save clean master csv here"
   ]
  },
  {
   "cell_type": "code",
   "execution_count": 11,
   "metadata": {},
   "outputs": [],
   "source": [
    "df.to_csv('../data/processed/2021_VBM_mailed_ballots_master.csv')"
   ]
  },
  {
   "cell_type": "markdown",
   "metadata": {},
   "source": [
    "---\n",
    "#### Generate and Export Subset Dataframes"
   ]
  },
  {
   "cell_type": "code",
   "execution_count": 12,
   "metadata": {},
   "outputs": [
    {
     "data": {
      "text/plain": [
       "Index(['Age 18-24', 'Age 25-34', 'Age 35-49', 'Age 50-64', 'Age 65+', 'Male',\n",
       "       'Female', 'Gender Unknown', 'African American', 'Hispanic', 'White',\n",
       "       'Other Ethnicity', 'Democrat', 'Independent', 'Republican',\n",
       "       'Total People'],\n",
       "      dtype='object')"
      ]
     },
     "execution_count": 12,
     "metadata": {},
     "output_type": "execute_result"
    }
   ],
   "source": [
    "df.columns"
   ]
  },
  {
   "cell_type": "code",
   "execution_count": 13,
   "metadata": {},
   "outputs": [],
   "source": [
    "# Subset dataframes containing age, gender, ethnicity, and party affiliation breakdowns by precinct\n",
    "age_df = df[['Age 18-24', 'Age 25-34', 'Age 35-49', 'Age 50-64', 'Age 65+', 'Total People']].copy()\n",
    "gen_df = df[['Male', 'Female', 'Gender Unknown', 'Total People']].copy()\n",
    "eth_df = df[['African American', 'Hispanic', 'White', 'Other Ethnicity', 'Total People']].copy()\n",
    "party_df = df[['Democrat', 'Independent', 'Republican', 'Total People']].copy()"
   ]
  },
  {
   "cell_type": "code",
   "execution_count": 14,
   "metadata": {},
   "outputs": [],
   "source": [
    "# Saving all master dataframe subsets to individual csv files\n",
    "age_df.to_csv('../data/processed/2021_VBM_age_breakdown.csv')\n",
    "gen_df.to_csv('../data/processed/2021_VBM_gender_breakdown.csv')\n",
    "eth_df.to_csv('../data/processed/2021_VBM_ethnicity_breakdown.csv')\n",
    "party_df.to_csv('../data/processed/2021_VBM_party_breakdown.csv')"
   ]
  },
  {
   "cell_type": "markdown",
   "metadata": {},
   "source": [
    "---\n",
    "---"
   ]
  },
  {
   "cell_type": "markdown",
   "metadata": {},
   "source": [
    "### Analysis"
   ]
  },
  {
   "cell_type": "code",
   "execution_count": 15,
   "metadata": {},
   "outputs": [],
   "source": [
    "df = pd.read_csv('../data/processed/2021_VBM_mailed_ballots_master.csv')"
   ]
  },
  {
   "cell_type": "code",
   "execution_count": 16,
   "metadata": {},
   "outputs": [],
   "source": [
    "# Set index to precinct number\n",
    "df.set_index(df['Precinct'], inplace = True)\n",
    "df.drop('Precinct', axis = 1, inplace = True)\n",
    "\n",
    "# Drop 'Total People'\n",
    "df.drop('Total People', axis = 1, inplace = True)"
   ]
  },
  {
   "cell_type": "code",
   "execution_count": 17,
   "metadata": {},
   "outputs": [
    {
     "data": {
      "text/html": [
       "<div>\n",
       "<style scoped>\n",
       "    .dataframe tbody tr th:only-of-type {\n",
       "        vertical-align: middle;\n",
       "    }\n",
       "\n",
       "    .dataframe tbody tr th {\n",
       "        vertical-align: top;\n",
       "    }\n",
       "\n",
       "    .dataframe thead th {\n",
       "        text-align: right;\n",
       "    }\n",
       "</style>\n",
       "<table border=\"1\" class=\"dataframe\">\n",
       "  <thead>\n",
       "    <tr style=\"text-align: right;\">\n",
       "      <th></th>\n",
       "      <th>Age 18-24</th>\n",
       "      <th>Age 25-34</th>\n",
       "      <th>Age 35-49</th>\n",
       "      <th>Age 50-64</th>\n",
       "      <th>Age 65+</th>\n",
       "      <th>Male</th>\n",
       "      <th>Female</th>\n",
       "      <th>Gender Unknown</th>\n",
       "      <th>African American</th>\n",
       "      <th>Hispanic</th>\n",
       "      <th>White</th>\n",
       "      <th>Other Ethnicity</th>\n",
       "      <th>Democrat</th>\n",
       "      <th>Independent</th>\n",
       "      <th>Republican</th>\n",
       "    </tr>\n",
       "    <tr>\n",
       "      <th>Precinct</th>\n",
       "      <th></th>\n",
       "      <th></th>\n",
       "      <th></th>\n",
       "      <th></th>\n",
       "      <th></th>\n",
       "      <th></th>\n",
       "      <th></th>\n",
       "      <th></th>\n",
       "      <th></th>\n",
       "      <th></th>\n",
       "      <th></th>\n",
       "      <th></th>\n",
       "      <th></th>\n",
       "      <th></th>\n",
       "      <th></th>\n",
       "    </tr>\n",
       "  </thead>\n",
       "  <tbody>\n",
       "    <tr>\n",
       "      <th>101</th>\n",
       "      <td>123</td>\n",
       "      <td>222</td>\n",
       "      <td>374</td>\n",
       "      <td>666</td>\n",
       "      <td>621</td>\n",
       "      <td>829</td>\n",
       "      <td>1167</td>\n",
       "      <td>10</td>\n",
       "      <td>1052</td>\n",
       "      <td>42</td>\n",
       "      <td>781</td>\n",
       "      <td>131</td>\n",
       "      <td>1395</td>\n",
       "      <td>356</td>\n",
       "      <td>255</td>\n",
       "    </tr>\n",
       "    <tr>\n",
       "      <th>102</th>\n",
       "      <td>33</td>\n",
       "      <td>93</td>\n",
       "      <td>163</td>\n",
       "      <td>258</td>\n",
       "      <td>418</td>\n",
       "      <td>378</td>\n",
       "      <td>583</td>\n",
       "      <td>4</td>\n",
       "      <td>466</td>\n",
       "      <td>17</td>\n",
       "      <td>428</td>\n",
       "      <td>54</td>\n",
       "      <td>707</td>\n",
       "      <td>134</td>\n",
       "      <td>124</td>\n",
       "    </tr>\n",
       "    <tr>\n",
       "      <th>103</th>\n",
       "      <td>25</td>\n",
       "      <td>41</td>\n",
       "      <td>103</td>\n",
       "      <td>136</td>\n",
       "      <td>180</td>\n",
       "      <td>210</td>\n",
       "      <td>275</td>\n",
       "      <td>0</td>\n",
       "      <td>33</td>\n",
       "      <td>9</td>\n",
       "      <td>413</td>\n",
       "      <td>30</td>\n",
       "      <td>258</td>\n",
       "      <td>108</td>\n",
       "      <td>119</td>\n",
       "    </tr>\n",
       "  </tbody>\n",
       "</table>\n",
       "</div>"
      ],
      "text/plain": [
       "          Age 18-24  Age 25-34  Age 35-49  Age 50-64  Age 65+  Male  Female  \\\n",
       "Precinct                                                                      \n",
       "101             123        222        374        666      621   829    1167   \n",
       "102              33         93        163        258      418   378     583   \n",
       "103              25         41        103        136      180   210     275   \n",
       "\n",
       "          Gender Unknown  African American  Hispanic  White  Other Ethnicity  \\\n",
       "Precinct                                                                       \n",
       "101                   10              1052        42    781              131   \n",
       "102                    4               466        17    428               54   \n",
       "103                    0                33         9    413               30   \n",
       "\n",
       "          Democrat  Independent  Republican  \n",
       "Precinct                                     \n",
       "101           1395          356         255  \n",
       "102            707          134         124  \n",
       "103            258          108         119  "
      ]
     },
     "execution_count": 17,
     "metadata": {},
     "output_type": "execute_result"
    }
   ],
   "source": [
    "df.head(3)"
   ]
  },
  {
   "cell_type": "code",
   "execution_count": 18,
   "metadata": {},
   "outputs": [
    {
     "data": {
      "text/plain": [
       "(91, 15)"
      ]
     },
     "execution_count": 18,
     "metadata": {},
     "output_type": "execute_result"
    }
   ],
   "source": [
    "df.shape"
   ]
  },
  {
   "cell_type": "code",
   "execution_count": 19,
   "metadata": {},
   "outputs": [],
   "source": [
    "# df.isnull().sum()"
   ]
  },
  {
   "cell_type": "code",
   "execution_count": 20,
   "metadata": {},
   "outputs": [],
   "source": [
    "# df.dtypes"
   ]
  },
  {
   "cell_type": "markdown",
   "metadata": {},
   "source": [
    "---"
   ]
  },
  {
   "cell_type": "code",
   "execution_count": 21,
   "metadata": {},
   "outputs": [],
   "source": [
    "summary_df = df.describe()\n",
    "summary_df.drop('count', axis=0, inplace=True)"
   ]
  },
  {
   "cell_type": "code",
   "execution_count": 22,
   "metadata": {},
   "outputs": [],
   "source": [
    "summary_df = summary_df.round(2)"
   ]
  },
  {
   "cell_type": "markdown",
   "metadata": {},
   "source": [
    "**BELOW:** This table shows the mean, standard deviation, minimum and maximum values, and quartile values for all voters in Pinellas County (all precincts combined) who requested and wwere mailed ballots for the 2021 Municipal Primary."
   ]
  },
  {
   "cell_type": "code",
   "execution_count": 23,
   "metadata": {},
   "outputs": [
    {
     "data": {
      "text/html": [
       "<div>\n",
       "<style scoped>\n",
       "    .dataframe tbody tr th:only-of-type {\n",
       "        vertical-align: middle;\n",
       "    }\n",
       "\n",
       "    .dataframe tbody tr th {\n",
       "        vertical-align: top;\n",
       "    }\n",
       "\n",
       "    .dataframe thead th {\n",
       "        text-align: right;\n",
       "    }\n",
       "</style>\n",
       "<table border=\"1\" class=\"dataframe\">\n",
       "  <thead>\n",
       "    <tr style=\"text-align: right;\">\n",
       "      <th></th>\n",
       "      <th>Age 18-24</th>\n",
       "      <th>Age 25-34</th>\n",
       "      <th>Age 35-49</th>\n",
       "      <th>Age 50-64</th>\n",
       "      <th>Age 65+</th>\n",
       "      <th>Male</th>\n",
       "      <th>Female</th>\n",
       "      <th>Gender Unknown</th>\n",
       "      <th>African American</th>\n",
       "      <th>Hispanic</th>\n",
       "      <th>White</th>\n",
       "      <th>Other Ethnicity</th>\n",
       "      <th>Democrat</th>\n",
       "      <th>Independent</th>\n",
       "      <th>Republican</th>\n",
       "    </tr>\n",
       "  </thead>\n",
       "  <tbody>\n",
       "    <tr>\n",
       "      <th>mean</th>\n",
       "      <td>49.56</td>\n",
       "      <td>135.98</td>\n",
       "      <td>208.10</td>\n",
       "      <td>304.76</td>\n",
       "      <td>363.67</td>\n",
       "      <td>455.26</td>\n",
       "      <td>603.22</td>\n",
       "      <td>3.58</td>\n",
       "      <td>171.73</td>\n",
       "      <td>43.36</td>\n",
       "      <td>774.32</td>\n",
       "      <td>72.66</td>\n",
       "      <td>563.86</td>\n",
       "      <td>231.82</td>\n",
       "      <td>266.38</td>\n",
       "    </tr>\n",
       "    <tr>\n",
       "      <th>std</th>\n",
       "      <td>36.36</td>\n",
       "      <td>105.84</td>\n",
       "      <td>140.64</td>\n",
       "      <td>179.64</td>\n",
       "      <td>248.16</td>\n",
       "      <td>275.70</td>\n",
       "      <td>348.78</td>\n",
       "      <td>3.39</td>\n",
       "      <td>250.06</td>\n",
       "      <td>35.67</td>\n",
       "      <td>574.25</td>\n",
       "      <td>49.42</td>\n",
       "      <td>325.32</td>\n",
       "      <td>154.48</td>\n",
       "      <td>226.31</td>\n",
       "    </tr>\n",
       "    <tr>\n",
       "      <th>min</th>\n",
       "      <td>0.00</td>\n",
       "      <td>1.00</td>\n",
       "      <td>0.00</td>\n",
       "      <td>0.00</td>\n",
       "      <td>2.00</td>\n",
       "      <td>1.00</td>\n",
       "      <td>1.00</td>\n",
       "      <td>0.00</td>\n",
       "      <td>0.00</td>\n",
       "      <td>0.00</td>\n",
       "      <td>3.00</td>\n",
       "      <td>0.00</td>\n",
       "      <td>2.00</td>\n",
       "      <td>0.00</td>\n",
       "      <td>0.00</td>\n",
       "    </tr>\n",
       "    <tr>\n",
       "      <th>25%</th>\n",
       "      <td>23.50</td>\n",
       "      <td>67.50</td>\n",
       "      <td>106.50</td>\n",
       "      <td>183.00</td>\n",
       "      <td>209.50</td>\n",
       "      <td>257.00</td>\n",
       "      <td>365.50</td>\n",
       "      <td>1.00</td>\n",
       "      <td>21.50</td>\n",
       "      <td>20.50</td>\n",
       "      <td>342.50</td>\n",
       "      <td>33.00</td>\n",
       "      <td>351.50</td>\n",
       "      <td>113.50</td>\n",
       "      <td>80.50</td>\n",
       "    </tr>\n",
       "    <tr>\n",
       "      <th>50%</th>\n",
       "      <td>41.00</td>\n",
       "      <td>107.00</td>\n",
       "      <td>180.00</td>\n",
       "      <td>266.00</td>\n",
       "      <td>317.00</td>\n",
       "      <td>412.00</td>\n",
       "      <td>542.00</td>\n",
       "      <td>3.00</td>\n",
       "      <td>52.00</td>\n",
       "      <td>37.00</td>\n",
       "      <td>701.00</td>\n",
       "      <td>65.00</td>\n",
       "      <td>544.00</td>\n",
       "      <td>206.00</td>\n",
       "      <td>202.00</td>\n",
       "    </tr>\n",
       "    <tr>\n",
       "      <th>75%</th>\n",
       "      <td>59.50</td>\n",
       "      <td>176.50</td>\n",
       "      <td>279.50</td>\n",
       "      <td>403.00</td>\n",
       "      <td>420.00</td>\n",
       "      <td>608.50</td>\n",
       "      <td>826.50</td>\n",
       "      <td>6.00</td>\n",
       "      <td>197.00</td>\n",
       "      <td>51.00</td>\n",
       "      <td>1164.50</td>\n",
       "      <td>93.00</td>\n",
       "      <td>706.00</td>\n",
       "      <td>326.00</td>\n",
       "      <td>378.50</td>\n",
       "    </tr>\n",
       "    <tr>\n",
       "      <th>max</th>\n",
       "      <td>191.00</td>\n",
       "      <td>532.00</td>\n",
       "      <td>687.00</td>\n",
       "      <td>836.00</td>\n",
       "      <td>1109.00</td>\n",
       "      <td>1296.00</td>\n",
       "      <td>1604.00</td>\n",
       "      <td>16.00</td>\n",
       "      <td>1106.00</td>\n",
       "      <td>183.00</td>\n",
       "      <td>2489.00</td>\n",
       "      <td>217.00</td>\n",
       "      <td>1449.00</td>\n",
       "      <td>686.00</td>\n",
       "      <td>954.00</td>\n",
       "    </tr>\n",
       "  </tbody>\n",
       "</table>\n",
       "</div>"
      ],
      "text/plain": [
       "      Age 18-24  Age 25-34  Age 35-49  Age 50-64  Age 65+     Male   Female  \\\n",
       "mean      49.56     135.98     208.10     304.76   363.67   455.26   603.22   \n",
       "std       36.36     105.84     140.64     179.64   248.16   275.70   348.78   \n",
       "min        0.00       1.00       0.00       0.00     2.00     1.00     1.00   \n",
       "25%       23.50      67.50     106.50     183.00   209.50   257.00   365.50   \n",
       "50%       41.00     107.00     180.00     266.00   317.00   412.00   542.00   \n",
       "75%       59.50     176.50     279.50     403.00   420.00   608.50   826.50   \n",
       "max      191.00     532.00     687.00     836.00  1109.00  1296.00  1604.00   \n",
       "\n",
       "      Gender Unknown  African American  Hispanic    White  Other Ethnicity  \\\n",
       "mean            3.58            171.73     43.36   774.32            72.66   \n",
       "std             3.39            250.06     35.67   574.25            49.42   \n",
       "min             0.00              0.00      0.00     3.00             0.00   \n",
       "25%             1.00             21.50     20.50   342.50            33.00   \n",
       "50%             3.00             52.00     37.00   701.00            65.00   \n",
       "75%             6.00            197.00     51.00  1164.50            93.00   \n",
       "max            16.00           1106.00    183.00  2489.00           217.00   \n",
       "\n",
       "      Democrat  Independent  Republican  \n",
       "mean    563.86       231.82      266.38  \n",
       "std     325.32       154.48      226.31  \n",
       "min       2.00         0.00        0.00  \n",
       "25%     351.50       113.50       80.50  \n",
       "50%     544.00       206.00      202.00  \n",
       "75%     706.00       326.00      378.50  \n",
       "max    1449.00       686.00      954.00  "
      ]
     },
     "execution_count": 23,
     "metadata": {},
     "output_type": "execute_result"
    }
   ],
   "source": [
    "summary_df"
   ]
  },
  {
   "cell_type": "code",
   "execution_count": 24,
   "metadata": {},
   "outputs": [],
   "source": [
    "summary_df.to_csv('../data/processed/2021_summary_stats.csv')"
   ]
  },
  {
   "cell_type": "markdown",
   "metadata": {},
   "source": [
    "---\n",
    "---"
   ]
  },
  {
   "cell_type": "code",
   "execution_count": null,
   "metadata": {},
   "outputs": [],
   "source": []
  },
  {
   "cell_type": "code",
   "execution_count": 25,
   "metadata": {},
   "outputs": [],
   "source": [
    "age_df = pd.read_csv('../data/processed/2021_VBM_age_breakdown.csv')\n",
    "gen_df = pd.read_csv('../data/processed/2021_VBM_gender_breakdown.csv')\n",
    "eth_df = pd.read_csv('../data/processed/2021_VBM_ethnicity_breakdown.csv')\n",
    "party_df = pd.read_csv('../data/processed/2021_VBM_party_breakdown.csv')\n",
    "\n",
    "age_df.drop('Total People', axis=1, inplace=True)\n",
    "gen_df.drop('Total People', axis=1, inplace=True)\n",
    "eth_df.drop('Total People', axis=1, inplace=True)\n",
    "party_df.drop('Total People', axis=1, inplace=True)\n",
    "\n",
    "age_df.set_index(age_df['Precinct'], inplace=True)\n",
    "age_df.drop('Precinct', axis=1, inplace=True)\n",
    "gen_df.set_index(gen_df['Precinct'], inplace=True)\n",
    "gen_df.drop('Precinct', axis=1, inplace=True)\n",
    "eth_df.set_index(eth_df['Precinct'], inplace=True)\n",
    "eth_df.drop('Precinct', axis=1, inplace=True)\n",
    "party_df.set_index(party_df['Precinct'], inplace=True)\n",
    "party_df.drop('Precinct', axis=1, inplace=True)"
   ]
  },
  {
   "cell_type": "code",
   "execution_count": 26,
   "metadata": {},
   "outputs": [],
   "source": [
    "age_cols = ['Age 18-24', 'Age 25-34', 'Age 35-49', 'Age 50-64', 'Age 65+']\n",
    "gen_cols = ['Male', 'Female', 'Gender Unknown']\n",
    "eth_cols = ['African American', 'Hispanic', 'White', 'Other Ethnicity']\n",
    "party_cols = ['Democrat', 'Independent', 'Republican']\n",
    "\n",
    "\n",
    "age_df[age_cols] = age_df[age_cols].div(age_df[age_cols].sum(axis=1), axis=0).round(3)\n",
    "gen_df[gen_cols] = gen_df[gen_cols].div(gen_df[gen_cols].sum(axis=1), axis=0).round(3)\n",
    "eth_df[eth_cols] = eth_df[eth_cols].div(eth_df[eth_cols].sum(axis=1), axis=0).round(3)\n",
    "party_df[party_cols] = party_df[party_cols].div(party_df[party_cols].sum(axis=1), axis=0).round(3)"
   ]
  },
  {
   "cell_type": "code",
   "execution_count": 27,
   "metadata": {},
   "outputs": [
    {
     "data": {
      "text/html": [
       "<div>\n",
       "<style scoped>\n",
       "    .dataframe tbody tr th:only-of-type {\n",
       "        vertical-align: middle;\n",
       "    }\n",
       "\n",
       "    .dataframe tbody tr th {\n",
       "        vertical-align: top;\n",
       "    }\n",
       "\n",
       "    .dataframe thead th {\n",
       "        text-align: right;\n",
       "    }\n",
       "</style>\n",
       "<table border=\"1\" class=\"dataframe\">\n",
       "  <thead>\n",
       "    <tr style=\"text-align: right;\">\n",
       "      <th></th>\n",
       "      <th>Age 18-24</th>\n",
       "      <th>Age 25-34</th>\n",
       "      <th>Age 35-49</th>\n",
       "      <th>Age 50-64</th>\n",
       "      <th>Age 65+</th>\n",
       "    </tr>\n",
       "    <tr>\n",
       "      <th>Precinct</th>\n",
       "      <th></th>\n",
       "      <th></th>\n",
       "      <th></th>\n",
       "      <th></th>\n",
       "      <th></th>\n",
       "    </tr>\n",
       "  </thead>\n",
       "  <tbody>\n",
       "    <tr>\n",
       "      <th>101</th>\n",
       "      <td>0.061</td>\n",
       "      <td>0.111</td>\n",
       "      <td>0.186</td>\n",
       "      <td>0.332</td>\n",
       "      <td>0.310</td>\n",
       "    </tr>\n",
       "    <tr>\n",
       "      <th>102</th>\n",
       "      <td>0.034</td>\n",
       "      <td>0.096</td>\n",
       "      <td>0.169</td>\n",
       "      <td>0.267</td>\n",
       "      <td>0.433</td>\n",
       "    </tr>\n",
       "    <tr>\n",
       "      <th>103</th>\n",
       "      <td>0.052</td>\n",
       "      <td>0.085</td>\n",
       "      <td>0.212</td>\n",
       "      <td>0.280</td>\n",
       "      <td>0.371</td>\n",
       "    </tr>\n",
       "    <tr>\n",
       "      <th>104</th>\n",
       "      <td>0.052</td>\n",
       "      <td>0.108</td>\n",
       "      <td>0.190</td>\n",
       "      <td>0.315</td>\n",
       "      <td>0.335</td>\n",
       "    </tr>\n",
       "    <tr>\n",
       "      <th>105</th>\n",
       "      <td>0.056</td>\n",
       "      <td>0.122</td>\n",
       "      <td>0.190</td>\n",
       "      <td>0.280</td>\n",
       "      <td>0.352</td>\n",
       "    </tr>\n",
       "    <tr>\n",
       "      <th>...</th>\n",
       "      <td>...</td>\n",
       "      <td>...</td>\n",
       "      <td>...</td>\n",
       "      <td>...</td>\n",
       "      <td>...</td>\n",
       "    </tr>\n",
       "    <tr>\n",
       "      <th>237</th>\n",
       "      <td>0.036</td>\n",
       "      <td>0.100</td>\n",
       "      <td>0.191</td>\n",
       "      <td>0.309</td>\n",
       "      <td>0.364</td>\n",
       "    </tr>\n",
       "    <tr>\n",
       "      <th>239</th>\n",
       "      <td>0.052</td>\n",
       "      <td>0.134</td>\n",
       "      <td>0.212</td>\n",
       "      <td>0.277</td>\n",
       "      <td>0.325</td>\n",
       "    </tr>\n",
       "    <tr>\n",
       "      <th>240</th>\n",
       "      <td>0.036</td>\n",
       "      <td>0.119</td>\n",
       "      <td>0.200</td>\n",
       "      <td>0.309</td>\n",
       "      <td>0.336</td>\n",
       "    </tr>\n",
       "    <tr>\n",
       "      <th>241</th>\n",
       "      <td>0.043</td>\n",
       "      <td>0.081</td>\n",
       "      <td>0.157</td>\n",
       "      <td>0.335</td>\n",
       "      <td>0.383</td>\n",
       "    </tr>\n",
       "    <tr>\n",
       "      <th>275</th>\n",
       "      <td>0.034</td>\n",
       "      <td>0.107</td>\n",
       "      <td>0.211</td>\n",
       "      <td>0.330</td>\n",
       "      <td>0.318</td>\n",
       "    </tr>\n",
       "  </tbody>\n",
       "</table>\n",
       "<p>91 rows × 5 columns</p>\n",
       "</div>"
      ],
      "text/plain": [
       "          Age 18-24  Age 25-34  Age 35-49  Age 50-64  Age 65+\n",
       "Precinct                                                     \n",
       "101           0.061      0.111      0.186      0.332    0.310\n",
       "102           0.034      0.096      0.169      0.267    0.433\n",
       "103           0.052      0.085      0.212      0.280    0.371\n",
       "104           0.052      0.108      0.190      0.315    0.335\n",
       "105           0.056      0.122      0.190      0.280    0.352\n",
       "...             ...        ...        ...        ...      ...\n",
       "237           0.036      0.100      0.191      0.309    0.364\n",
       "239           0.052      0.134      0.212      0.277    0.325\n",
       "240           0.036      0.119      0.200      0.309    0.336\n",
       "241           0.043      0.081      0.157      0.335    0.383\n",
       "275           0.034      0.107      0.211      0.330    0.318\n",
       "\n",
       "[91 rows x 5 columns]"
      ]
     },
     "execution_count": 27,
     "metadata": {},
     "output_type": "execute_result"
    }
   ],
   "source": [
    "age_df"
   ]
  },
  {
   "cell_type": "code",
   "execution_count": 28,
   "metadata": {},
   "outputs": [],
   "source": [
    "age_df.to_csv('../data/processed/2021_VBM_age_percentages.csv')\n",
    "gen_df.to_csv('../data/processed/2021_VBM_gender_percentages.csv')\n",
    "eth_df.to_csv('../data/processed/2021_VBM_ethnicity_percentages.csv')\n",
    "party_df.to_csv('../data/processed/2021_VBM_party_percentages.csv')"
   ]
  },
  {
   "cell_type": "markdown",
   "metadata": {},
   "source": [
    "---"
   ]
  },
  {
   "cell_type": "code",
   "execution_count": null,
   "metadata": {},
   "outputs": [],
   "source": []
  },
  {
   "cell_type": "markdown",
   "metadata": {},
   "source": [
    "---\n",
    "#### Age"
   ]
  },
  {
   "cell_type": "code",
   "execution_count": null,
   "metadata": {},
   "outputs": [],
   "source": []
  },
  {
   "cell_type": "code",
   "execution_count": null,
   "metadata": {},
   "outputs": [],
   "source": []
  },
  {
   "cell_type": "code",
   "execution_count": null,
   "metadata": {},
   "outputs": [],
   "source": []
  },
  {
   "cell_type": "code",
   "execution_count": null,
   "metadata": {},
   "outputs": [],
   "source": []
  },
  {
   "cell_type": "code",
   "execution_count": null,
   "metadata": {},
   "outputs": [],
   "source": []
  },
  {
   "cell_type": "markdown",
   "metadata": {},
   "source": [
    "---\n",
    "#### Gender"
   ]
  },
  {
   "cell_type": "code",
   "execution_count": null,
   "metadata": {},
   "outputs": [],
   "source": []
  },
  {
   "cell_type": "code",
   "execution_count": null,
   "metadata": {},
   "outputs": [],
   "source": []
  },
  {
   "cell_type": "code",
   "execution_count": null,
   "metadata": {},
   "outputs": [],
   "source": []
  },
  {
   "cell_type": "code",
   "execution_count": null,
   "metadata": {},
   "outputs": [],
   "source": []
  },
  {
   "cell_type": "code",
   "execution_count": null,
   "metadata": {},
   "outputs": [],
   "source": []
  },
  {
   "cell_type": "code",
   "execution_count": null,
   "metadata": {},
   "outputs": [],
   "source": []
  },
  {
   "cell_type": "code",
   "execution_count": null,
   "metadata": {},
   "outputs": [],
   "source": []
  },
  {
   "cell_type": "markdown",
   "metadata": {},
   "source": [
    "---\n",
    "#### Ethnicity"
   ]
  },
  {
   "cell_type": "code",
   "execution_count": null,
   "metadata": {},
   "outputs": [],
   "source": []
  },
  {
   "cell_type": "code",
   "execution_count": null,
   "metadata": {},
   "outputs": [],
   "source": []
  },
  {
   "cell_type": "code",
   "execution_count": null,
   "metadata": {},
   "outputs": [],
   "source": []
  },
  {
   "cell_type": "code",
   "execution_count": null,
   "metadata": {},
   "outputs": [],
   "source": []
  },
  {
   "cell_type": "code",
   "execution_count": null,
   "metadata": {},
   "outputs": [],
   "source": []
  },
  {
   "cell_type": "code",
   "execution_count": null,
   "metadata": {},
   "outputs": [],
   "source": []
  },
  {
   "cell_type": "markdown",
   "metadata": {},
   "source": [
    "---\n",
    "#### Party Affiliation"
   ]
  },
  {
   "cell_type": "code",
   "execution_count": null,
   "metadata": {},
   "outputs": [],
   "source": []
  },
  {
   "cell_type": "code",
   "execution_count": null,
   "metadata": {},
   "outputs": [],
   "source": []
  },
  {
   "cell_type": "code",
   "execution_count": null,
   "metadata": {},
   "outputs": [],
   "source": []
  },
  {
   "cell_type": "code",
   "execution_count": null,
   "metadata": {},
   "outputs": [],
   "source": []
  },
  {
   "cell_type": "code",
   "execution_count": null,
   "metadata": {},
   "outputs": [],
   "source": []
  },
  {
   "cell_type": "code",
   "execution_count": null,
   "metadata": {},
   "outputs": [],
   "source": []
  },
  {
   "cell_type": "code",
   "execution_count": null,
   "metadata": {},
   "outputs": [],
   "source": []
  },
  {
   "cell_type": "code",
   "execution_count": null,
   "metadata": {},
   "outputs": [],
   "source": []
  },
  {
   "cell_type": "code",
   "execution_count": null,
   "metadata": {},
   "outputs": [],
   "source": []
  }
 ],
 "metadata": {
  "kernelspec": {
   "display_name": "Python 3",
   "language": "python",
   "name": "python3"
  },
  "language_info": {
   "codemirror_mode": {
    "name": "ipython",
    "version": 3
   },
   "file_extension": ".py",
   "mimetype": "text/x-python",
   "name": "python",
   "nbconvert_exporter": "python",
   "pygments_lexer": "ipython3",
   "version": "3.8.5"
  }
 },
 "nbformat": 4,
 "nbformat_minor": 4
}
