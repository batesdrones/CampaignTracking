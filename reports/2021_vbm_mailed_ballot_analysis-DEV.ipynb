{
 "cells": [
  {
   "cell_type": "markdown",
   "metadata": {},
   "source": [
    "![](../additional_materials/logos/darden_rice_logo_SM.png)"
   ]
  },
  {
   "cell_type": "markdown",
   "metadata": {},
   "source": [
    "### VBM Demographic Analysis - DEV ENVIRONMENT\n",
    "#### 2021 Municipal Primary, Ballots Mailed"
   ]
  },
  {
   "cell_type": "markdown",
   "metadata": {},
   "source": [
    "---"
   ]
  },
  {
   "cell_type": "code",
   "execution_count": 1,
   "metadata": {},
   "outputs": [],
   "source": [
    "import pandas as pd\n",
    "pd.set_option('display.max_columns', None)\n",
    "\n",
    "import numpy as np\n",
    "import matplotlib.pyplot as plt\n",
    "import seaborn as sns"
   ]
  },
  {
   "cell_type": "code",
   "execution_count": 2,
   "metadata": {},
   "outputs": [],
   "source": [
    "df = pd.read_csv('../data/raw/2021_VBM_mailed_ballots.csv')\n",
    "# df.head(3)"
   ]
  },
  {
   "cell_type": "code",
   "execution_count": 3,
   "metadata": {},
   "outputs": [],
   "source": [
    "# Define columns to be renamed based on headers in the first row (index 0) of df\n",
    "column_names = {'Age': 'Age 18-24', 'Unnamed: 2': 'Age 25-34', 'Unnamed: 3': 'Age 35-49', 'Unnamed: 4': 'Age 50-64',\n",
    "                'Unnamed: 5': 'Age 65+', 'Unnamed: 6': 'Age Unknown', 'Gender': 'Male', 'Unnamed: 8': 'Female', \n",
    "                'Unnamed: 9': 'Gender Unknown', 'Ethnicity': 'African American', 'Unnamed: 11': 'Hispanic', \n",
    "                'Unnamed: 12': 'White', 'Unnamed: 13': 'Other Ethnicity', 'Unnamed: 14': 'Ethnicity Unknown', \n",
    "                'Party': 'Democrat', 'Unnamed: 16': 'Independent', 'Unnamed: 17': 'Republican', 'Unnamed: 18': 'Other Party',\n",
    "                'Unnamed: 19': 'Party Unknown'}\n",
    "\n",
    "# Rename columns based on dictionary above\n",
    "df.rename(column_names, axis=1, inplace=True)"
   ]
  },
  {
   "cell_type": "code",
   "execution_count": 4,
   "metadata": {},
   "outputs": [],
   "source": [
    "# Drop the first row of the df, containing headers\n",
    "df.drop(labels=0, axis=0, inplace=True)\n",
    "# Drop final row of df, containing column totals\n",
    "df.drop(df.tail(1).index, inplace=True)\n",
    "\n",
    "# Reset df index\n",
    "df.reset_index(drop = True, inplace = True)"
   ]
  },
  {
   "cell_type": "code",
   "execution_count": 5,
   "metadata": {},
   "outputs": [],
   "source": [
    "# Remove commas from numeric entries and converting all columns to numeric values\n",
    "df = df.apply(lambda x: x.str.replace(',', ''))\n",
    "\n",
    "df = df.apply(pd.to_numeric)"
   ]
  },
  {
   "cell_type": "code",
   "execution_count": 6,
   "metadata": {},
   "outputs": [
    {
     "data": {
      "text/plain": [
       "Precinct             int64\n",
       "Age 18-24            int64\n",
       "Age 25-34            int64\n",
       "Age 35-49            int64\n",
       "Age 50-64            int64\n",
       "Age 65+              int64\n",
       "Age Unknown          int64\n",
       "Male                 int64\n",
       "Female               int64\n",
       "Gender Unknown       int64\n",
       "African American     int64\n",
       "Hispanic             int64\n",
       "White                int64\n",
       "Other Ethnicity      int64\n",
       "Ethnicity Unknown    int64\n",
       "Democrat             int64\n",
       "Independent          int64\n",
       "Republican           int64\n",
       "Other Party          int64\n",
       "Total People         int64\n",
       "dtype: object"
      ]
     },
     "execution_count": 6,
     "metadata": {},
     "output_type": "execute_result"
    }
   ],
   "source": [
    "df.dtypes"
   ]
  },
  {
   "cell_type": "code",
   "execution_count": 7,
   "metadata": {},
   "outputs": [],
   "source": [
    "# Set index to precinct number\n",
    "df.set_index(df['Precinct'], inplace = True)\n",
    "df.drop('Precinct', axis = 1, inplace = True)\n",
    "\n",
    "# df.head(3)"
   ]
  },
  {
   "cell_type": "code",
   "execution_count": 8,
   "metadata": {},
   "outputs": [],
   "source": [
    "# Use this function to remove all columns that sum to 0 people, i.e., columns that don't represent any voters\n",
    "def remove_zero_sum_cols(df):\n",
    "    features = []\n",
    "    columns = list(df.columns.values)\n",
    "    for c in columns:\n",
    "        if df[c].sum() != 0:\n",
    "            features.append(c)\n",
    "    df = df[features]\n",
    "    return df"
   ]
  },
  {
   "cell_type": "code",
   "execution_count": 9,
   "metadata": {},
   "outputs": [],
   "source": [
    "df = remove_zero_sum_cols(df)"
   ]
  },
  {
   "cell_type": "code",
   "execution_count": 10,
   "metadata": {},
   "outputs": [
    {
     "data": {
      "text/html": [
       "<div>\n",
       "<style scoped>\n",
       "    .dataframe tbody tr th:only-of-type {\n",
       "        vertical-align: middle;\n",
       "    }\n",
       "\n",
       "    .dataframe tbody tr th {\n",
       "        vertical-align: top;\n",
       "    }\n",
       "\n",
       "    .dataframe thead th {\n",
       "        text-align: right;\n",
       "    }\n",
       "</style>\n",
       "<table border=\"1\" class=\"dataframe\">\n",
       "  <thead>\n",
       "    <tr style=\"text-align: right;\">\n",
       "      <th></th>\n",
       "      <th>Age 18-24</th>\n",
       "      <th>Age 25-34</th>\n",
       "      <th>Age 35-49</th>\n",
       "      <th>Age 50-64</th>\n",
       "      <th>Age 65+</th>\n",
       "      <th>Male</th>\n",
       "      <th>Female</th>\n",
       "      <th>Gender Unknown</th>\n",
       "      <th>African American</th>\n",
       "      <th>Hispanic</th>\n",
       "      <th>White</th>\n",
       "      <th>Other Ethnicity</th>\n",
       "      <th>Democrat</th>\n",
       "      <th>Independent</th>\n",
       "      <th>Republican</th>\n",
       "      <th>Total People</th>\n",
       "    </tr>\n",
       "    <tr>\n",
       "      <th>Precinct</th>\n",
       "      <th></th>\n",
       "      <th></th>\n",
       "      <th></th>\n",
       "      <th></th>\n",
       "      <th></th>\n",
       "      <th></th>\n",
       "      <th></th>\n",
       "      <th></th>\n",
       "      <th></th>\n",
       "      <th></th>\n",
       "      <th></th>\n",
       "      <th></th>\n",
       "      <th></th>\n",
       "      <th></th>\n",
       "      <th></th>\n",
       "      <th></th>\n",
       "    </tr>\n",
       "  </thead>\n",
       "  <tbody>\n",
       "    <tr>\n",
       "      <th>101</th>\n",
       "      <td>123</td>\n",
       "      <td>222</td>\n",
       "      <td>374</td>\n",
       "      <td>666</td>\n",
       "      <td>621</td>\n",
       "      <td>829</td>\n",
       "      <td>1167</td>\n",
       "      <td>10</td>\n",
       "      <td>1052</td>\n",
       "      <td>42</td>\n",
       "      <td>781</td>\n",
       "      <td>131</td>\n",
       "      <td>1395</td>\n",
       "      <td>356</td>\n",
       "      <td>255</td>\n",
       "      <td>2006</td>\n",
       "    </tr>\n",
       "    <tr>\n",
       "      <th>102</th>\n",
       "      <td>33</td>\n",
       "      <td>93</td>\n",
       "      <td>163</td>\n",
       "      <td>258</td>\n",
       "      <td>418</td>\n",
       "      <td>378</td>\n",
       "      <td>583</td>\n",
       "      <td>4</td>\n",
       "      <td>466</td>\n",
       "      <td>17</td>\n",
       "      <td>428</td>\n",
       "      <td>54</td>\n",
       "      <td>707</td>\n",
       "      <td>134</td>\n",
       "      <td>124</td>\n",
       "      <td>965</td>\n",
       "    </tr>\n",
       "    <tr>\n",
       "      <th>103</th>\n",
       "      <td>25</td>\n",
       "      <td>41</td>\n",
       "      <td>103</td>\n",
       "      <td>136</td>\n",
       "      <td>180</td>\n",
       "      <td>210</td>\n",
       "      <td>275</td>\n",
       "      <td>0</td>\n",
       "      <td>33</td>\n",
       "      <td>9</td>\n",
       "      <td>413</td>\n",
       "      <td>30</td>\n",
       "      <td>258</td>\n",
       "      <td>108</td>\n",
       "      <td>119</td>\n",
       "      <td>485</td>\n",
       "    </tr>\n",
       "  </tbody>\n",
       "</table>\n",
       "</div>"
      ],
      "text/plain": [
       "          Age 18-24  Age 25-34  Age 35-49  Age 50-64  Age 65+  Male  Female  \\\n",
       "Precinct                                                                      \n",
       "101             123        222        374        666      621   829    1167   \n",
       "102              33         93        163        258      418   378     583   \n",
       "103              25         41        103        136      180   210     275   \n",
       "\n",
       "          Gender Unknown  African American  Hispanic  White  Other Ethnicity  \\\n",
       "Precinct                                                                       \n",
       "101                   10              1052        42    781              131   \n",
       "102                    4               466        17    428               54   \n",
       "103                    0                33         9    413               30   \n",
       "\n",
       "          Democrat  Independent  Republican  Total People  \n",
       "Precinct                                                   \n",
       "101           1395          356         255          2006  \n",
       "102            707          134         124           965  \n",
       "103            258          108         119           485  "
      ]
     },
     "execution_count": 10,
     "metadata": {},
     "output_type": "execute_result"
    }
   ],
   "source": [
    "df.head(3)"
   ]
  },
  {
   "cell_type": "markdown",
   "metadata": {},
   "source": [
    "---\n",
    "---\n",
    "#### Save clean master csv here"
   ]
  },
  {
   "cell_type": "code",
   "execution_count": 11,
   "metadata": {},
   "outputs": [],
   "source": [
    "df.to_csv('../data/processed/2021_VBM_mailed_ballots_master.csv')"
   ]
  },
  {
   "cell_type": "markdown",
   "metadata": {},
   "source": [
    "---\n",
    "#### Generate and Export Subset Dataframes"
   ]
  },
  {
   "cell_type": "code",
   "execution_count": 14,
   "metadata": {},
   "outputs": [],
   "source": [
    "def subset_dfs(df):\n",
    "    age = []\n",
    "    gen = []\n",
    "    eth = []\n",
    "    pty = []\n",
    "    columns = list(df.columns.values)\n",
    "    for c in columns:\n",
    "        if 'Age' in c:\n",
    "            age.append(c)\n",
    "        elif 'M' or 'F' or 'G' in c:\n",
    "            gen.append(c)\n",
    "        elif 'A' or 'H' or 'W' or 'E' in c:\n",
    "            eth.append(c)\n",
    "        elif 'D' or 'I' or 'R' or 'P' in c:\n",
    "            pty.append(c)\n",
    "    return age, gen, eth, pty"
   ]
  },
  {
   "cell_type": "code",
   "execution_count": 15,
   "metadata": {},
   "outputs": [
    {
     "data": {
      "text/plain": [
       "(['Age 18-24', 'Age 25-34', 'Age 35-49', 'Age 50-64', 'Age 65+'],\n",
       " ['Male',\n",
       "  'Female',\n",
       "  'Gender Unknown',\n",
       "  'African American',\n",
       "  'Hispanic',\n",
       "  'White',\n",
       "  'Other Ethnicity',\n",
       "  'Democrat',\n",
       "  'Independent',\n",
       "  'Republican',\n",
       "  'Total People'],\n",
       " [],\n",
       " [])"
      ]
     },
     "execution_count": 15,
     "metadata": {},
     "output_type": "execute_result"
    }
   ],
   "source": [
    "subset_dfs(df)"
   ]
  },
  {
   "cell_type": "code",
   "execution_count": null,
   "metadata": {},
   "outputs": [],
   "source": []
  },
  {
   "cell_type": "code",
   "execution_count": 18,
   "metadata": {},
   "outputs": [],
   "source": [
    "def subset_dfs(df):\n",
    "    age_cols = ['Age 18-24', 'Age 25-34', 'Age 35-49', 'Age 50-64', 'Age 65+', 'Age Unknown']\n",
    "    gender_cols = ['Male', 'Female', 'Gender Unknown']\n",
    "    ethnicity_cols = ['African American', 'Hispanic', 'White', 'Other Ethnicity', 'Ethnicity Unknown']\n",
    "    party_cols = ['Democrat', 'Independent', 'Republican', 'Other Party']\n",
    "    age = []\n",
    "    gen = []\n",
    "    eth = []\n",
    "    pty = []\n",
    "    columns = list(df.columns.values)\n",
    "    for c in columns:\n",
    "        if age_cols in c:\n",
    "            age.append(c)\n",
    "        elif gender_cols in c:\n",
    "            gen.append(c)\n",
    "        elif ethnicity_cols in c:\n",
    "            eth.append(c)\n",
    "        elif party_cols in c:\n",
    "            pty.append(c)\n",
    "    return df\n",
    "\n",
    "# Subset dataframes containing age, gender, ethnicity, and party affiliation breakdowns by precinct\n",
    "age_df = df[['Precinct', 'Age 18-24', 'Age 25-34', 'Age 35-49', 'Age 50-64', 'Age 65+', 'Age Unknown', 'Total People']].copy()\n",
    "gen_df = df[['Precinct', 'Male', 'Female', 'Gender Unknown', 'Total People']].copy()\n",
    "eth_df = df[['Precinct', 'African American', 'Hispanic', 'White', 'Other Ethnicity', 'Ethnicity Unknown', 'Total People']].copy()\n",
    "party_df = df[['Precinct', 'Democrat', 'Independent', 'Republican', 'Other Party', 'Total People']].copy()"
   ]
  },
  {
   "cell_type": "code",
   "execution_count": 19,
   "metadata": {},
   "outputs": [],
   "source": [
    "# Saving all master dataframe subsets to individual csv files\n",
    "age_df.to_csv('../data/processed/2021_VBM_age_breakdown', index = False)\n",
    "gen_df.to_csv('../data/processed/2021_VBM_gender_breakdown', index = False)\n",
    "eth_df.to_csv('../data/processed/2021_VBM_ethnicity_breakdown', index = False)\n",
    "party_df.to_csv('../data/processed/2021_VBM_party_breakdown', index = False)"
   ]
  },
  {
   "cell_type": "markdown",
   "metadata": {},
   "source": [
    "---\n",
    "---"
   ]
  },
  {
   "cell_type": "markdown",
   "metadata": {},
   "source": [
    "### Analysis"
   ]
  },
  {
   "cell_type": "code",
   "execution_count": 12,
   "metadata": {},
   "outputs": [],
   "source": [
    "df = pd.read_csv('../data/processed/2021_VBM_mailed_ballots_master.csv')"
   ]
  },
  {
   "cell_type": "code",
   "execution_count": 13,
   "metadata": {},
   "outputs": [
    {
     "data": {
      "text/html": [
       "<div>\n",
       "<style scoped>\n",
       "    .dataframe tbody tr th:only-of-type {\n",
       "        vertical-align: middle;\n",
       "    }\n",
       "\n",
       "    .dataframe tbody tr th {\n",
       "        vertical-align: top;\n",
       "    }\n",
       "\n",
       "    .dataframe thead th {\n",
       "        text-align: right;\n",
       "    }\n",
       "</style>\n",
       "<table border=\"1\" class=\"dataframe\">\n",
       "  <thead>\n",
       "    <tr style=\"text-align: right;\">\n",
       "      <th></th>\n",
       "      <th>Precinct</th>\n",
       "      <th>Age 18-24</th>\n",
       "      <th>Age 25-34</th>\n",
       "      <th>Age 35-49</th>\n",
       "      <th>Age 50-64</th>\n",
       "      <th>Age 65+</th>\n",
       "      <th>Male</th>\n",
       "      <th>Female</th>\n",
       "      <th>Gender Unknown</th>\n",
       "      <th>African American</th>\n",
       "      <th>Hispanic</th>\n",
       "      <th>White</th>\n",
       "      <th>Other Ethnicity</th>\n",
       "      <th>Democrat</th>\n",
       "      <th>Independent</th>\n",
       "      <th>Republican</th>\n",
       "      <th>Total People</th>\n",
       "    </tr>\n",
       "  </thead>\n",
       "  <tbody>\n",
       "    <tr>\n",
       "      <th>0</th>\n",
       "      <td>101</td>\n",
       "      <td>123</td>\n",
       "      <td>222</td>\n",
       "      <td>374</td>\n",
       "      <td>666</td>\n",
       "      <td>621</td>\n",
       "      <td>829</td>\n",
       "      <td>1167</td>\n",
       "      <td>10</td>\n",
       "      <td>1052</td>\n",
       "      <td>42</td>\n",
       "      <td>781</td>\n",
       "      <td>131</td>\n",
       "      <td>1395</td>\n",
       "      <td>356</td>\n",
       "      <td>255</td>\n",
       "      <td>2006</td>\n",
       "    </tr>\n",
       "    <tr>\n",
       "      <th>1</th>\n",
       "      <td>102</td>\n",
       "      <td>33</td>\n",
       "      <td>93</td>\n",
       "      <td>163</td>\n",
       "      <td>258</td>\n",
       "      <td>418</td>\n",
       "      <td>378</td>\n",
       "      <td>583</td>\n",
       "      <td>4</td>\n",
       "      <td>466</td>\n",
       "      <td>17</td>\n",
       "      <td>428</td>\n",
       "      <td>54</td>\n",
       "      <td>707</td>\n",
       "      <td>134</td>\n",
       "      <td>124</td>\n",
       "      <td>965</td>\n",
       "    </tr>\n",
       "    <tr>\n",
       "      <th>2</th>\n",
       "      <td>103</td>\n",
       "      <td>25</td>\n",
       "      <td>41</td>\n",
       "      <td>103</td>\n",
       "      <td>136</td>\n",
       "      <td>180</td>\n",
       "      <td>210</td>\n",
       "      <td>275</td>\n",
       "      <td>0</td>\n",
       "      <td>33</td>\n",
       "      <td>9</td>\n",
       "      <td>413</td>\n",
       "      <td>30</td>\n",
       "      <td>258</td>\n",
       "      <td>108</td>\n",
       "      <td>119</td>\n",
       "      <td>485</td>\n",
       "    </tr>\n",
       "  </tbody>\n",
       "</table>\n",
       "</div>"
      ],
      "text/plain": [
       "   Precinct  Age 18-24  Age 25-34  Age 35-49  Age 50-64  Age 65+  Male  \\\n",
       "0       101        123        222        374        666      621   829   \n",
       "1       102         33         93        163        258      418   378   \n",
       "2       103         25         41        103        136      180   210   \n",
       "\n",
       "   Female  Gender Unknown  African American  Hispanic  White  Other Ethnicity  \\\n",
       "0    1167              10              1052        42    781              131   \n",
       "1     583               4               466        17    428               54   \n",
       "2     275               0                33         9    413               30   \n",
       "\n",
       "   Democrat  Independent  Republican  Total People  \n",
       "0      1395          356         255          2006  \n",
       "1       707          134         124           965  \n",
       "2       258          108         119           485  "
      ]
     },
     "execution_count": 13,
     "metadata": {},
     "output_type": "execute_result"
    }
   ],
   "source": [
    "df.head(3)"
   ]
  },
  {
   "cell_type": "code",
   "execution_count": 14,
   "metadata": {},
   "outputs": [
    {
     "data": {
      "text/plain": [
       "(91, 20)"
      ]
     },
     "execution_count": 14,
     "metadata": {},
     "output_type": "execute_result"
    }
   ],
   "source": [
    "df.shape"
   ]
  },
  {
   "cell_type": "code",
   "execution_count": 15,
   "metadata": {},
   "outputs": [],
   "source": [
    "# df.isnull().sum()"
   ]
  },
  {
   "cell_type": "code",
   "execution_count": 16,
   "metadata": {},
   "outputs": [],
   "source": [
    "# df.dtypes"
   ]
  },
  {
   "cell_type": "markdown",
   "metadata": {},
   "source": [
    "---"
   ]
  },
  {
   "cell_type": "code",
   "execution_count": null,
   "metadata": {},
   "outputs": [],
   "source": [
    "# Set index to precinct number\n",
    "df.set_index(df['Precinct'], inplace = True)\n",
    "df.drop('Precinct', axis = 1, inplace = True)\n",
    "\n",
    "# Drop 'Total People'\n",
    "df.drop('Total People', axis = 1, inplace = True)"
   ]
  },
  {
   "cell_type": "markdown",
   "metadata": {},
   "source": [
    "---"
   ]
  },
  {
   "cell_type": "code",
   "execution_count": null,
   "metadata": {},
   "outputs": [],
   "source": []
  },
  {
   "cell_type": "code",
   "execution_count": null,
   "metadata": {},
   "outputs": [],
   "source": []
  },
  {
   "cell_type": "code",
   "execution_count": null,
   "metadata": {},
   "outputs": [],
   "source": []
  },
  {
   "cell_type": "code",
   "execution_count": null,
   "metadata": {},
   "outputs": [],
   "source": []
  },
  {
   "cell_type": "code",
   "execution_count": null,
   "metadata": {},
   "outputs": [],
   "source": []
  },
  {
   "cell_type": "code",
   "execution_count": null,
   "metadata": {},
   "outputs": [],
   "source": [
    "# age_cols = ['Age 18-24', 'Age 25-34', 'Age 35-49', 'Age 50-64', 'Age 65+', 'Age Unknown']\n",
    "# gender_cols = ['Male', 'Female', 'Gender Unknown']\n",
    "# ethnicity_cols = ['African American', 'Hispanic', 'White', 'Other Ethnicity', 'Ethnicity Unknown']\n",
    "# party_cols = ['Democrat', 'Independent', 'Republican', 'Other Party']"
   ]
  },
  {
   "cell_type": "markdown",
   "metadata": {},
   "source": [
    "**BELOW:** This table shows the mean, standard deviation, minimum and maximum values, and quartile values for all voters in Pinellas County (all precincts combined) who requested and wwere mailed ballots for the 2021 Municipal Primary."
   ]
  },
  {
   "cell_type": "code",
   "execution_count": 19,
   "metadata": {},
   "outputs": [
    {
     "data": {
      "text/html": [
       "<div>\n",
       "<style scoped>\n",
       "    .dataframe tbody tr th:only-of-type {\n",
       "        vertical-align: middle;\n",
       "    }\n",
       "\n",
       "    .dataframe tbody tr th {\n",
       "        vertical-align: top;\n",
       "    }\n",
       "\n",
       "    .dataframe thead th {\n",
       "        text-align: right;\n",
       "    }\n",
       "</style>\n",
       "<table border=\"1\" class=\"dataframe\">\n",
       "  <thead>\n",
       "    <tr style=\"text-align: right;\">\n",
       "      <th></th>\n",
       "      <th>Age 18-24</th>\n",
       "      <th>Age 25-34</th>\n",
       "      <th>Age 35-49</th>\n",
       "      <th>Age 50-64</th>\n",
       "      <th>Age 65+</th>\n",
       "      <th>Age Unknown</th>\n",
       "      <th>Male</th>\n",
       "      <th>Female</th>\n",
       "      <th>Gender Unknown</th>\n",
       "      <th>African American</th>\n",
       "      <th>Hispanic</th>\n",
       "      <th>White</th>\n",
       "      <th>Other Ethnicity</th>\n",
       "      <th>Ethnicity Unknown</th>\n",
       "      <th>Democrat</th>\n",
       "      <th>Independent</th>\n",
       "      <th>Republican</th>\n",
       "      <th>Other Party</th>\n",
       "      <th>Total People</th>\n",
       "    </tr>\n",
       "  </thead>\n",
       "  <tbody>\n",
       "    <tr>\n",
       "      <th>count</th>\n",
       "      <td>91.000000</td>\n",
       "      <td>91.000000</td>\n",
       "      <td>91.000000</td>\n",
       "      <td>91.000000</td>\n",
       "      <td>91.000000</td>\n",
       "      <td>91.0</td>\n",
       "      <td>91.000000</td>\n",
       "      <td>91.000000</td>\n",
       "      <td>91.000000</td>\n",
       "      <td>91.000000</td>\n",
       "      <td>91.000000</td>\n",
       "      <td>91.000000</td>\n",
       "      <td>91.000000</td>\n",
       "      <td>91.0</td>\n",
       "      <td>91.000000</td>\n",
       "      <td>91.000000</td>\n",
       "      <td>91.000000</td>\n",
       "      <td>91.0</td>\n",
       "      <td>91.000000</td>\n",
       "    </tr>\n",
       "    <tr>\n",
       "      <th>mean</th>\n",
       "      <td>49.560440</td>\n",
       "      <td>135.978022</td>\n",
       "      <td>208.098901</td>\n",
       "      <td>304.758242</td>\n",
       "      <td>363.670330</td>\n",
       "      <td>0.0</td>\n",
       "      <td>455.263736</td>\n",
       "      <td>603.219780</td>\n",
       "      <td>3.582418</td>\n",
       "      <td>171.725275</td>\n",
       "      <td>43.362637</td>\n",
       "      <td>774.318681</td>\n",
       "      <td>72.659341</td>\n",
       "      <td>0.0</td>\n",
       "      <td>563.857143</td>\n",
       "      <td>231.824176</td>\n",
       "      <td>266.384615</td>\n",
       "      <td>0.0</td>\n",
       "      <td>1062.065934</td>\n",
       "    </tr>\n",
       "    <tr>\n",
       "      <th>std</th>\n",
       "      <td>36.356631</td>\n",
       "      <td>105.843908</td>\n",
       "      <td>140.642182</td>\n",
       "      <td>179.644732</td>\n",
       "      <td>248.161778</td>\n",
       "      <td>0.0</td>\n",
       "      <td>275.703578</td>\n",
       "      <td>348.777318</td>\n",
       "      <td>3.389742</td>\n",
       "      <td>250.057019</td>\n",
       "      <td>35.669008</td>\n",
       "      <td>574.249537</td>\n",
       "      <td>49.419794</td>\n",
       "      <td>0.0</td>\n",
       "      <td>325.322560</td>\n",
       "      <td>154.477801</td>\n",
       "      <td>226.309413</td>\n",
       "      <td>0.0</td>\n",
       "      <td>624.066695</td>\n",
       "    </tr>\n",
       "    <tr>\n",
       "      <th>min</th>\n",
       "      <td>0.000000</td>\n",
       "      <td>1.000000</td>\n",
       "      <td>0.000000</td>\n",
       "      <td>0.000000</td>\n",
       "      <td>2.000000</td>\n",
       "      <td>0.0</td>\n",
       "      <td>1.000000</td>\n",
       "      <td>1.000000</td>\n",
       "      <td>0.000000</td>\n",
       "      <td>0.000000</td>\n",
       "      <td>0.000000</td>\n",
       "      <td>3.000000</td>\n",
       "      <td>0.000000</td>\n",
       "      <td>0.0</td>\n",
       "      <td>2.000000</td>\n",
       "      <td>0.000000</td>\n",
       "      <td>0.000000</td>\n",
       "      <td>0.0</td>\n",
       "      <td>3.000000</td>\n",
       "    </tr>\n",
       "    <tr>\n",
       "      <th>25%</th>\n",
       "      <td>23.500000</td>\n",
       "      <td>67.500000</td>\n",
       "      <td>106.500000</td>\n",
       "      <td>183.000000</td>\n",
       "      <td>209.500000</td>\n",
       "      <td>0.0</td>\n",
       "      <td>257.000000</td>\n",
       "      <td>365.500000</td>\n",
       "      <td>1.000000</td>\n",
       "      <td>21.500000</td>\n",
       "      <td>20.500000</td>\n",
       "      <td>342.500000</td>\n",
       "      <td>33.000000</td>\n",
       "      <td>0.0</td>\n",
       "      <td>351.500000</td>\n",
       "      <td>113.500000</td>\n",
       "      <td>80.500000</td>\n",
       "      <td>0.0</td>\n",
       "      <td>633.500000</td>\n",
       "    </tr>\n",
       "    <tr>\n",
       "      <th>50%</th>\n",
       "      <td>41.000000</td>\n",
       "      <td>107.000000</td>\n",
       "      <td>180.000000</td>\n",
       "      <td>266.000000</td>\n",
       "      <td>317.000000</td>\n",
       "      <td>0.0</td>\n",
       "      <td>412.000000</td>\n",
       "      <td>542.000000</td>\n",
       "      <td>3.000000</td>\n",
       "      <td>52.000000</td>\n",
       "      <td>37.000000</td>\n",
       "      <td>701.000000</td>\n",
       "      <td>65.000000</td>\n",
       "      <td>0.0</td>\n",
       "      <td>544.000000</td>\n",
       "      <td>206.000000</td>\n",
       "      <td>202.000000</td>\n",
       "      <td>0.0</td>\n",
       "      <td>956.000000</td>\n",
       "    </tr>\n",
       "    <tr>\n",
       "      <th>75%</th>\n",
       "      <td>59.500000</td>\n",
       "      <td>176.500000</td>\n",
       "      <td>279.500000</td>\n",
       "      <td>403.000000</td>\n",
       "      <td>420.000000</td>\n",
       "      <td>0.0</td>\n",
       "      <td>608.500000</td>\n",
       "      <td>826.500000</td>\n",
       "      <td>6.000000</td>\n",
       "      <td>197.000000</td>\n",
       "      <td>51.000000</td>\n",
       "      <td>1164.500000</td>\n",
       "      <td>93.000000</td>\n",
       "      <td>0.0</td>\n",
       "      <td>706.000000</td>\n",
       "      <td>326.000000</td>\n",
       "      <td>378.500000</td>\n",
       "      <td>0.0</td>\n",
       "      <td>1461.000000</td>\n",
       "    </tr>\n",
       "    <tr>\n",
       "      <th>max</th>\n",
       "      <td>191.000000</td>\n",
       "      <td>532.000000</td>\n",
       "      <td>687.000000</td>\n",
       "      <td>836.000000</td>\n",
       "      <td>1109.000000</td>\n",
       "      <td>0.0</td>\n",
       "      <td>1296.000000</td>\n",
       "      <td>1604.000000</td>\n",
       "      <td>16.000000</td>\n",
       "      <td>1106.000000</td>\n",
       "      <td>183.000000</td>\n",
       "      <td>2489.000000</td>\n",
       "      <td>217.000000</td>\n",
       "      <td>0.0</td>\n",
       "      <td>1449.000000</td>\n",
       "      <td>686.000000</td>\n",
       "      <td>954.000000</td>\n",
       "      <td>0.0</td>\n",
       "      <td>2907.000000</td>\n",
       "    </tr>\n",
       "  </tbody>\n",
       "</table>\n",
       "</div>"
      ],
      "text/plain": [
       "        Age 18-24   Age 25-34   Age 35-49   Age 50-64      Age 65+  \\\n",
       "count   91.000000   91.000000   91.000000   91.000000    91.000000   \n",
       "mean    49.560440  135.978022  208.098901  304.758242   363.670330   \n",
       "std     36.356631  105.843908  140.642182  179.644732   248.161778   \n",
       "min      0.000000    1.000000    0.000000    0.000000     2.000000   \n",
       "25%     23.500000   67.500000  106.500000  183.000000   209.500000   \n",
       "50%     41.000000  107.000000  180.000000  266.000000   317.000000   \n",
       "75%     59.500000  176.500000  279.500000  403.000000   420.000000   \n",
       "max    191.000000  532.000000  687.000000  836.000000  1109.000000   \n",
       "\n",
       "       Age Unknown         Male       Female  Gender Unknown  \\\n",
       "count         91.0    91.000000    91.000000       91.000000   \n",
       "mean           0.0   455.263736   603.219780        3.582418   \n",
       "std            0.0   275.703578   348.777318        3.389742   \n",
       "min            0.0     1.000000     1.000000        0.000000   \n",
       "25%            0.0   257.000000   365.500000        1.000000   \n",
       "50%            0.0   412.000000   542.000000        3.000000   \n",
       "75%            0.0   608.500000   826.500000        6.000000   \n",
       "max            0.0  1296.000000  1604.000000       16.000000   \n",
       "\n",
       "       African American    Hispanic        White  Other Ethnicity  \\\n",
       "count         91.000000   91.000000    91.000000        91.000000   \n",
       "mean         171.725275   43.362637   774.318681        72.659341   \n",
       "std          250.057019   35.669008   574.249537        49.419794   \n",
       "min            0.000000    0.000000     3.000000         0.000000   \n",
       "25%           21.500000   20.500000   342.500000        33.000000   \n",
       "50%           52.000000   37.000000   701.000000        65.000000   \n",
       "75%          197.000000   51.000000  1164.500000        93.000000   \n",
       "max         1106.000000  183.000000  2489.000000       217.000000   \n",
       "\n",
       "       Ethnicity Unknown     Democrat  Independent  Republican  Other Party  \\\n",
       "count               91.0    91.000000    91.000000   91.000000         91.0   \n",
       "mean                 0.0   563.857143   231.824176  266.384615          0.0   \n",
       "std                  0.0   325.322560   154.477801  226.309413          0.0   \n",
       "min                  0.0     2.000000     0.000000    0.000000          0.0   \n",
       "25%                  0.0   351.500000   113.500000   80.500000          0.0   \n",
       "50%                  0.0   544.000000   206.000000  202.000000          0.0   \n",
       "75%                  0.0   706.000000   326.000000  378.500000          0.0   \n",
       "max                  0.0  1449.000000   686.000000  954.000000          0.0   \n",
       "\n",
       "       Total People  \n",
       "count     91.000000  \n",
       "mean    1062.065934  \n",
       "std      624.066695  \n",
       "min        3.000000  \n",
       "25%      633.500000  \n",
       "50%      956.000000  \n",
       "75%     1461.000000  \n",
       "max     2907.000000  "
      ]
     },
     "execution_count": 19,
     "metadata": {},
     "output_type": "execute_result"
    }
   ],
   "source": [
    "df.describe()"
   ]
  },
  {
   "cell_type": "code",
   "execution_count": null,
   "metadata": {},
   "outputs": [],
   "source": []
  },
  {
   "cell_type": "code",
   "execution_count": null,
   "metadata": {},
   "outputs": [],
   "source": []
  },
  {
   "cell_type": "code",
   "execution_count": null,
   "metadata": {},
   "outputs": [],
   "source": []
  },
  {
   "cell_type": "markdown",
   "metadata": {},
   "source": [
    "---"
   ]
  },
  {
   "cell_type": "code",
   "execution_count": 18,
   "metadata": {},
   "outputs": [
    {
     "data": {
      "text/plain": [
       "Index(['Precinct', 'Age 18-24', 'Age 25-34', 'Age 35-49', 'Age 50-64',\n",
       "       'Age 65+', 'Age Unknown', 'Male', 'Female', 'Gender Unknown',\n",
       "       'African American', 'Hispanic', 'White', 'Other Ethnicity',\n",
       "       'Ethnicity Unknown', 'Democrat', 'Independent', 'Republican',\n",
       "       'Other Party', 'Total People'],\n",
       "      dtype='object')"
      ]
     },
     "execution_count": 18,
     "metadata": {},
     "output_type": "execute_result"
    }
   ],
   "source": [
    "df.columns"
   ]
  },
  {
   "cell_type": "markdown",
   "metadata": {},
   "source": [
    "---\n",
    "#### Age"
   ]
  },
  {
   "cell_type": "code",
   "execution_count": null,
   "metadata": {},
   "outputs": [],
   "source": [
    "age_features = ()"
   ]
  },
  {
   "cell_type": "code",
   "execution_count": null,
   "metadata": {},
   "outputs": [],
   "source": []
  },
  {
   "cell_type": "code",
   "execution_count": null,
   "metadata": {},
   "outputs": [],
   "source": []
  },
  {
   "cell_type": "code",
   "execution_count": null,
   "metadata": {},
   "outputs": [],
   "source": []
  },
  {
   "cell_type": "code",
   "execution_count": null,
   "metadata": {},
   "outputs": [],
   "source": []
  },
  {
   "cell_type": "markdown",
   "metadata": {},
   "source": [
    "---\n",
    "#### Gender"
   ]
  },
  {
   "cell_type": "code",
   "execution_count": null,
   "metadata": {},
   "outputs": [],
   "source": []
  },
  {
   "cell_type": "code",
   "execution_count": null,
   "metadata": {},
   "outputs": [],
   "source": []
  },
  {
   "cell_type": "code",
   "execution_count": null,
   "metadata": {},
   "outputs": [],
   "source": []
  },
  {
   "cell_type": "code",
   "execution_count": null,
   "metadata": {},
   "outputs": [],
   "source": []
  },
  {
   "cell_type": "code",
   "execution_count": null,
   "metadata": {},
   "outputs": [],
   "source": []
  },
  {
   "cell_type": "code",
   "execution_count": null,
   "metadata": {},
   "outputs": [],
   "source": []
  },
  {
   "cell_type": "code",
   "execution_count": null,
   "metadata": {},
   "outputs": [],
   "source": []
  },
  {
   "cell_type": "markdown",
   "metadata": {},
   "source": [
    "---\n",
    "#### Ethnicity"
   ]
  },
  {
   "cell_type": "code",
   "execution_count": null,
   "metadata": {},
   "outputs": [],
   "source": []
  },
  {
   "cell_type": "code",
   "execution_count": null,
   "metadata": {},
   "outputs": [],
   "source": []
  },
  {
   "cell_type": "code",
   "execution_count": null,
   "metadata": {},
   "outputs": [],
   "source": []
  },
  {
   "cell_type": "code",
   "execution_count": null,
   "metadata": {},
   "outputs": [],
   "source": []
  },
  {
   "cell_type": "code",
   "execution_count": null,
   "metadata": {},
   "outputs": [],
   "source": []
  },
  {
   "cell_type": "code",
   "execution_count": null,
   "metadata": {},
   "outputs": [],
   "source": []
  },
  {
   "cell_type": "markdown",
   "metadata": {},
   "source": [
    "---\n",
    "#### Party Affiliation"
   ]
  },
  {
   "cell_type": "code",
   "execution_count": null,
   "metadata": {},
   "outputs": [],
   "source": []
  },
  {
   "cell_type": "code",
   "execution_count": null,
   "metadata": {},
   "outputs": [],
   "source": []
  },
  {
   "cell_type": "code",
   "execution_count": null,
   "metadata": {},
   "outputs": [],
   "source": []
  },
  {
   "cell_type": "code",
   "execution_count": null,
   "metadata": {},
   "outputs": [],
   "source": []
  },
  {
   "cell_type": "code",
   "execution_count": null,
   "metadata": {},
   "outputs": [],
   "source": []
  },
  {
   "cell_type": "code",
   "execution_count": null,
   "metadata": {},
   "outputs": [],
   "source": []
  },
  {
   "cell_type": "code",
   "execution_count": null,
   "metadata": {},
   "outputs": [],
   "source": []
  },
  {
   "cell_type": "code",
   "execution_count": null,
   "metadata": {},
   "outputs": [],
   "source": []
  },
  {
   "cell_type": "code",
   "execution_count": null,
   "metadata": {},
   "outputs": [],
   "source": []
  }
 ],
 "metadata": {
  "kernelspec": {
   "display_name": "Python 3",
   "language": "python",
   "name": "python3"
  },
  "language_info": {
   "codemirror_mode": {
    "name": "ipython",
    "version": 3
   },
   "file_extension": ".py",
   "mimetype": "text/x-python",
   "name": "python",
   "nbconvert_exporter": "python",
   "pygments_lexer": "ipython3",
   "version": "3.8.5"
  }
 },
 "nbformat": 4,
 "nbformat_minor": 4
}
