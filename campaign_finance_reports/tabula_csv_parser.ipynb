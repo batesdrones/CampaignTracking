{
 "cells": [
  {
   "cell_type": "code",
   "execution_count": 24,
   "metadata": {},
   "outputs": [],
   "source": [
    "import pandas as pd"
   ]
  },
  {
   "cell_type": "markdown",
   "metadata": {},
   "source": [
    "## UPDATE"
   ]
  },
  {
   "cell_type": "code",
   "execution_count": 25,
   "metadata": {},
   "outputs": [],
   "source": [
    "\n",
    "contrib_df = pd.read_csv('./tabula_generated_csvs/tabula-wengay_newton_filing_05_21.csv')"
   ]
  },
  {
   "cell_type": "code",
   "execution_count": 26,
   "metadata": {},
   "outputs": [],
   "source": [
    "contrib_df = contrib_df[contrib_df['Unnamed: 7'].notna()]\n"
   ]
  },
  {
   "cell_type": "code",
   "execution_count": 27,
   "metadata": {},
   "outputs": [],
   "source": [
    "contrib_df = contrib_df.drop(axis=1, labels=['(11)\\rAmendment', '(12)\\rAmount'])\n"
   ]
  },
  {
   "cell_type": "code",
   "execution_count": 28,
   "metadata": {},
   "outputs": [],
   "source": [
    "contrib_df = contrib_df.rename(mapper={'(5)\\rDate': 'Date', '(8)\\rContributor\\rTypeOccupation': 'Contributor Type', '(9)\\rContribution\\rType': 'Occupation', \n",
    "                         '(10)\\rIn-kind\\rDescription': 'Payment Type', 'Unnamed: 7':'Amount', '(7)\\rFull Name\\r(Last, Suffix, First, Middle)\\rStreet Address &\\rCity, State, Zip Code':\"Name\"}, axis=1)"
   ]
  },
  {
   "cell_type": "code",
   "execution_count": 29,
   "metadata": {},
   "outputs": [],
   "source": [
    "def parse_date(date_str):\n",
    "    slashes = [2, 5, 6]\n",
    "    date = \"\"\n",
    "    while len(date) < 8:\n",
    "        for char in str(date_str):\n",
    "            if char.isnumeric():\n",
    "                date = date + char\n",
    "                if len(date) in slashes:\n",
    "                    date = date + '/'\n",
    "    return date"
   ]
  },
  {
   "cell_type": "code",
   "execution_count": 30,
   "metadata": {},
   "outputs": [
    {
     "data": {
      "text/plain": [
       "'01/19/21'"
      ]
     },
     "execution_count": 30,
     "metadata": {},
     "output_type": "execute_result"
    }
   ],
   "source": [
    "parse_date('01\\r1921\\r//\t')"
   ]
  },
  {
   "cell_type": "code",
   "execution_count": 31,
   "metadata": {},
   "outputs": [],
   "source": [
    "contrib_df['Date'] = contrib_df['Date'].apply(lambda x: parse_date(x))\n"
   ]
  },
  {
   "cell_type": "code",
   "execution_count": 32,
   "metadata": {},
   "outputs": [],
   "source": [
    "contrib_df['Name'] = contrib_df['Name'].apply(lambda x: x.split('\\r'))"
   ]
  },
  {
   "cell_type": "code",
   "execution_count": 33,
   "metadata": {},
   "outputs": [],
   "source": [
    "contrib_df['Full Name'] = contrib_df['Name'].apply(lambda x: x[0])"
   ]
  },
  {
   "cell_type": "code",
   "execution_count": 34,
   "metadata": {},
   "outputs": [],
   "source": [
    "def extract_street_address(address_list):\n",
    "    if len(address_list) > 3:\n",
    "        del address_list[0]\n",
    "        address = \" \".join(address_list[:-1])\n",
    "        return address\n",
    "    else:\n",
    "        return address_list[1]"
   ]
  },
  {
   "cell_type": "code",
   "execution_count": 35,
   "metadata": {},
   "outputs": [],
   "source": [
    "contrib_df['Address'] = contrib_df['Name'].apply(lambda x: extract_street_address(x))\n"
   ]
  },
  {
   "cell_type": "code",
   "execution_count": 36,
   "metadata": {},
   "outputs": [],
   "source": [
    "def split_city_state_zip(name_list):\n",
    "    print(name_list)\n",
    "\n",
    "    val = name_list[-1]\n",
    "    city = None\n",
    "    state = None\n",
    "    zipcode = None\n",
    "    if val.isnumeric():\n",
    "        zipcode = val\n",
    "    else:\n",
    "        city = val.split(',')[0]\n",
    "        if len(val.split(',')) > 1:\n",
    "            state_zip = val.split(',')[1].strip().split(' ')\n",
    "            if len(state_zip) > 1:\n",
    "                state = state_zip[0]\n",
    "                zipcode = state_zip[1]\n",
    "            else:\n",
    "                state = state_zip[0]\n",
    "    return city, state, zipcode"
   ]
  },
  {
   "cell_type": "code",
   "execution_count": 37,
   "metadata": {},
   "outputs": [
    {
     "name": "stdout",
     "output_type": "stream",
     "text": [
      "['DANIEL COUGHLIN', '1636 LAUREL', 'SARASOTA, FL 34235']\n",
      "['APRIL DALLAS', '633 59TH STREET SO', 'ST.PETERSBURG, FL']\n",
      "['SUSIE COPELAND', '1010 27TH STREET', 'EAST']\n",
      "['STEVE WESTPHAL', '1770 BRIGHTWATER', 'ST. PETERSBURG, FL']\n",
      "['DONALD MORGAN', '14351 CHAMBERLAIN', 'AVE']\n",
      "['MELISSA HARGROVE', '5829 SHARP DR.', 'MABLENTON, GA']\n",
      "['DARLINE SLY', '325 YOUTH CAMP RD', 'GROVELAND, FL 34736']\n",
      "['DEBORAH SCANLAN', '8018 35TH AVE NORTH', 'ST. PETERSBURG, FL']\n",
      "['SHANNON HISER', '1914 10TH STREET', 'ST. PETERSBURG, FL']\n",
      "['YOLANDA JACKSON', '8339 N.W. 195TH', 'TERRACE']\n",
      "['MYRTHA FETGUSON', '18800 NW 29 AVE', 'MIAMI GARDENS, FL']\n",
      "['BERNICE DARLING', '1423 23RD AVENUE', 'ST. PETERSBURG, FL']\n",
      "['FLORENCE SHELTON', '1227 GRAND TRAIL', 'BRADENTON, FL 34121']\n",
      "['CUTHBERTSON', 'P.O.  BOX 13177', 'ST. PETERSBURG, FL']\n",
      "['DONNIE MCMILLAN', '15908 NORTHLAKE', 'VILLAGE DR']\n",
      "['CONOR DARKEN', '27215 FORDHAM', 'DRIVE']\n",
      "['CUTHBERTSON', '4534 21ST AVE SOUTH', 'ST. PETERSBURG, FL']\n",
      "['CHERLYN FLOUNARY', '737 60TH AVE SOUTH', 'ST. PETERSBUG, FL']\n",
      "['VALERIE JORDAN', '3144 21ST AVE', 'ST. PETERSBURG, FL']\n",
      "['MELENDEZ', '304 MILESTONE DR.', 'TALLAHASSEE, FL']\n",
      "['DONNIE WILLIAMS', '373 26TH AVE', 'ST. PETERSBURG, FL']\n",
      "['CECIL ODOM JR', '3466 16TH AVE SOUTH', 'ST. PETERSBURG, FL']\n",
      "['ROBERT THOMPSON', '5222 6TH AVE', 'ST. PETERSBURG, FL']\n",
      "['GOVERNMENT', 'COMMITTEE', 'P.O. BOX 20252', 'ST.  PETERSBURG, FL']\n",
      "['MANNING', 'PO BOX 35420', 'ST. PETERSBURG, FL']\n",
      "['NICOLE LYLE', '3635 DARTMOUTH AVE', 'N.']\n",
      "['3B3A7R1R0Y RUBIN', '5068 HUNTINGTON', 'ST. PETERSBURG, FL']\n",
      "['DAN JENKINS', '4813 W. SPRING LAKE', 'DR.']\n",
      "['THERESA L. PUTNAM', '8966 72ND AVE NO.', 'ST. PETERSBURG, FL']\n",
      "['DEPOT LLC', '2604 CENTRAL AVE', 'ST. PETERSBURG, FL']\n",
      "['PATRICK MURRAY', '3007 CHESSINGTON', 'LANO O LAKES, FL']\n",
      "['FREEDOM', 'PO BOX 20225', 'ST. PETERSBURG, FL']\n",
      "['WINTHROP NEWTON', '104 KINGSTON ST', 'ST. PETERSBURG, FL']\n",
      "['CAROLYN COLLINS', '4002 W LA SALLE ST', 'TAMPA, FL 33609']\n",
      "['LUKE C. LIROT, P.A', '2240 BELLEAIR', 'CLEARWATER, FL']\n",
      "['PURPLE HAZE', '16116 4TH ST', 'REDINGTON BEACH,']\n",
      "['WINTHROP NEWTON', '104 KINGSTON ST', 'ST. PETERSBURG, FL']\n",
      "['DANIEL COUGHLIN', '1636 LAUREL', 'SARASOTA, FL 34235']\n",
      "['APRIL DALLAS', '633 59TH STREET SO', 'ST.PETERSBURG, FL']\n",
      "['SUSIE COPELAND', '1010 27TH STREET', 'EAST']\n",
      "['STEVE WESTPHAL', '1770 BRIGHTWATER', 'ST. PETERSBURG, FL']\n",
      "['DONALD MORGAN', '14351 CHAMBERLAIN', 'AVE']\n",
      "['MELISSA HARGROVE', '5829 SHARP DR.', 'MABLENTON, GA']\n",
      "['DARLINE SLY', '325 YOUTH CAMP RD', 'GROVELAND, FL 34736']\n",
      "['DEBORAH SCANLAN', '8018 35TH AVE NORTH', 'ST. PETERSBURG, FL']\n",
      "['SHANNON HISER', '1914 10TH STREET', 'ST. PETERSBURG, FL']\n",
      "['YOLANDA JACKSON', '8339 N.W. 195TH', 'TERRACE']\n",
      "['MYRTHA FETGUSON', '18800 NW 29 AVE', 'MIAMI GARDENS, FL']\n",
      "['BERNICE DARLING', '1423 23RD AVENUE', 'ST. PETERSBURG, FL']\n",
      "['FLORENCE SHELTON', '1227 GRAND TRAIL', 'BRADENTON, FL 34121']\n",
      "['CUTHBERTSON', 'P.O.  BOX 13177', 'ST. PETERSBURG, FL']\n",
      "['DONNIE MCMILLAN', '15908 NORTHLAKE', 'VILLAGE DR']\n",
      "['CONOR DARKEN', '27215 FORDHAM', 'DRIVE']\n",
      "['CUTHBERTSON', '4534 21ST AVE SOUTH', 'ST. PETERSBURG, FL']\n",
      "['CHERLYN FLOUNARY', '737 60TH AVE SOUTH', 'ST. PETERSBUG, FL']\n",
      "['VALERIE JORDAN', '3144 21ST AVE', 'ST. PETERSBURG, FL']\n",
      "['MELENDEZ', '304 MILESTONE DR.', 'TALLAHASSEE, FL']\n",
      "['DONNIE WILLIAMS', '373 26TH AVE', 'ST. PETERSBURG, FL']\n",
      "['CECIL ODOM JR', '3466 16TH AVE SOUTH', 'ST. PETERSBURG, FL']\n",
      "['ROBERT THOMPSON', '5222 6TH AVE', 'ST. PETERSBURG, FL']\n",
      "['GOVERNMENT', 'COMMITTEE', 'P.O. BOX 20252', 'ST.  PETERSBURG, FL']\n",
      "['MANNING', 'PO BOX 35420', 'ST. PETERSBURG, FL']\n",
      "['NICOLE LYLE', '3635 DARTMOUTH AVE', 'N.']\n",
      "['3B3A7R1R0Y RUBIN', '5068 HUNTINGTON', 'ST. PETERSBURG, FL']\n",
      "['DAN JENKINS', '4813 W. SPRING LAKE', 'DR.']\n",
      "['THERESA L. PUTNAM', '8966 72ND AVE NO.', 'ST. PETERSBURG, FL']\n",
      "['DEPOT LLC', '2604 CENTRAL AVE', 'ST. PETERSBURG, FL']\n",
      "['PATRICK MURRAY', '3007 CHESSINGTON', 'LANO O LAKES, FL']\n",
      "['FREEDOM', 'PO BOX 20225', 'ST. PETERSBURG, FL']\n",
      "['WINTHROP NEWTON', '104 KINGSTON ST', 'ST. PETERSBURG, FL']\n",
      "['CAROLYN COLLINS', '4002 W LA SALLE ST', 'TAMPA, FL 33609']\n",
      "['LUKE C. LIROT, P.A', '2240 BELLEAIR', 'CLEARWATER, FL']\n",
      "['PURPLE HAZE', '16116 4TH ST', 'REDINGTON BEACH,']\n",
      "['WINTHROP NEWTON', '104 KINGSTON ST', 'ST. PETERSBURG, FL']\n",
      "['DANIEL COUGHLIN', '1636 LAUREL', 'SARASOTA, FL 34235']\n",
      "['APRIL DALLAS', '633 59TH STREET SO', 'ST.PETERSBURG, FL']\n",
      "['SUSIE COPELAND', '1010 27TH STREET', 'EAST']\n",
      "['STEVE WESTPHAL', '1770 BRIGHTWATER', 'ST. PETERSBURG, FL']\n",
      "['DONALD MORGAN', '14351 CHAMBERLAIN', 'AVE']\n",
      "['MELISSA HARGROVE', '5829 SHARP DR.', 'MABLENTON, GA']\n",
      "['DARLINE SLY', '325 YOUTH CAMP RD', 'GROVELAND, FL 34736']\n",
      "['DEBORAH SCANLAN', '8018 35TH AVE NORTH', 'ST. PETERSBURG, FL']\n",
      "['SHANNON HISER', '1914 10TH STREET', 'ST. PETERSBURG, FL']\n",
      "['YOLANDA JACKSON', '8339 N.W. 195TH', 'TERRACE']\n",
      "['MYRTHA FETGUSON', '18800 NW 29 AVE', 'MIAMI GARDENS, FL']\n",
      "['BERNICE DARLING', '1423 23RD AVENUE', 'ST. PETERSBURG, FL']\n",
      "['FLORENCE SHELTON', '1227 GRAND TRAIL', 'BRADENTON, FL 34121']\n",
      "['CUTHBERTSON', 'P.O.  BOX 13177', 'ST. PETERSBURG, FL']\n",
      "['DONNIE MCMILLAN', '15908 NORTHLAKE', 'VILLAGE DR']\n",
      "['CONOR DARKEN', '27215 FORDHAM', 'DRIVE']\n",
      "['CUTHBERTSON', '4534 21ST AVE SOUTH', 'ST. PETERSBURG, FL']\n",
      "['CHERLYN FLOUNARY', '737 60TH AVE SOUTH', 'ST. PETERSBUG, FL']\n",
      "['VALERIE JORDAN', '3144 21ST AVE', 'ST. PETERSBURG, FL']\n",
      "['MELENDEZ', '304 MILESTONE DR.', 'TALLAHASSEE, FL']\n",
      "['DONNIE WILLIAMS', '373 26TH AVE', 'ST. PETERSBURG, FL']\n",
      "['CECIL ODOM JR', '3466 16TH AVE SOUTH', 'ST. PETERSBURG, FL']\n",
      "['ROBERT THOMPSON', '5222 6TH AVE', 'ST. PETERSBURG, FL']\n",
      "['GOVERNMENT', 'COMMITTEE', 'P.O. BOX 20252', 'ST.  PETERSBURG, FL']\n",
      "['MANNING', 'PO BOX 35420', 'ST. PETERSBURG, FL']\n",
      "['NICOLE LYLE', '3635 DARTMOUTH AVE', 'N.']\n",
      "['3B3A7R1R0Y RUBIN', '5068 HUNTINGTON', 'ST. PETERSBURG, FL']\n",
      "['DAN JENKINS', '4813 W. SPRING LAKE', 'DR.']\n",
      "['THERESA L. PUTNAM', '8966 72ND AVE NO.', 'ST. PETERSBURG, FL']\n",
      "['DEPOT LLC', '2604 CENTRAL AVE', 'ST. PETERSBURG, FL']\n",
      "['PATRICK MURRAY', '3007 CHESSINGTON', 'LANO O LAKES, FL']\n",
      "['FREEDOM', 'PO BOX 20225', 'ST. PETERSBURG, FL']\n",
      "['WINTHROP NEWTON', '104 KINGSTON ST', 'ST. PETERSBURG, FL']\n",
      "['CAROLYN COLLINS', '4002 W LA SALLE ST', 'TAMPA, FL 33609']\n",
      "['LUKE C. LIROT, P.A', '2240 BELLEAIR', 'CLEARWATER, FL']\n",
      "['PURPLE HAZE', '16116 4TH ST', 'REDINGTON BEACH,']\n",
      "['WINTHROP NEWTON', '104 KINGSTON ST', 'ST. PETERSBURG, FL']\n"
     ]
    }
   ],
   "source": [
    "contrib_df['City'] = contrib_df['Name'].apply(lambda x: split_city_state_zip(x)[0])\n",
    "contrib_df['State'] = contrib_df['Name'].apply(lambda x: split_city_state_zip(x)[1])\n",
    "contrib_df['Zipcode'] = contrib_df['Name'].apply(lambda x: split_city_state_zip(x)[2])\n"
   ]
  },
  {
   "cell_type": "code",
   "execution_count": 38,
   "metadata": {},
   "outputs": [],
   "source": [
    "def parse_first_name(full_name):\n",
    "    names = full_name.split(' ')\n",
    "    titles = ['Mr', 'Mrs', 'Miss', 'Ms', 'Dr']\n",
    "    if names[0] not in titles:\n",
    "        first = names[0]\n",
    "    else:\n",
    "        first = names[1]\n",
    "\n",
    "    res = ''.join([i for i in first if not i.isdigit()])\n",
    "    return res"
   ]
  },
  {
   "cell_type": "code",
   "execution_count": 39,
   "metadata": {},
   "outputs": [],
   "source": [
    "contrib_df['First'] = contrib_df['Full Name'].apply(lambda x: parse_first_name(x))\n",
    "contrib_df['Last'] = contrib_df['Full Name'].apply(lambda x: x.split(' ')[-1].strip())"
   ]
  },
  {
   "cell_type": "code",
   "execution_count": 40,
   "metadata": {},
   "outputs": [],
   "source": [
    "contrib_df = contrib_df.drop(columns = ['Name', 'Full Name'])"
   ]
  },
  {
   "cell_type": "code",
   "execution_count": 41,
   "metadata": {},
   "outputs": [],
   "source": [
    "contrib_df['Contributor Type'] = contrib_df['Contributor Type'].map({'Busine':'Business', 'Individ': 'Individual'})"
   ]
  },
  {
   "cell_type": "code",
   "execution_count": 42,
   "metadata": {},
   "outputs": [],
   "source": [
    "def clean_occupation(occupation):\n",
    "    if '\\ral' in occupation:\n",
    "        occupation = occupation.replace('\\ral', '')\n",
    "    occupation = occupation.replace('\\r', ' ')\n",
    "    if occupation == 'al':\n",
    "        occupation = ''\n",
    "    return occupation"
   ]
  },
  {
   "cell_type": "code",
   "execution_count": 43,
   "metadata": {},
   "outputs": [],
   "source": [
    "contrib_df['Occupation'] = contrib_df['Occupation'].apply(lambda x: clean_occupation(x))"
   ]
  },
  {
   "cell_type": "code",
   "execution_count": 44,
   "metadata": {},
   "outputs": [],
   "source": [
    "contrib_df = contrib_df[['Date', 'Amount', 'Payment Type', 'First', 'Last', 'Address', 'City', 'State', 'Zipcode', 'Occupation']]"
   ]
  },
  {
   "cell_type": "markdown",
   "metadata": {},
   "source": [
    "## UPDATE"
   ]
  },
  {
   "cell_type": "code",
   "execution_count": 45,
   "metadata": {},
   "outputs": [],
   "source": [
    "contrib_df.to_csv('wengay_newton_filing_05_21.csv', index=False)"
   ]
  },
  {
   "cell_type": "markdown",
   "metadata": {},
   "source": [
    "# TODO\n",
    "- [ ] Remove salutations from names\n",
    "- [ ] Weird names with numbers in the middle\n",
    "- [ ] Accents\n",
    "- [ ] Permute columns"
   ]
  },
  {
   "cell_type": "code",
   "execution_count": null,
   "metadata": {},
   "outputs": [],
   "source": []
  },
  {
   "cell_type": "code",
   "execution_count": null,
   "metadata": {},
   "outputs": [],
   "source": []
  },
  {
   "cell_type": "code",
   "execution_count": null,
   "metadata": {},
   "outputs": [],
   "source": []
  },
  {
   "cell_type": "code",
   "execution_count": null,
   "metadata": {},
   "outputs": [],
   "source": []
  },
  {
   "cell_type": "code",
   "execution_count": null,
   "metadata": {},
   "outputs": [],
   "source": []
  }
 ],
 "metadata": {
  "kernelspec": {
   "display_name": "Python 3",
   "language": "python",
   "name": "python3"
  },
  "language_info": {
   "codemirror_mode": {
    "name": "ipython",
    "version": 3
   },
   "file_extension": ".py",
   "mimetype": "text/x-python",
   "name": "python",
   "nbconvert_exporter": "python",
   "pygments_lexer": "ipython3",
   "version": "3.8.5"
  }
 },
 "nbformat": 4,
 "nbformat_minor": 5
}
