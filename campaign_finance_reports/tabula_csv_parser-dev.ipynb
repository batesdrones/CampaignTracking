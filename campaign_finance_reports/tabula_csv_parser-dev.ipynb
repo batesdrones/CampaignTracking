{
 "cells": [
  {
   "cell_type": "markdown",
   "metadata": {},
   "source": [
    "![](../additional_materials/logos/darden_rice_logo_SM.png)"
   ]
  },
  {
   "cell_type": "markdown",
   "metadata": {},
   "source": [
    "Code: *Anirudh Shah, Adam Zucker*"
   ]
  },
  {
   "cell_type": "code",
   "execution_count": 1,
   "metadata": {},
   "outputs": [],
   "source": [
    "import pandas as pd"
   ]
  },
  {
   "cell_type": "markdown",
   "metadata": {},
   "source": [
    "## Important candidates to track\n",
    "- Ken Welch\n",
    "- Robert Blackmon\n",
    "- Pete Boland\n",
    "- Wengay Newton"
   ]
  },
  {
   "cell_type": "markdown",
   "metadata": {},
   "source": [
    "## Instructions\n",
    "1. Download PDFs of relevant candidates' *Campaign Treasurer's Reports* from the [Easy Campaign Finance Portal](https://cityofstpetersburgfl.easyvotecampaignfinance.com/home/publicfilings), and save to `/campaign_finance_data/pdf`\n",
    "2. Convert each candidate's PDF Campaign Treasurer's Report for the given month into a csv using [Tabula](https://tabula.technology/). Only include tables from pages with the header \"Campaign Treasurer's Report - Itemized Contributions\". Save the resulting csv to `/campaign_finance_data/raw`\n",
    "3. Update the cell immediately below these instructions with the correct filepath to the relevant csv. Format should be `'./campaign_finance_data/raw/candidate_name_mm-dd-yy.csv'`\n",
    "4. Update the file name in the final cell, `contrib_df.to_csv()`, to reflect the correct candidate and reporting date. Format should be `contrib_df.to_csv('./campaign_finance_data/processed/candidate_name_month_finance.csv', index = False)`.\n",
    "5. Run the notebook!"
   ]
  },
  {
   "cell_type": "code",
   "execution_count": 2,
   "metadata": {},
   "outputs": [
    {
     "data": {
      "text/html": [
       "<div>\n",
       "<style scoped>\n",
       "    .dataframe tbody tr th:only-of-type {\n",
       "        vertical-align: middle;\n",
       "    }\n",
       "\n",
       "    .dataframe tbody tr th {\n",
       "        vertical-align: top;\n",
       "    }\n",
       "\n",
       "    .dataframe thead th {\n",
       "        text-align: right;\n",
       "    }\n",
       "</style>\n",
       "<table border=\"1\" class=\"dataframe\">\n",
       "  <thead>\n",
       "    <tr style=\"text-align: right;\">\n",
       "      <th></th>\n",
       "      <th>(5)\\rDate</th>\n",
       "      <th>(7)\\rFull Name\\r(Last, Suffix, First, Middle)\\rStreet Address &amp;\\rCity, State, Zip Code</th>\n",
       "      <th>(8)\\rContributor\\rTypeOccupation</th>\n",
       "      <th>(9)\\rContribution\\rType</th>\n",
       "      <th>(10)\\rIn-kind\\rDescription</th>\n",
       "      <th>(11)\\rAmendment</th>\n",
       "      <th>(12)\\rAmount</th>\n",
       "      <th>Unnamed: 7</th>\n",
       "    </tr>\n",
       "  </thead>\n",
       "  <tbody>\n",
       "    <tr>\n",
       "      <th>0</th>\n",
       "      <td>(6)\\rSequence\\rNumber</td>\n",
       "      <td>NaN</td>\n",
       "      <td>NaN</td>\n",
       "      <td>NaN</td>\n",
       "      <td>NaN</td>\n",
       "      <td>NaN</td>\n",
       "      <td>NaN</td>\n",
       "      <td>NaN</td>\n",
       "    </tr>\n",
       "    <tr>\n",
       "      <th>1</th>\n",
       "      <td>08\\r0921\\r//</td>\n",
       "      <td>Franklin Knight\\r400 66 Avenue S\\rSt. Petersbu...</td>\n",
       "      <td>Individ</td>\n",
       "      <td>al</td>\n",
       "      <td>Check</td>\n",
       "      <td>NaN</td>\n",
       "      <td>NaN</td>\n",
       "      <td>$25.00</td>\n",
       "    </tr>\n",
       "    <tr>\n",
       "      <th>2</th>\n",
       "      <td>1</td>\n",
       "      <td>NaN</td>\n",
       "      <td>NaN</td>\n",
       "      <td>NaN</td>\n",
       "      <td>NaN</td>\n",
       "      <td>NaN</td>\n",
       "      <td>NaN</td>\n",
       "      <td>NaN</td>\n",
       "    </tr>\n",
       "    <tr>\n",
       "      <th>3</th>\n",
       "      <td>08\\r1121\\r//</td>\n",
       "      <td>Mary Bailey\\r685 59th Ave S St\\rPetersburg, FL...</td>\n",
       "      <td>Individ</td>\n",
       "      <td>al</td>\n",
       "      <td>Check</td>\n",
       "      <td>NaN</td>\n",
       "      <td>NaN</td>\n",
       "      <td>$25.00</td>\n",
       "    </tr>\n",
       "    <tr>\n",
       "      <th>4</th>\n",
       "      <td>2</td>\n",
       "      <td>NaN</td>\n",
       "      <td>NaN</td>\n",
       "      <td>NaN</td>\n",
       "      <td>NaN</td>\n",
       "      <td>NaN</td>\n",
       "      <td>NaN</td>\n",
       "      <td>NaN</td>\n",
       "    </tr>\n",
       "  </tbody>\n",
       "</table>\n",
       "</div>"
      ],
      "text/plain": [
       "               (5)\\rDate  \\\n",
       "0  (6)\\rSequence\\rNumber   \n",
       "1           08\\r0921\\r//   \n",
       "2                      1   \n",
       "3           08\\r1121\\r//   \n",
       "4                      2   \n",
       "\n",
       "  (7)\\rFull Name\\r(Last, Suffix, First, Middle)\\rStreet Address &\\rCity, State, Zip Code  \\\n",
       "0                                                NaN                                       \n",
       "1  Franklin Knight\\r400 66 Avenue S\\rSt. Petersbu...                                       \n",
       "2                                                NaN                                       \n",
       "3  Mary Bailey\\r685 59th Ave S St\\rPetersburg, FL...                                       \n",
       "4                                                NaN                                       \n",
       "\n",
       "  (8)\\rContributor\\rTypeOccupation (9)\\rContribution\\rType  \\\n",
       "0                              NaN                     NaN   \n",
       "1                          Individ                      al   \n",
       "2                              NaN                     NaN   \n",
       "3                          Individ                      al   \n",
       "4                              NaN                     NaN   \n",
       "\n",
       "  (10)\\rIn-kind\\rDescription  (11)\\rAmendment  (12)\\rAmount Unnamed: 7  \n",
       "0                        NaN              NaN           NaN        NaN  \n",
       "1                      Check              NaN           NaN     $25.00  \n",
       "2                        NaN              NaN           NaN        NaN  \n",
       "3                      Check              NaN           NaN     $25.00  \n",
       "4                        NaN              NaN           NaN        NaN  "
      ]
     },
     "execution_count": 2,
     "metadata": {},
     "output_type": "execute_result"
    }
   ],
   "source": [
    "# Import each candidate's most current Treasurer's Report after converting to csv using Tabula\n",
    "contrib_df = pd.read_csv('./campaign_finance_data/raw/welch_08-20-21.csv')\n",
    "\n",
    "# View original df formatting\n",
    "contrib_df.head()"
   ]
  },
  {
   "cell_type": "code",
   "execution_count": 3,
   "metadata": {},
   "outputs": [],
   "source": [
    "# Remove all entries where the contribution amount (column 'Unnamed: 7') is null\n",
    "contrib_df = contrib_df[contrib_df['Unnamed: 7'].notna()]"
   ]
  },
  {
   "cell_type": "code",
   "execution_count": 4,
   "metadata": {},
   "outputs": [],
   "source": [
    "# Drop columns labeled '(11)\\rAmendment' and '(12)\\rAmount' columns\n",
    "contrib_df = contrib_df.drop(axis=1, labels=['(11)\\rAmendment', '(12)\\rAmount'])"
   ]
  },
  {
   "cell_type": "code",
   "execution_count": 5,
   "metadata": {},
   "outputs": [],
   "source": [
    "# Rename columns for legibility\n",
    "contrib_df = contrib_df.rename(mapper={'(5)\\rDate': 'Date', '(8)\\rContributor\\rTypeOccupation': 'Contributor Type', \n",
    "                                       '(9)\\rContribution\\rType': 'Occupation', '(10)\\rIn-kind\\rDescription': 'Payment Type', \n",
    "                                       'Unnamed: 7':'Amount', '(7)\\rFull Name\\r(Last, Suffix, First, Middle)\\rStreet Address &\\rCity, State, Zip Code':'Name'}, \n",
    "                                       axis=1)"
   ]
  },
  {
   "cell_type": "code",
   "execution_count": 6,
   "metadata": {},
   "outputs": [
    {
     "data": {
      "text/html": [
       "<div>\n",
       "<style scoped>\n",
       "    .dataframe tbody tr th:only-of-type {\n",
       "        vertical-align: middle;\n",
       "    }\n",
       "\n",
       "    .dataframe tbody tr th {\n",
       "        vertical-align: top;\n",
       "    }\n",
       "\n",
       "    .dataframe thead th {\n",
       "        text-align: right;\n",
       "    }\n",
       "</style>\n",
       "<table border=\"1\" class=\"dataframe\">\n",
       "  <thead>\n",
       "    <tr style=\"text-align: right;\">\n",
       "      <th></th>\n",
       "      <th>Date</th>\n",
       "      <th>Name</th>\n",
       "      <th>Contributor Type</th>\n",
       "      <th>Occupation</th>\n",
       "      <th>Payment Type</th>\n",
       "      <th>Amount</th>\n",
       "    </tr>\n",
       "  </thead>\n",
       "  <tbody>\n",
       "    <tr>\n",
       "      <th>1</th>\n",
       "      <td>08\\r0921\\r//</td>\n",
       "      <td>Franklin Knight\\r400 66 Avenue S\\rSt. Petersbu...</td>\n",
       "      <td>Individ</td>\n",
       "      <td>al</td>\n",
       "      <td>Check</td>\n",
       "      <td>$25.00</td>\n",
       "    </tr>\n",
       "    <tr>\n",
       "      <th>3</th>\n",
       "      <td>08\\r1121\\r//</td>\n",
       "      <td>Mary Bailey\\r685 59th Ave S St\\rPetersburg, FL...</td>\n",
       "      <td>Individ</td>\n",
       "      <td>al</td>\n",
       "      <td>Check</td>\n",
       "      <td>$25.00</td>\n",
       "    </tr>\n",
       "    <tr>\n",
       "      <th>5</th>\n",
       "      <td>08\\r1121\\r//</td>\n",
       "      <td>Rahdert &amp; Mortimer\\rPLLC\\r535 Central Avenue\\r...</td>\n",
       "      <td>Busine</td>\n",
       "      <td>Law Firm\\rs</td>\n",
       "      <td>Check</td>\n",
       "      <td>$250.00</td>\n",
       "    </tr>\n",
       "    <tr>\n",
       "      <th>7</th>\n",
       "      <td>08\\r1121\\r//</td>\n",
       "      <td>Pinellas Stonewall PAC\\r2250 1st Ave N\\rSt. Pe...</td>\n",
       "      <td>Politic</td>\n",
       "      <td>Political\\rCommittee\\rlCommittee</td>\n",
       "      <td>Check</td>\n",
       "      <td>$500.00</td>\n",
       "    </tr>\n",
       "    <tr>\n",
       "      <th>9</th>\n",
       "      <td>08\\r1321\\r//</td>\n",
       "      <td>Ric-Man Construction\\rFlorida Inc\\r3100 SW 15t...</td>\n",
       "      <td>Busine</td>\n",
       "      <td>Construction\\rs</td>\n",
       "      <td>Check</td>\n",
       "      <td>$1,000.00</td>\n",
       "    </tr>\n",
       "  </tbody>\n",
       "</table>\n",
       "</div>"
      ],
      "text/plain": [
       "           Date                                               Name  \\\n",
       "1  08\\r0921\\r//  Franklin Knight\\r400 66 Avenue S\\rSt. Petersbu...   \n",
       "3  08\\r1121\\r//  Mary Bailey\\r685 59th Ave S St\\rPetersburg, FL...   \n",
       "5  08\\r1121\\r//  Rahdert & Mortimer\\rPLLC\\r535 Central Avenue\\r...   \n",
       "7  08\\r1121\\r//  Pinellas Stonewall PAC\\r2250 1st Ave N\\rSt. Pe...   \n",
       "9  08\\r1321\\r//  Ric-Man Construction\\rFlorida Inc\\r3100 SW 15t...   \n",
       "\n",
       "  Contributor Type                        Occupation Payment Type     Amount  \n",
       "1          Individ                                al        Check     $25.00  \n",
       "3          Individ                                al        Check     $25.00  \n",
       "5           Busine                       Law Firm\\rs        Check    $250.00  \n",
       "7          Politic  Political\\rCommittee\\rlCommittee        Check    $500.00  \n",
       "9           Busine                   Construction\\rs        Check  $1,000.00  "
      ]
     },
     "execution_count": 6,
     "metadata": {},
     "output_type": "execute_result"
    }
   ],
   "source": [
    "contrib_df.head()"
   ]
  },
  {
   "cell_type": "code",
   "execution_count": 7,
   "metadata": {},
   "outputs": [],
   "source": [
    "# This function reformats dates in 'Date' column as 'mm/dd/yy'\n",
    "def parse_date(date_str):\n",
    "    # 'slashes' determines where to place '/' in the 'date' string when concatenating\n",
    "    slashes = [2, 5, 6]\n",
    "    date = \"\"\n",
    "    while len(date) < 8:\n",
    "        for char in str(date_str):\n",
    "            if char.isnumeric():\n",
    "                date = date + char\n",
    "                if len(date) in slashes:\n",
    "                    date = date + '/'\n",
    "    return date"
   ]
  },
  {
   "cell_type": "code",
   "execution_count": 8,
   "metadata": {},
   "outputs": [
    {
     "data": {
      "text/plain": [
       "'01/19/21'"
      ]
     },
     "execution_count": 8,
     "metadata": {},
     "output_type": "execute_result"
    }
   ],
   "source": [
    "parse_date('01\\r1921\\r//')"
   ]
  },
  {
   "cell_type": "code",
   "execution_count": 9,
   "metadata": {},
   "outputs": [],
   "source": [
    "# contrib_df['Date'] = contrib_df['Date'].apply(parse_date)"
   ]
  },
  {
   "cell_type": "code",
   "execution_count": 10,
   "metadata": {},
   "outputs": [],
   "source": [
    "contrib_df['Date'] = contrib_df['Date'].apply(lambda x: parse_date(x))\n",
    "\n",
    "# # Converting dates to datetime objects\n",
    "# contrib_df['Date'] = pd.to_datetime(contrib_df['Date'])"
   ]
  },
  {
   "cell_type": "code",
   "execution_count": 11,
   "metadata": {},
   "outputs": [
    {
     "data": {
      "text/html": [
       "<div>\n",
       "<style scoped>\n",
       "    .dataframe tbody tr th:only-of-type {\n",
       "        vertical-align: middle;\n",
       "    }\n",
       "\n",
       "    .dataframe tbody tr th {\n",
       "        vertical-align: top;\n",
       "    }\n",
       "\n",
       "    .dataframe thead th {\n",
       "        text-align: right;\n",
       "    }\n",
       "</style>\n",
       "<table border=\"1\" class=\"dataframe\">\n",
       "  <thead>\n",
       "    <tr style=\"text-align: right;\">\n",
       "      <th></th>\n",
       "      <th>Date</th>\n",
       "      <th>Name</th>\n",
       "      <th>Contributor Type</th>\n",
       "      <th>Occupation</th>\n",
       "      <th>Payment Type</th>\n",
       "      <th>Amount</th>\n",
       "    </tr>\n",
       "  </thead>\n",
       "  <tbody>\n",
       "    <tr>\n",
       "      <th>1</th>\n",
       "      <td>08/09/21</td>\n",
       "      <td>Franklin Knight\\r400 66 Avenue S\\rSt. Petersbu...</td>\n",
       "      <td>Individ</td>\n",
       "      <td>al</td>\n",
       "      <td>Check</td>\n",
       "      <td>$25.00</td>\n",
       "    </tr>\n",
       "    <tr>\n",
       "      <th>3</th>\n",
       "      <td>08/11/21</td>\n",
       "      <td>Mary Bailey\\r685 59th Ave S St\\rPetersburg, FL...</td>\n",
       "      <td>Individ</td>\n",
       "      <td>al</td>\n",
       "      <td>Check</td>\n",
       "      <td>$25.00</td>\n",
       "    </tr>\n",
       "    <tr>\n",
       "      <th>5</th>\n",
       "      <td>08/11/21</td>\n",
       "      <td>Rahdert &amp; Mortimer\\rPLLC\\r535 Central Avenue\\r...</td>\n",
       "      <td>Busine</td>\n",
       "      <td>Law Firm\\rs</td>\n",
       "      <td>Check</td>\n",
       "      <td>$250.00</td>\n",
       "    </tr>\n",
       "    <tr>\n",
       "      <th>7</th>\n",
       "      <td>08/11/21</td>\n",
       "      <td>Pinellas Stonewall PAC\\r2250 1st Ave N\\rSt. Pe...</td>\n",
       "      <td>Politic</td>\n",
       "      <td>Political\\rCommittee\\rlCommittee</td>\n",
       "      <td>Check</td>\n",
       "      <td>$500.00</td>\n",
       "    </tr>\n",
       "    <tr>\n",
       "      <th>9</th>\n",
       "      <td>08/13/21</td>\n",
       "      <td>Ric-Man Construction\\rFlorida Inc\\r3100 SW 15t...</td>\n",
       "      <td>Busine</td>\n",
       "      <td>Construction\\rs</td>\n",
       "      <td>Check</td>\n",
       "      <td>$1,000.00</td>\n",
       "    </tr>\n",
       "  </tbody>\n",
       "</table>\n",
       "</div>"
      ],
      "text/plain": [
       "       Date                                               Name  \\\n",
       "1  08/09/21  Franklin Knight\\r400 66 Avenue S\\rSt. Petersbu...   \n",
       "3  08/11/21  Mary Bailey\\r685 59th Ave S St\\rPetersburg, FL...   \n",
       "5  08/11/21  Rahdert & Mortimer\\rPLLC\\r535 Central Avenue\\r...   \n",
       "7  08/11/21  Pinellas Stonewall PAC\\r2250 1st Ave N\\rSt. Pe...   \n",
       "9  08/13/21  Ric-Man Construction\\rFlorida Inc\\r3100 SW 15t...   \n",
       "\n",
       "  Contributor Type                        Occupation Payment Type     Amount  \n",
       "1          Individ                                al        Check     $25.00  \n",
       "3          Individ                                al        Check     $25.00  \n",
       "5           Busine                       Law Firm\\rs        Check    $250.00  \n",
       "7          Politic  Political\\rCommittee\\rlCommittee        Check    $500.00  \n",
       "9           Busine                   Construction\\rs        Check  $1,000.00  "
      ]
     },
     "execution_count": 11,
     "metadata": {},
     "output_type": "execute_result"
    }
   ],
   "source": [
    "contrib_df.head()"
   ]
  },
  {
   "cell_type": "code",
   "execution_count": 12,
   "metadata": {},
   "outputs": [],
   "source": [
    "contrib_df['Name'] = contrib_df['Name'].apply(lambda x: x.split('\\r'))"
   ]
  },
  {
   "cell_type": "code",
   "execution_count": 13,
   "metadata": {},
   "outputs": [],
   "source": [
    "contrib_df['Full Name'] = contrib_df['Name'].apply(lambda x: x[0])"
   ]
  },
  {
   "cell_type": "code",
   "execution_count": 14,
   "metadata": {},
   "outputs": [],
   "source": [
    "def extract_street_address(address_list):\n",
    "    if len(address_list) > 3:\n",
    "        del address_list[0]\n",
    "        address = \" \".join(address_list[:-1])\n",
    "        return address\n",
    "    else:\n",
    "        return address_list[1]"
   ]
  },
  {
   "cell_type": "code",
   "execution_count": 15,
   "metadata": {},
   "outputs": [],
   "source": [
    "contrib_df['Address'] = contrib_df['Name'].apply(lambda x: extract_street_address(x))\n"
   ]
  },
  {
   "cell_type": "code",
   "execution_count": 16,
   "metadata": {},
   "outputs": [],
   "source": [
    "def split_city_state_zip(name_list):\n",
    "#     print(name_list)\n",
    "\n",
    "    val = name_list[-1]\n",
    "    city = None\n",
    "    state = None\n",
    "    zipcode = None\n",
    "    if val.isnumeric():\n",
    "        zipcode = val\n",
    "    else:\n",
    "        city = val.split(',')[0]\n",
    "        if len(val.split(',')) > 1:\n",
    "            state_zip = val.split(',')[1].strip().split(' ')\n",
    "            if len(state_zip) > 1:\n",
    "                state = state_zip[0]\n",
    "                zipcode = state_zip[1]\n",
    "            else:\n",
    "                state = state_zip[0]\n",
    "    return city, state, zipcode"
   ]
  },
  {
   "cell_type": "code",
   "execution_count": 17,
   "metadata": {},
   "outputs": [],
   "source": [
    "contrib_df['City'] = contrib_df['Name'].apply(lambda x: split_city_state_zip(x)[0])\n",
    "contrib_df['State'] = contrib_df['Name'].apply(lambda x: split_city_state_zip(x)[1])\n",
    "contrib_df['Zipcode'] = contrib_df['Name'].apply(lambda x: split_city_state_zip(x)[2])\n"
   ]
  },
  {
   "cell_type": "code",
   "execution_count": 18,
   "metadata": {},
   "outputs": [
    {
     "data": {
      "text/html": [
       "<div>\n",
       "<style scoped>\n",
       "    .dataframe tbody tr th:only-of-type {\n",
       "        vertical-align: middle;\n",
       "    }\n",
       "\n",
       "    .dataframe tbody tr th {\n",
       "        vertical-align: top;\n",
       "    }\n",
       "\n",
       "    .dataframe thead th {\n",
       "        text-align: right;\n",
       "    }\n",
       "</style>\n",
       "<table border=\"1\" class=\"dataframe\">\n",
       "  <thead>\n",
       "    <tr style=\"text-align: right;\">\n",
       "      <th></th>\n",
       "      <th>Date</th>\n",
       "      <th>Name</th>\n",
       "      <th>Contributor Type</th>\n",
       "      <th>Occupation</th>\n",
       "      <th>Payment Type</th>\n",
       "      <th>Amount</th>\n",
       "      <th>Full Name</th>\n",
       "      <th>Address</th>\n",
       "      <th>City</th>\n",
       "      <th>State</th>\n",
       "      <th>Zipcode</th>\n",
       "    </tr>\n",
       "  </thead>\n",
       "  <tbody>\n",
       "    <tr>\n",
       "      <th>1</th>\n",
       "      <td>08/09/21</td>\n",
       "      <td>[Franklin Knight, 400 66 Avenue S, St. Petersb...</td>\n",
       "      <td>Individ</td>\n",
       "      <td>al</td>\n",
       "      <td>Check</td>\n",
       "      <td>$25.00</td>\n",
       "      <td>Franklin Knight</td>\n",
       "      <td>400 66 Avenue S</td>\n",
       "      <td>St. Petersburg</td>\n",
       "      <td>FL</td>\n",
       "      <td>33705</td>\n",
       "    </tr>\n",
       "    <tr>\n",
       "      <th>3</th>\n",
       "      <td>08/11/21</td>\n",
       "      <td>[Mary Bailey, 685 59th Ave S St, Petersburg, F...</td>\n",
       "      <td>Individ</td>\n",
       "      <td>al</td>\n",
       "      <td>Check</td>\n",
       "      <td>$25.00</td>\n",
       "      <td>Mary Bailey</td>\n",
       "      <td>685 59th Ave S St</td>\n",
       "      <td>Petersburg</td>\n",
       "      <td>FL</td>\n",
       "      <td></td>\n",
       "    </tr>\n",
       "    <tr>\n",
       "      <th>5</th>\n",
       "      <td>08/11/21</td>\n",
       "      <td>[PLLC, 535 Central Avenue, St. Petersburg, FL ...</td>\n",
       "      <td>Busine</td>\n",
       "      <td>Law Firm\\rs</td>\n",
       "      <td>Check</td>\n",
       "      <td>$250.00</td>\n",
       "      <td>Rahdert &amp; Mortimer</td>\n",
       "      <td>PLLC 535 Central Avenue</td>\n",
       "      <td>St. Petersburg</td>\n",
       "      <td>FL</td>\n",
       "      <td>33701</td>\n",
       "    </tr>\n",
       "    <tr>\n",
       "      <th>7</th>\n",
       "      <td>08/11/21</td>\n",
       "      <td>[Pinellas Stonewall PAC, 2250 1st Ave N, St. P...</td>\n",
       "      <td>Politic</td>\n",
       "      <td>Political\\rCommittee\\rlCommittee</td>\n",
       "      <td>Check</td>\n",
       "      <td>$500.00</td>\n",
       "      <td>Pinellas Stonewall PAC</td>\n",
       "      <td>2250 1st Ave N</td>\n",
       "      <td>St. Petersburg</td>\n",
       "      <td>FL</td>\n",
       "      <td>33713</td>\n",
       "    </tr>\n",
       "    <tr>\n",
       "      <th>9</th>\n",
       "      <td>08/13/21</td>\n",
       "      <td>[Florida Inc, 3100 SW 15th St, Deerfield Beach...</td>\n",
       "      <td>Busine</td>\n",
       "      <td>Construction\\rs</td>\n",
       "      <td>Check</td>\n",
       "      <td>$1,000.00</td>\n",
       "      <td>Ric-Man Construction</td>\n",
       "      <td>Florida Inc 3100 SW 15th St</td>\n",
       "      <td>Deerfield Beach</td>\n",
       "      <td>FL</td>\n",
       "      <td>None</td>\n",
       "    </tr>\n",
       "  </tbody>\n",
       "</table>\n",
       "</div>"
      ],
      "text/plain": [
       "       Date                                               Name  \\\n",
       "1  08/09/21  [Franklin Knight, 400 66 Avenue S, St. Petersb...   \n",
       "3  08/11/21  [Mary Bailey, 685 59th Ave S St, Petersburg, F...   \n",
       "5  08/11/21  [PLLC, 535 Central Avenue, St. Petersburg, FL ...   \n",
       "7  08/11/21  [Pinellas Stonewall PAC, 2250 1st Ave N, St. P...   \n",
       "9  08/13/21  [Florida Inc, 3100 SW 15th St, Deerfield Beach...   \n",
       "\n",
       "  Contributor Type                        Occupation Payment Type     Amount  \\\n",
       "1          Individ                                al        Check     $25.00   \n",
       "3          Individ                                al        Check     $25.00   \n",
       "5           Busine                       Law Firm\\rs        Check    $250.00   \n",
       "7          Politic  Political\\rCommittee\\rlCommittee        Check    $500.00   \n",
       "9           Busine                   Construction\\rs        Check  $1,000.00   \n",
       "\n",
       "                Full Name                      Address             City State  \\\n",
       "1         Franklin Knight              400 66 Avenue S   St. Petersburg    FL   \n",
       "3             Mary Bailey            685 59th Ave S St       Petersburg    FL   \n",
       "5      Rahdert & Mortimer      PLLC 535 Central Avenue   St. Petersburg    FL   \n",
       "7  Pinellas Stonewall PAC               2250 1st Ave N   St. Petersburg    FL   \n",
       "9    Ric-Man Construction  Florida Inc 3100 SW 15th St  Deerfield Beach    FL   \n",
       "\n",
       "  Zipcode  \n",
       "1   33705  \n",
       "3          \n",
       "5   33701  \n",
       "7   33713  \n",
       "9    None  "
      ]
     },
     "execution_count": 18,
     "metadata": {},
     "output_type": "execute_result"
    }
   ],
   "source": [
    "contrib_df.head()"
   ]
  },
  {
   "cell_type": "code",
   "execution_count": 19,
   "metadata": {},
   "outputs": [],
   "source": [
    "def parse_first_name(full_name):\n",
    "    names = full_name.split(' ')\n",
    "    titles = ['Mr', 'Mrs', 'Miss', 'Ms', 'Dr']\n",
    "    if names[0] not in titles:\n",
    "        first = names[0]\n",
    "    else:\n",
    "        first = names[1]\n",
    "\n",
    "    res = ''.join([i for i in first if not i.isdigit()])\n",
    "    return res"
   ]
  },
  {
   "cell_type": "code",
   "execution_count": 20,
   "metadata": {},
   "outputs": [],
   "source": [
    "contrib_df['First'] = contrib_df['Full Name'].apply(lambda x: parse_first_name(x))\n",
    "contrib_df['Last'] = contrib_df['Full Name'].apply(lambda x: x.split(' ')[-1].strip())"
   ]
  },
  {
   "cell_type": "code",
   "execution_count": 21,
   "metadata": {},
   "outputs": [
    {
     "data": {
      "text/html": [
       "<div>\n",
       "<style scoped>\n",
       "    .dataframe tbody tr th:only-of-type {\n",
       "        vertical-align: middle;\n",
       "    }\n",
       "\n",
       "    .dataframe tbody tr th {\n",
       "        vertical-align: top;\n",
       "    }\n",
       "\n",
       "    .dataframe thead th {\n",
       "        text-align: right;\n",
       "    }\n",
       "</style>\n",
       "<table border=\"1\" class=\"dataframe\">\n",
       "  <thead>\n",
       "    <tr style=\"text-align: right;\">\n",
       "      <th></th>\n",
       "      <th>Date</th>\n",
       "      <th>Name</th>\n",
       "      <th>Contributor Type</th>\n",
       "      <th>Occupation</th>\n",
       "      <th>Payment Type</th>\n",
       "      <th>Amount</th>\n",
       "      <th>Full Name</th>\n",
       "      <th>Address</th>\n",
       "      <th>City</th>\n",
       "      <th>State</th>\n",
       "      <th>Zipcode</th>\n",
       "      <th>First</th>\n",
       "      <th>Last</th>\n",
       "    </tr>\n",
       "  </thead>\n",
       "  <tbody>\n",
       "    <tr>\n",
       "      <th>1</th>\n",
       "      <td>08/09/21</td>\n",
       "      <td>[Franklin Knight, 400 66 Avenue S, St. Petersb...</td>\n",
       "      <td>Individ</td>\n",
       "      <td>al</td>\n",
       "      <td>Check</td>\n",
       "      <td>$25.00</td>\n",
       "      <td>Franklin Knight</td>\n",
       "      <td>400 66 Avenue S</td>\n",
       "      <td>St. Petersburg</td>\n",
       "      <td>FL</td>\n",
       "      <td>33705</td>\n",
       "      <td>Franklin</td>\n",
       "      <td>Knight</td>\n",
       "    </tr>\n",
       "    <tr>\n",
       "      <th>3</th>\n",
       "      <td>08/11/21</td>\n",
       "      <td>[Mary Bailey, 685 59th Ave S St, Petersburg, F...</td>\n",
       "      <td>Individ</td>\n",
       "      <td>al</td>\n",
       "      <td>Check</td>\n",
       "      <td>$25.00</td>\n",
       "      <td>Mary Bailey</td>\n",
       "      <td>685 59th Ave S St</td>\n",
       "      <td>Petersburg</td>\n",
       "      <td>FL</td>\n",
       "      <td></td>\n",
       "      <td>Mary</td>\n",
       "      <td>Bailey</td>\n",
       "    </tr>\n",
       "    <tr>\n",
       "      <th>5</th>\n",
       "      <td>08/11/21</td>\n",
       "      <td>[PLLC, 535 Central Avenue, St. Petersburg, FL ...</td>\n",
       "      <td>Busine</td>\n",
       "      <td>Law Firm\\rs</td>\n",
       "      <td>Check</td>\n",
       "      <td>$250.00</td>\n",
       "      <td>Rahdert &amp; Mortimer</td>\n",
       "      <td>PLLC 535 Central Avenue</td>\n",
       "      <td>St. Petersburg</td>\n",
       "      <td>FL</td>\n",
       "      <td>33701</td>\n",
       "      <td>Rahdert</td>\n",
       "      <td>Mortimer</td>\n",
       "    </tr>\n",
       "    <tr>\n",
       "      <th>7</th>\n",
       "      <td>08/11/21</td>\n",
       "      <td>[Pinellas Stonewall PAC, 2250 1st Ave N, St. P...</td>\n",
       "      <td>Politic</td>\n",
       "      <td>Political\\rCommittee\\rlCommittee</td>\n",
       "      <td>Check</td>\n",
       "      <td>$500.00</td>\n",
       "      <td>Pinellas Stonewall PAC</td>\n",
       "      <td>2250 1st Ave N</td>\n",
       "      <td>St. Petersburg</td>\n",
       "      <td>FL</td>\n",
       "      <td>33713</td>\n",
       "      <td>Pinellas</td>\n",
       "      <td>PAC</td>\n",
       "    </tr>\n",
       "    <tr>\n",
       "      <th>9</th>\n",
       "      <td>08/13/21</td>\n",
       "      <td>[Florida Inc, 3100 SW 15th St, Deerfield Beach...</td>\n",
       "      <td>Busine</td>\n",
       "      <td>Construction\\rs</td>\n",
       "      <td>Check</td>\n",
       "      <td>$1,000.00</td>\n",
       "      <td>Ric-Man Construction</td>\n",
       "      <td>Florida Inc 3100 SW 15th St</td>\n",
       "      <td>Deerfield Beach</td>\n",
       "      <td>FL</td>\n",
       "      <td>None</td>\n",
       "      <td>Ric-Man</td>\n",
       "      <td>Construction</td>\n",
       "    </tr>\n",
       "  </tbody>\n",
       "</table>\n",
       "</div>"
      ],
      "text/plain": [
       "       Date                                               Name  \\\n",
       "1  08/09/21  [Franklin Knight, 400 66 Avenue S, St. Petersb...   \n",
       "3  08/11/21  [Mary Bailey, 685 59th Ave S St, Petersburg, F...   \n",
       "5  08/11/21  [PLLC, 535 Central Avenue, St. Petersburg, FL ...   \n",
       "7  08/11/21  [Pinellas Stonewall PAC, 2250 1st Ave N, St. P...   \n",
       "9  08/13/21  [Florida Inc, 3100 SW 15th St, Deerfield Beach...   \n",
       "\n",
       "  Contributor Type                        Occupation Payment Type     Amount  \\\n",
       "1          Individ                                al        Check     $25.00   \n",
       "3          Individ                                al        Check     $25.00   \n",
       "5           Busine                       Law Firm\\rs        Check    $250.00   \n",
       "7          Politic  Political\\rCommittee\\rlCommittee        Check    $500.00   \n",
       "9           Busine                   Construction\\rs        Check  $1,000.00   \n",
       "\n",
       "                Full Name                      Address             City State  \\\n",
       "1         Franklin Knight              400 66 Avenue S   St. Petersburg    FL   \n",
       "3             Mary Bailey            685 59th Ave S St       Petersburg    FL   \n",
       "5      Rahdert & Mortimer      PLLC 535 Central Avenue   St. Petersburg    FL   \n",
       "7  Pinellas Stonewall PAC               2250 1st Ave N   St. Petersburg    FL   \n",
       "9    Ric-Man Construction  Florida Inc 3100 SW 15th St  Deerfield Beach    FL   \n",
       "\n",
       "  Zipcode     First          Last  \n",
       "1   33705  Franklin        Knight  \n",
       "3              Mary        Bailey  \n",
       "5   33701   Rahdert      Mortimer  \n",
       "7   33713  Pinellas           PAC  \n",
       "9    None   Ric-Man  Construction  "
      ]
     },
     "execution_count": 21,
     "metadata": {},
     "output_type": "execute_result"
    }
   ],
   "source": [
    "contrib_df.head()"
   ]
  },
  {
   "cell_type": "code",
   "execution_count": 22,
   "metadata": {},
   "outputs": [],
   "source": [
    "contrib_df = contrib_df.drop(columns = ['Name', 'Full Name'])"
   ]
  },
  {
   "cell_type": "code",
   "execution_count": 23,
   "metadata": {},
   "outputs": [],
   "source": [
    "contrib_df['Contributor Type'] = contrib_df['Contributor Type'].map({'Busine':'Business', 'Individ': 'Individual'})"
   ]
  },
  {
   "cell_type": "code",
   "execution_count": 24,
   "metadata": {},
   "outputs": [],
   "source": [
    "def clean_occupation(occupation):\n",
    "    if '\\ral' in occupation:\n",
    "        occupation = occupation.replace('\\ral', '')\n",
    "    occupation = occupation.replace('\\r', ' ')\n",
    "    if occupation == 'al':\n",
    "        occupation = ''\n",
    "    return occupation"
   ]
  },
  {
   "cell_type": "code",
   "execution_count": 25,
   "metadata": {},
   "outputs": [],
   "source": [
    "contrib_df['Occupation'] = contrib_df['Occupation'].apply(lambda x: clean_occupation(x))"
   ]
  },
  {
   "cell_type": "code",
   "execution_count": 26,
   "metadata": {},
   "outputs": [],
   "source": [
    "contrib_df = contrib_df[['Date', 'Amount', 'Payment Type', 'First', 'Last', 'Address', 'City', 'State', 'Zipcode', 'Occupation']]"
   ]
  },
  {
   "cell_type": "code",
   "execution_count": 27,
   "metadata": {},
   "outputs": [
    {
     "data": {
      "text/html": [
       "<div>\n",
       "<style scoped>\n",
       "    .dataframe tbody tr th:only-of-type {\n",
       "        vertical-align: middle;\n",
       "    }\n",
       "\n",
       "    .dataframe tbody tr th {\n",
       "        vertical-align: top;\n",
       "    }\n",
       "\n",
       "    .dataframe thead th {\n",
       "        text-align: right;\n",
       "    }\n",
       "</style>\n",
       "<table border=\"1\" class=\"dataframe\">\n",
       "  <thead>\n",
       "    <tr style=\"text-align: right;\">\n",
       "      <th></th>\n",
       "      <th>Date</th>\n",
       "      <th>Amount</th>\n",
       "      <th>Payment Type</th>\n",
       "      <th>First</th>\n",
       "      <th>Last</th>\n",
       "      <th>Address</th>\n",
       "      <th>City</th>\n",
       "      <th>State</th>\n",
       "      <th>Zipcode</th>\n",
       "      <th>Occupation</th>\n",
       "    </tr>\n",
       "  </thead>\n",
       "  <tbody>\n",
       "    <tr>\n",
       "      <th>1</th>\n",
       "      <td>08/09/21</td>\n",
       "      <td>$25.00</td>\n",
       "      <td>Check</td>\n",
       "      <td>Franklin</td>\n",
       "      <td>Knight</td>\n",
       "      <td>400 66 Avenue S</td>\n",
       "      <td>St. Petersburg</td>\n",
       "      <td>FL</td>\n",
       "      <td>33705</td>\n",
       "      <td></td>\n",
       "    </tr>\n",
       "    <tr>\n",
       "      <th>3</th>\n",
       "      <td>08/11/21</td>\n",
       "      <td>$25.00</td>\n",
       "      <td>Check</td>\n",
       "      <td>Mary</td>\n",
       "      <td>Bailey</td>\n",
       "      <td>685 59th Ave S St</td>\n",
       "      <td>Petersburg</td>\n",
       "      <td>FL</td>\n",
       "      <td></td>\n",
       "      <td></td>\n",
       "    </tr>\n",
       "    <tr>\n",
       "      <th>5</th>\n",
       "      <td>08/11/21</td>\n",
       "      <td>$250.00</td>\n",
       "      <td>Check</td>\n",
       "      <td>Rahdert</td>\n",
       "      <td>Mortimer</td>\n",
       "      <td>PLLC 535 Central Avenue</td>\n",
       "      <td>St. Petersburg</td>\n",
       "      <td>FL</td>\n",
       "      <td>33701</td>\n",
       "      <td>Law Firm s</td>\n",
       "    </tr>\n",
       "    <tr>\n",
       "      <th>7</th>\n",
       "      <td>08/11/21</td>\n",
       "      <td>$500.00</td>\n",
       "      <td>Check</td>\n",
       "      <td>Pinellas</td>\n",
       "      <td>PAC</td>\n",
       "      <td>2250 1st Ave N</td>\n",
       "      <td>St. Petersburg</td>\n",
       "      <td>FL</td>\n",
       "      <td>33713</td>\n",
       "      <td>Political Committee lCommittee</td>\n",
       "    </tr>\n",
       "    <tr>\n",
       "      <th>9</th>\n",
       "      <td>08/13/21</td>\n",
       "      <td>$1,000.00</td>\n",
       "      <td>Check</td>\n",
       "      <td>Ric-Man</td>\n",
       "      <td>Construction</td>\n",
       "      <td>Florida Inc 3100 SW 15th St</td>\n",
       "      <td>Deerfield Beach</td>\n",
       "      <td>FL</td>\n",
       "      <td>None</td>\n",
       "      <td>Construction s</td>\n",
       "    </tr>\n",
       "  </tbody>\n",
       "</table>\n",
       "</div>"
      ],
      "text/plain": [
       "       Date     Amount Payment Type     First          Last  \\\n",
       "1  08/09/21     $25.00        Check  Franklin        Knight   \n",
       "3  08/11/21     $25.00        Check      Mary        Bailey   \n",
       "5  08/11/21    $250.00        Check   Rahdert      Mortimer   \n",
       "7  08/11/21    $500.00        Check  Pinellas           PAC   \n",
       "9  08/13/21  $1,000.00        Check   Ric-Man  Construction   \n",
       "\n",
       "                       Address             City State Zipcode  \\\n",
       "1              400 66 Avenue S   St. Petersburg    FL   33705   \n",
       "3            685 59th Ave S St       Petersburg    FL           \n",
       "5      PLLC 535 Central Avenue   St. Petersburg    FL   33701   \n",
       "7               2250 1st Ave N   St. Petersburg    FL   33713   \n",
       "9  Florida Inc 3100 SW 15th St  Deerfield Beach    FL    None   \n",
       "\n",
       "                       Occupation  \n",
       "1                                  \n",
       "3                                  \n",
       "5                      Law Firm s  \n",
       "7  Political Committee lCommittee  \n",
       "9                  Construction s  "
      ]
     },
     "execution_count": 27,
     "metadata": {},
     "output_type": "execute_result"
    }
   ],
   "source": [
    "contrib_df.head()"
   ]
  },
  {
   "cell_type": "code",
   "execution_count": 28,
   "metadata": {},
   "outputs": [
    {
     "data": {
      "text/plain": [
       "Date            object\n",
       "Amount          object\n",
       "Payment Type    object\n",
       "First           object\n",
       "Last            object\n",
       "Address         object\n",
       "City            object\n",
       "State           object\n",
       "Zipcode         object\n",
       "Occupation      object\n",
       "dtype: object"
      ]
     },
     "execution_count": 28,
     "metadata": {},
     "output_type": "execute_result"
    }
   ],
   "source": [
    "contrib_df.dtypes"
   ]
  },
  {
   "cell_type": "markdown",
   "metadata": {},
   "source": [
    "### Update the following cell per instructions"
   ]
  },
  {
   "cell_type": "code",
   "execution_count": 29,
   "metadata": {},
   "outputs": [],
   "source": [
    "contrib_df.to_csv('./campaign_finance_data/processed/ken_welch_08-20-21_finance.csv', index=False)"
   ]
  },
  {
   "cell_type": "markdown",
   "metadata": {},
   "source": [
    "---\n",
    "## TO DO\n",
    "- [ ] Remove salutations from names\n",
    "- [ ] Weird names with numbers in the middle\n",
    "- [ ] Accents\n",
    "- [ ] Permute columns\n",
    "- [ ] Recognize companies containing LLC, INC\n",
    "- [ ] Date to datetime object -> group contributions by date"
   ]
  },
  {
   "cell_type": "markdown",
   "metadata": {},
   "source": [
    "---\n",
    "**BELOW:** If you need to concatenate more than one dataframe to comprise the month, use the code below. Replace file names where necessary."
   ]
  },
  {
   "cell_type": "code",
   "execution_count": 30,
   "metadata": {},
   "outputs": [],
   "source": [
    "# # Update this cell with filepaths to the relevant reports\n",
    "# df1 = pd.read_csv('./campaign_finance_data/processed/ken_welch_juneH1_finance.csv')\n",
    "# df2 = pd.read_csv('./campaign_finance_data/processed/ken_welch_juneH2_finance.csv')"
   ]
  },
  {
   "cell_type": "code",
   "execution_count": 31,
   "metadata": {},
   "outputs": [],
   "source": [
    "# month_df = pd.concat([df1, df2], axis = 0)\n",
    "\n",
    "# month_df.reset_index(drop = True, inplace = True)"
   ]
  },
  {
   "cell_type": "code",
   "execution_count": 32,
   "metadata": {},
   "outputs": [],
   "source": [
    "# month_df.head(3)"
   ]
  },
  {
   "cell_type": "code",
   "execution_count": 33,
   "metadata": {},
   "outputs": [],
   "source": [
    "# month_df.tail(3)"
   ]
  },
  {
   "cell_type": "markdown",
   "metadata": {},
   "source": [
    "### Update the following cell per instructions"
   ]
  },
  {
   "cell_type": "code",
   "execution_count": 34,
   "metadata": {},
   "outputs": [],
   "source": [
    "# month_df.to_csv('./campaign_finance_data/processed/ken_welch_june_finance.csv', index=False)"
   ]
  },
  {
   "cell_type": "code",
   "execution_count": null,
   "metadata": {},
   "outputs": [],
   "source": []
  }
 ],
 "metadata": {
  "kernelspec": {
   "display_name": "Python 3",
   "language": "python",
   "name": "python3"
  },
  "language_info": {
   "codemirror_mode": {
    "name": "ipython",
    "version": 3
   },
   "file_extension": ".py",
   "mimetype": "text/x-python",
   "name": "python",
   "nbconvert_exporter": "python",
   "pygments_lexer": "ipython3",
   "version": "3.8.5"
  }
 },
 "nbformat": 4,
 "nbformat_minor": 5
}
