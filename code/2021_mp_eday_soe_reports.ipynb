{
 "cells": [
  {
   "cell_type": "markdown",
   "metadata": {},
   "source": [
    "![](../additional_materials/logos/darden_rice_logo_SM.png)"
   ]
  },
  {
   "cell_type": "markdown",
   "metadata": {},
   "source": [
    "### 2021 Municipal Election Day Doc Processing\n",
    "\n",
    "This notebook contains code to process and format data according to Adrienne Bogen's [E Day Doc](https://docs.google.com/spreadsheets/d/1M6EKaDWyVTHzpNTi2cdLXDYZfKgGVtChcbCmEbIla4k/edit#gid=0) for the 2021 Pinellas County municipal primary election on Google Sheets.\n",
    "\n",
    "Data sources: \n",
    "* [Pinellas County SOE](https://www.votepinellas.com/Election-Results)\n",
    "\n",
    "---\n",
    "---"
   ]
  },
  {
   "cell_type": "code",
   "execution_count": 1,
   "metadata": {},
   "outputs": [],
   "source": [
    "import pandas as pd\n",
    "from pandas.tseries.offsets import BDay\n",
    "pd.set_option('display.max_columns', None)\n",
    "\n",
    "import numpy as np\n",
    "import matplotlib.pyplot as plt\n",
    "import matplotlib.ticker as ticker\n",
    "import seaborn as sns\n",
    "\n",
    "import datetime"
   ]
  },
  {
   "cell_type": "code",
   "execution_count": 2,
   "metadata": {},
   "outputs": [],
   "source": [
    "df = pd.read_csv('../data/mp_eday_2021_raw/voted_6PM_08-24-21.csv')"
   ]
  },
  {
   "cell_type": "code",
   "execution_count": 3,
   "metadata": {},
   "outputs": [
    {
     "data": {
      "text/html": [
       "<div>\n",
       "<style scoped>\n",
       "    .dataframe tbody tr th:only-of-type {\n",
       "        vertical-align: middle;\n",
       "    }\n",
       "\n",
       "    .dataframe tbody tr th {\n",
       "        vertical-align: top;\n",
       "    }\n",
       "\n",
       "    .dataframe thead th {\n",
       "        text-align: right;\n",
       "    }\n",
       "</style>\n",
       "<table border=\"1\" class=\"dataframe\">\n",
       "  <thead>\n",
       "    <tr style=\"text-align: right;\">\n",
       "      <th></th>\n",
       "      <th>RegNum</th>\n",
       "      <th>LastName</th>\n",
       "      <th>MiddleName</th>\n",
       "      <th>FirstName</th>\n",
       "      <th>StreetNumber</th>\n",
       "      <th>StreetSuffix</th>\n",
       "      <th>StreetDir</th>\n",
       "      <th>StreetName</th>\n",
       "      <th>StreetType</th>\n",
       "      <th>StreetDirSuffix</th>\n",
       "      <th>UnitType</th>\n",
       "      <th>ApartmentNumber</th>\n",
       "      <th>CityName</th>\n",
       "      <th>ZipCode</th>\n",
       "      <th>Precinct</th>\n",
       "      <th>Party</th>\n",
       "      <th>VoteDate</th>\n",
       "      <th>QualifiedCertificate</th>\n",
       "    </tr>\n",
       "  </thead>\n",
       "  <tbody>\n",
       "    <tr>\n",
       "      <th>0</th>\n",
       "      <td>107242621</td>\n",
       "      <td>O'NEIL</td>\n",
       "      <td>NaN</td>\n",
       "      <td>ALLEN</td>\n",
       "      <td>6900</td>\n",
       "      <td>NaN</td>\n",
       "      <td>NaN</td>\n",
       "      <td>23RD</td>\n",
       "      <td>ST</td>\n",
       "      <td>S</td>\n",
       "      <td>NaN</td>\n",
       "      <td>NaN</td>\n",
       "      <td>ST PETERSBURG</td>\n",
       "      <td>33712</td>\n",
       "      <td>107.0</td>\n",
       "      <td>CPF</td>\n",
       "      <td>2021-08-11 11:59:03Z</td>\n",
       "      <td>NaN</td>\n",
       "    </tr>\n",
       "    <tr>\n",
       "      <th>1</th>\n",
       "      <td>107151101</td>\n",
       "      <td>WIGGINS</td>\n",
       "      <td>WILLIAM</td>\n",
       "      <td>RICHARD</td>\n",
       "      <td>524</td>\n",
       "      <td>NaN</td>\n",
       "      <td>NaN</td>\n",
       "      <td>30TH</td>\n",
       "      <td>AVE</td>\n",
       "      <td>N</td>\n",
       "      <td>NaN</td>\n",
       "      <td>NaN</td>\n",
       "      <td>ST PETERSBURG</td>\n",
       "      <td>33704</td>\n",
       "      <td>136.0</td>\n",
       "      <td>CPF</td>\n",
       "      <td>2021-08-24 17:07:19Z</td>\n",
       "      <td>NaN</td>\n",
       "    </tr>\n",
       "    <tr>\n",
       "      <th>2</th>\n",
       "      <td>118810192</td>\n",
       "      <td>CANTLAY</td>\n",
       "      <td>COPELAND</td>\n",
       "      <td>BLAKE</td>\n",
       "      <td>777</td>\n",
       "      <td>NaN</td>\n",
       "      <td>NaN</td>\n",
       "      <td>30TH</td>\n",
       "      <td>AVE</td>\n",
       "      <td>N</td>\n",
       "      <td>NaN</td>\n",
       "      <td>#2</td>\n",
       "      <td>ST PETERSBURG</td>\n",
       "      <td>33704</td>\n",
       "      <td>137.0</td>\n",
       "      <td>CPF</td>\n",
       "      <td>2021-08-16 13:00:13Z</td>\n",
       "      <td>NaN</td>\n",
       "    </tr>\n",
       "  </tbody>\n",
       "</table>\n",
       "</div>"
      ],
      "text/plain": [
       "      RegNum LastName MiddleName FirstName  StreetNumber StreetSuffix  \\\n",
       "0  107242621   O'NEIL        NaN     ALLEN          6900          NaN   \n",
       "1  107151101  WIGGINS    WILLIAM   RICHARD           524          NaN   \n",
       "2  118810192  CANTLAY   COPELAND     BLAKE           777          NaN   \n",
       "\n",
       "  StreetDir StreetName StreetType StreetDirSuffix UnitType ApartmentNumber  \\\n",
       "0       NaN       23RD         ST               S      NaN             NaN   \n",
       "1       NaN       30TH        AVE               N      NaN             NaN   \n",
       "2       NaN       30TH        AVE               N      NaN              #2   \n",
       "\n",
       "        CityName ZipCode  Precinct Party              VoteDate  \\\n",
       "0  ST PETERSBURG   33712     107.0   CPF  2021-08-11 11:59:03Z   \n",
       "1  ST PETERSBURG   33704     136.0   CPF  2021-08-24 17:07:19Z   \n",
       "2  ST PETERSBURG   33704     137.0   CPF  2021-08-16 13:00:13Z   \n",
       "\n",
       "   QualifiedCertificate  \n",
       "0                   NaN  \n",
       "1                   NaN  \n",
       "2                   NaN  "
      ]
     },
     "execution_count": 3,
     "metadata": {},
     "output_type": "execute_result"
    }
   ],
   "source": [
    "df.head(3)"
   ]
  },
  {
   "cell_type": "code",
   "execution_count": 4,
   "metadata": {},
   "outputs": [
    {
     "data": {
      "text/plain": [
       "(51906, 18)"
      ]
     },
     "execution_count": 4,
     "metadata": {},
     "output_type": "execute_result"
    }
   ],
   "source": [
    "df.shape"
   ]
  },
  {
   "cell_type": "code",
   "execution_count": 5,
   "metadata": {},
   "outputs": [
    {
     "data": {
      "text/plain": [
       "Index(['RegNum', 'LastName', 'MiddleName', 'FirstName', 'StreetNumber',\n",
       "       'StreetSuffix', 'StreetDir', 'StreetName', 'StreetType',\n",
       "       'StreetDirSuffix', 'UnitType', 'ApartmentNumber', 'CityName', 'ZipCode',\n",
       "       'Precinct', 'Party', 'VoteDate', 'QualifiedCertificate'],\n",
       "      dtype='object')"
      ]
     },
     "execution_count": 5,
     "metadata": {},
     "output_type": "execute_result"
    }
   ],
   "source": [
    "df.columns"
   ]
  },
  {
   "cell_type": "code",
   "execution_count": 6,
   "metadata": {},
   "outputs": [],
   "source": [
    "# Drop unnecessary columns\n",
    "drop_cols = ['RegNum', 'LastName', 'MiddleName', 'FirstName', 'StreetNumber', 'StreetSuffix', 'StreetDir', \n",
    "             'StreetName', 'StreetType', 'StreetDirSuffix', 'UnitType', 'ApartmentNumber', 'CityName', \n",
    "             'ZipCode', 'QualifiedCertificate']\n",
    "\n",
    "df.drop(columns=drop_cols, inplace=True)"
   ]
  },
  {
   "cell_type": "code",
   "execution_count": 7,
   "metadata": {},
   "outputs": [
    {
     "data": {
      "text/html": [
       "<div>\n",
       "<style scoped>\n",
       "    .dataframe tbody tr th:only-of-type {\n",
       "        vertical-align: middle;\n",
       "    }\n",
       "\n",
       "    .dataframe tbody tr th {\n",
       "        vertical-align: top;\n",
       "    }\n",
       "\n",
       "    .dataframe thead th {\n",
       "        text-align: right;\n",
       "    }\n",
       "</style>\n",
       "<table border=\"1\" class=\"dataframe\">\n",
       "  <thead>\n",
       "    <tr style=\"text-align: right;\">\n",
       "      <th></th>\n",
       "      <th>Precinct</th>\n",
       "      <th>Party</th>\n",
       "      <th>VoteDate</th>\n",
       "    </tr>\n",
       "  </thead>\n",
       "  <tbody>\n",
       "    <tr>\n",
       "      <th>0</th>\n",
       "      <td>107.0</td>\n",
       "      <td>CPF</td>\n",
       "      <td>2021-08-11 11:59:03Z</td>\n",
       "    </tr>\n",
       "    <tr>\n",
       "      <th>1</th>\n",
       "      <td>136.0</td>\n",
       "      <td>CPF</td>\n",
       "      <td>2021-08-24 17:07:19Z</td>\n",
       "    </tr>\n",
       "    <tr>\n",
       "      <th>2</th>\n",
       "      <td>137.0</td>\n",
       "      <td>CPF</td>\n",
       "      <td>2021-08-16 13:00:13Z</td>\n",
       "    </tr>\n",
       "    <tr>\n",
       "      <th>3</th>\n",
       "      <td>140.0</td>\n",
       "      <td>CPF</td>\n",
       "      <td>2021-08-16 12:35:39Z</td>\n",
       "    </tr>\n",
       "    <tr>\n",
       "      <th>4</th>\n",
       "      <td>155.1</td>\n",
       "      <td>CPF</td>\n",
       "      <td>2021-08-04 12:20:58Z</td>\n",
       "    </tr>\n",
       "  </tbody>\n",
       "</table>\n",
       "</div>"
      ],
      "text/plain": [
       "   Precinct Party              VoteDate\n",
       "0     107.0   CPF  2021-08-11 11:59:03Z\n",
       "1     136.0   CPF  2021-08-24 17:07:19Z\n",
       "2     137.0   CPF  2021-08-16 13:00:13Z\n",
       "3     140.0   CPF  2021-08-16 12:35:39Z\n",
       "4     155.1   CPF  2021-08-04 12:20:58Z"
      ]
     },
     "execution_count": 7,
     "metadata": {},
     "output_type": "execute_result"
    }
   ],
   "source": [
    "df.head()"
   ]
  },
  {
   "cell_type": "code",
   "execution_count": 8,
   "metadata": {},
   "outputs": [],
   "source": [
    "# Remove decimals from precinct numbers (this is an error in the original report: e.g., precinct 155.1 should be 155)\n",
    "df['Precinct'] = df['Precinct'].apply(lambda x: round(x, 0)).astype(int)"
   ]
  },
  {
   "cell_type": "code",
   "execution_count": 9,
   "metadata": {},
   "outputs": [
    {
     "data": {
      "text/html": [
       "<div>\n",
       "<style scoped>\n",
       "    .dataframe tbody tr th:only-of-type {\n",
       "        vertical-align: middle;\n",
       "    }\n",
       "\n",
       "    .dataframe tbody tr th {\n",
       "        vertical-align: top;\n",
       "    }\n",
       "\n",
       "    .dataframe thead th {\n",
       "        text-align: right;\n",
       "    }\n",
       "</style>\n",
       "<table border=\"1\" class=\"dataframe\">\n",
       "  <thead>\n",
       "    <tr style=\"text-align: right;\">\n",
       "      <th></th>\n",
       "      <th>Precinct</th>\n",
       "      <th>Party</th>\n",
       "      <th>VoteDate</th>\n",
       "    </tr>\n",
       "  </thead>\n",
       "  <tbody>\n",
       "    <tr>\n",
       "      <th>0</th>\n",
       "      <td>107</td>\n",
       "      <td>CPF</td>\n",
       "      <td>2021-08-11 11:59:03Z</td>\n",
       "    </tr>\n",
       "    <tr>\n",
       "      <th>1</th>\n",
       "      <td>136</td>\n",
       "      <td>CPF</td>\n",
       "      <td>2021-08-24 17:07:19Z</td>\n",
       "    </tr>\n",
       "    <tr>\n",
       "      <th>2</th>\n",
       "      <td>137</td>\n",
       "      <td>CPF</td>\n",
       "      <td>2021-08-16 13:00:13Z</td>\n",
       "    </tr>\n",
       "    <tr>\n",
       "      <th>3</th>\n",
       "      <td>140</td>\n",
       "      <td>CPF</td>\n",
       "      <td>2021-08-16 12:35:39Z</td>\n",
       "    </tr>\n",
       "    <tr>\n",
       "      <th>4</th>\n",
       "      <td>155</td>\n",
       "      <td>CPF</td>\n",
       "      <td>2021-08-04 12:20:58Z</td>\n",
       "    </tr>\n",
       "  </tbody>\n",
       "</table>\n",
       "</div>"
      ],
      "text/plain": [
       "   Precinct Party              VoteDate\n",
       "0       107   CPF  2021-08-11 11:59:03Z\n",
       "1       136   CPF  2021-08-24 17:07:19Z\n",
       "2       137   CPF  2021-08-16 13:00:13Z\n",
       "3       140   CPF  2021-08-16 12:35:39Z\n",
       "4       155   CPF  2021-08-04 12:20:58Z"
      ]
     },
     "execution_count": 9,
     "metadata": {},
     "output_type": "execute_result"
    }
   ],
   "source": [
    "df.head()"
   ]
  },
  {
   "cell_type": "code",
   "execution_count": 10,
   "metadata": {},
   "outputs": [],
   "source": [
    "# Convert VoteDate to datetime and remove timestamps. All votes prior to EDay (08-24-21) need to be filtered out.\n",
    "df['VoteDate'] = pd.to_datetime(df['VoteDate']).dt.date\n",
    "df['VoteDate'] = pd.to_datetime(df['VoteDate'])"
   ]
  },
  {
   "cell_type": "code",
   "execution_count": 11,
   "metadata": {},
   "outputs": [
    {
     "data": {
      "text/plain": [
       "Precinct             int64\n",
       "Party               object\n",
       "VoteDate    datetime64[ns]\n",
       "dtype: object"
      ]
     },
     "execution_count": 11,
     "metadata": {},
     "output_type": "execute_result"
    }
   ],
   "source": [
    "df.dtypes"
   ]
  },
  {
   "cell_type": "code",
   "execution_count": 12,
   "metadata": {},
   "outputs": [
    {
     "data": {
      "text/html": [
       "<div>\n",
       "<style scoped>\n",
       "    .dataframe tbody tr th:only-of-type {\n",
       "        vertical-align: middle;\n",
       "    }\n",
       "\n",
       "    .dataframe tbody tr th {\n",
       "        vertical-align: top;\n",
       "    }\n",
       "\n",
       "    .dataframe thead th {\n",
       "        text-align: right;\n",
       "    }\n",
       "</style>\n",
       "<table border=\"1\" class=\"dataframe\">\n",
       "  <thead>\n",
       "    <tr style=\"text-align: right;\">\n",
       "      <th></th>\n",
       "      <th>Precinct</th>\n",
       "      <th>Party</th>\n",
       "      <th>VoteDate</th>\n",
       "    </tr>\n",
       "  </thead>\n",
       "  <tbody>\n",
       "    <tr>\n",
       "      <th>0</th>\n",
       "      <td>107</td>\n",
       "      <td>CPF</td>\n",
       "      <td>2021-08-11</td>\n",
       "    </tr>\n",
       "    <tr>\n",
       "      <th>1</th>\n",
       "      <td>136</td>\n",
       "      <td>CPF</td>\n",
       "      <td>2021-08-24</td>\n",
       "    </tr>\n",
       "    <tr>\n",
       "      <th>2</th>\n",
       "      <td>137</td>\n",
       "      <td>CPF</td>\n",
       "      <td>2021-08-16</td>\n",
       "    </tr>\n",
       "    <tr>\n",
       "      <th>3</th>\n",
       "      <td>140</td>\n",
       "      <td>CPF</td>\n",
       "      <td>2021-08-16</td>\n",
       "    </tr>\n",
       "    <tr>\n",
       "      <th>4</th>\n",
       "      <td>155</td>\n",
       "      <td>CPF</td>\n",
       "      <td>2021-08-04</td>\n",
       "    </tr>\n",
       "  </tbody>\n",
       "</table>\n",
       "</div>"
      ],
      "text/plain": [
       "   Precinct Party   VoteDate\n",
       "0       107   CPF 2021-08-11\n",
       "1       136   CPF 2021-08-24\n",
       "2       137   CPF 2021-08-16\n",
       "3       140   CPF 2021-08-16\n",
       "4       155   CPF 2021-08-04"
      ]
     },
     "execution_count": 12,
     "metadata": {},
     "output_type": "execute_result"
    }
   ],
   "source": [
    "df.head()"
   ]
  },
  {
   "cell_type": "code",
   "execution_count": 13,
   "metadata": {},
   "outputs": [],
   "source": [
    "# Remove all votes cast prior to EDay (08-24-21)\n",
    "df = df[df['VoteDate'].dt.date == datetime.date.today()].copy()"
   ]
  },
  {
   "cell_type": "code",
   "execution_count": 14,
   "metadata": {},
   "outputs": [],
   "source": [
    "# Sort df by precinct and re-index\n",
    "df.sort_values('Precinct', inplace=True)\n",
    "\n",
    "df.reset_index(drop=True, inplace=True)"
   ]
  },
  {
   "cell_type": "code",
   "execution_count": 15,
   "metadata": {},
   "outputs": [
    {
     "data": {
      "text/plain": [
       "DEM    8148\n",
       "REP    5305\n",
       "NPA    1913\n",
       "IND     103\n",
       "LPF      59\n",
       "GRE       8\n",
       "PSL       6\n",
       "CPF       2\n",
       "ECO       1\n",
       "Name: Party, dtype: int64"
      ]
     },
     "execution_count": 15,
     "metadata": {},
     "output_type": "execute_result"
    }
   ],
   "source": [
    "df['Party'].value_counts()"
   ]
  },
  {
   "cell_type": "code",
   "execution_count": 16,
   "metadata": {},
   "outputs": [],
   "source": [
    "# Change all non-Dem/Rep parties to 'OTH'\n",
    "others = ['IND', 'NPA', 'PSL', 'LPF', 'GRE', 'ECO', 'CPF']\n",
    "\n",
    "df['Party'] = df['Party'].replace(others, 'OTH')"
   ]
  },
  {
   "cell_type": "code",
   "execution_count": 17,
   "metadata": {},
   "outputs": [
    {
     "data": {
      "text/plain": [
       "DEM    8148\n",
       "REP    5305\n",
       "OTH    2092\n",
       "Name: Party, dtype: int64"
      ]
     },
     "execution_count": 17,
     "metadata": {},
     "output_type": "execute_result"
    }
   ],
   "source": [
    "df['Party'].value_counts()"
   ]
  },
  {
   "cell_type": "code",
   "execution_count": 18,
   "metadata": {},
   "outputs": [],
   "source": [
    "# Group df by precinct\n",
    "precinct_gb_df = df.groupby(['Precinct', 'Party']).count().unstack()"
   ]
  },
  {
   "cell_type": "code",
   "execution_count": 19,
   "metadata": {},
   "outputs": [
    {
     "data": {
      "text/html": [
       "<div>\n",
       "<style scoped>\n",
       "    .dataframe tbody tr th:only-of-type {\n",
       "        vertical-align: middle;\n",
       "    }\n",
       "\n",
       "    .dataframe tbody tr th {\n",
       "        vertical-align: top;\n",
       "    }\n",
       "\n",
       "    .dataframe thead tr th {\n",
       "        text-align: left;\n",
       "    }\n",
       "\n",
       "    .dataframe thead tr:last-of-type th {\n",
       "        text-align: right;\n",
       "    }\n",
       "</style>\n",
       "<table border=\"1\" class=\"dataframe\">\n",
       "  <thead>\n",
       "    <tr>\n",
       "      <th></th>\n",
       "      <th colspan=\"3\" halign=\"left\">VoteDate</th>\n",
       "    </tr>\n",
       "    <tr>\n",
       "      <th>Party</th>\n",
       "      <th>DEM</th>\n",
       "      <th>OTH</th>\n",
       "      <th>REP</th>\n",
       "    </tr>\n",
       "    <tr>\n",
       "      <th>Precinct</th>\n",
       "      <th></th>\n",
       "      <th></th>\n",
       "      <th></th>\n",
       "    </tr>\n",
       "  </thead>\n",
       "  <tbody>\n",
       "    <tr>\n",
       "      <th>101</th>\n",
       "      <td>258.0</td>\n",
       "      <td>36.0</td>\n",
       "      <td>46.0</td>\n",
       "    </tr>\n",
       "    <tr>\n",
       "      <th>102</th>\n",
       "      <td>134.0</td>\n",
       "      <td>15.0</td>\n",
       "      <td>13.0</td>\n",
       "    </tr>\n",
       "    <tr>\n",
       "      <th>103</th>\n",
       "      <td>43.0</td>\n",
       "      <td>9.0</td>\n",
       "      <td>35.0</td>\n",
       "    </tr>\n",
       "    <tr>\n",
       "      <th>104</th>\n",
       "      <td>159.0</td>\n",
       "      <td>24.0</td>\n",
       "      <td>18.0</td>\n",
       "    </tr>\n",
       "    <tr>\n",
       "      <th>105</th>\n",
       "      <td>255.0</td>\n",
       "      <td>35.0</td>\n",
       "      <td>38.0</td>\n",
       "    </tr>\n",
       "  </tbody>\n",
       "</table>\n",
       "</div>"
      ],
      "text/plain": [
       "         VoteDate            \n",
       "Party         DEM   OTH   REP\n",
       "Precinct                     \n",
       "101         258.0  36.0  46.0\n",
       "102         134.0  15.0  13.0\n",
       "103          43.0   9.0  35.0\n",
       "104         159.0  24.0  18.0\n",
       "105         255.0  35.0  38.0"
      ]
     },
     "execution_count": 19,
     "metadata": {},
     "output_type": "execute_result"
    }
   ],
   "source": [
    "precinct_gb_df.head()"
   ]
  },
  {
   "cell_type": "code",
   "execution_count": 20,
   "metadata": {},
   "outputs": [],
   "source": [
    "# Removing MultiIndex and converting precincts to a column\n",
    "precinct_gb_df.columns = precinct_gb_df.columns.get_level_values(1)\n",
    "\n",
    "precinct_gb_df.reset_index(level=0, inplace=True)"
   ]
  },
  {
   "cell_type": "code",
   "execution_count": 21,
   "metadata": {},
   "outputs": [
    {
     "data": {
      "text/plain": [
       "Party\n",
       "Precinct    0\n",
       "DEM         2\n",
       "OTH         2\n",
       "REP         1\n",
       "dtype: int64"
      ]
     },
     "execution_count": 21,
     "metadata": {},
     "output_type": "execute_result"
    }
   ],
   "source": [
    "precinct_gb_df.isnull().sum()"
   ]
  },
  {
   "cell_type": "code",
   "execution_count": 22,
   "metadata": {},
   "outputs": [],
   "source": [
    "null_df = precinct_gb_df[precinct_gb_df.isnull().any(axis=1)]"
   ]
  },
  {
   "cell_type": "code",
   "execution_count": 23,
   "metadata": {},
   "outputs": [
    {
     "data": {
      "text/html": [
       "<div>\n",
       "<style scoped>\n",
       "    .dataframe tbody tr th:only-of-type {\n",
       "        vertical-align: middle;\n",
       "    }\n",
       "\n",
       "    .dataframe tbody tr th {\n",
       "        vertical-align: top;\n",
       "    }\n",
       "\n",
       "    .dataframe thead th {\n",
       "        text-align: right;\n",
       "    }\n",
       "</style>\n",
       "<table border=\"1\" class=\"dataframe\">\n",
       "  <thead>\n",
       "    <tr style=\"text-align: right;\">\n",
       "      <th>Party</th>\n",
       "      <th>Precinct</th>\n",
       "      <th>DEM</th>\n",
       "      <th>OTH</th>\n",
       "      <th>REP</th>\n",
       "    </tr>\n",
       "  </thead>\n",
       "  <tbody>\n",
       "    <tr>\n",
       "      <th>16</th>\n",
       "      <td>117</td>\n",
       "      <td>82.0</td>\n",
       "      <td>4.0</td>\n",
       "      <td>NaN</td>\n",
       "    </tr>\n",
       "    <tr>\n",
       "      <th>21</th>\n",
       "      <td>122</td>\n",
       "      <td>4.0</td>\n",
       "      <td>NaN</td>\n",
       "      <td>2.0</td>\n",
       "    </tr>\n",
       "    <tr>\n",
       "      <th>56</th>\n",
       "      <td>165</td>\n",
       "      <td>NaN</td>\n",
       "      <td>NaN</td>\n",
       "      <td>2.0</td>\n",
       "    </tr>\n",
       "    <tr>\n",
       "      <th>67</th>\n",
       "      <td>217</td>\n",
       "      <td>NaN</td>\n",
       "      <td>1.0</td>\n",
       "      <td>1.0</td>\n",
       "    </tr>\n",
       "  </tbody>\n",
       "</table>\n",
       "</div>"
      ],
      "text/plain": [
       "Party  Precinct   DEM  OTH  REP\n",
       "16          117  82.0  4.0  NaN\n",
       "21          122   4.0  NaN  2.0\n",
       "56          165   NaN  NaN  2.0\n",
       "67          217   NaN  1.0  1.0"
      ]
     },
     "execution_count": 23,
     "metadata": {},
     "output_type": "execute_result"
    }
   ],
   "source": [
    "null_df"
   ]
  },
  {
   "cell_type": "code",
   "execution_count": 24,
   "metadata": {},
   "outputs": [],
   "source": [
    "# Impute 0 for null values\n",
    "precinct_gb_df.fillna(0, inplace=True)"
   ]
  },
  {
   "cell_type": "code",
   "execution_count": 25,
   "metadata": {},
   "outputs": [
    {
     "data": {
      "text/plain": [
       "Party\n",
       "Precinct    0\n",
       "DEM         0\n",
       "OTH         0\n",
       "REP         0\n",
       "dtype: int64"
      ]
     },
     "execution_count": 25,
     "metadata": {},
     "output_type": "execute_result"
    }
   ],
   "source": [
    "precinct_gb_df.isnull().sum()"
   ]
  },
  {
   "cell_type": "code",
   "execution_count": 26,
   "metadata": {},
   "outputs": [],
   "source": [
    "# Convert counts to integers\n",
    "precinct_gb_df = precinct_gb_df.astype(int)"
   ]
  },
  {
   "cell_type": "code",
   "execution_count": 27,
   "metadata": {},
   "outputs": [
    {
     "data": {
      "text/html": [
       "<div>\n",
       "<style scoped>\n",
       "    .dataframe tbody tr th:only-of-type {\n",
       "        vertical-align: middle;\n",
       "    }\n",
       "\n",
       "    .dataframe tbody tr th {\n",
       "        vertical-align: top;\n",
       "    }\n",
       "\n",
       "    .dataframe thead th {\n",
       "        text-align: right;\n",
       "    }\n",
       "</style>\n",
       "<table border=\"1\" class=\"dataframe\">\n",
       "  <thead>\n",
       "    <tr style=\"text-align: right;\">\n",
       "      <th>Party</th>\n",
       "      <th>Precinct</th>\n",
       "      <th>DEM</th>\n",
       "      <th>OTH</th>\n",
       "      <th>REP</th>\n",
       "    </tr>\n",
       "  </thead>\n",
       "  <tbody>\n",
       "    <tr>\n",
       "      <th>0</th>\n",
       "      <td>101</td>\n",
       "      <td>258</td>\n",
       "      <td>36</td>\n",
       "      <td>46</td>\n",
       "    </tr>\n",
       "    <tr>\n",
       "      <th>1</th>\n",
       "      <td>102</td>\n",
       "      <td>134</td>\n",
       "      <td>15</td>\n",
       "      <td>13</td>\n",
       "    </tr>\n",
       "    <tr>\n",
       "      <th>2</th>\n",
       "      <td>103</td>\n",
       "      <td>43</td>\n",
       "      <td>9</td>\n",
       "      <td>35</td>\n",
       "    </tr>\n",
       "    <tr>\n",
       "      <th>3</th>\n",
       "      <td>104</td>\n",
       "      <td>159</td>\n",
       "      <td>24</td>\n",
       "      <td>18</td>\n",
       "    </tr>\n",
       "    <tr>\n",
       "      <th>4</th>\n",
       "      <td>105</td>\n",
       "      <td>255</td>\n",
       "      <td>35</td>\n",
       "      <td>38</td>\n",
       "    </tr>\n",
       "  </tbody>\n",
       "</table>\n",
       "</div>"
      ],
      "text/plain": [
       "Party  Precinct  DEM  OTH  REP\n",
       "0           101  258   36   46\n",
       "1           102  134   15   13\n",
       "2           103   43    9   35\n",
       "3           104  159   24   18\n",
       "4           105  255   35   38"
      ]
     },
     "execution_count": 27,
     "metadata": {},
     "output_type": "execute_result"
    }
   ],
   "source": [
    "precinct_gb_df.head()"
   ]
  },
  {
   "cell_type": "code",
   "execution_count": 28,
   "metadata": {},
   "outputs": [],
   "source": [
    "# Reorder columns\n",
    "precinct_gb_df = precinct_gb_df[['Precinct', 'DEM', 'REP', 'OTH']]"
   ]
  },
  {
   "cell_type": "code",
   "execution_count": 29,
   "metadata": {},
   "outputs": [],
   "source": [
    "# Create total TO column\n",
    "precinct_gb_df['Total_TO'] = precinct_gb_df['DEM'] + precinct_gb_df['REP'] + precinct_gb_df['OTH']\n",
    "\n",
    "# Create columns for percent Dem/Rep/Oth\n",
    "precinct_gb_df['Dem_pct'] = round(precinct_gb_df['DEM'] / precinct_gb_df['Total_TO'], 4).copy()\n",
    "precinct_gb_df['Rep_pct'] = round(precinct_gb_df['REP'] / precinct_gb_df['Total_TO'], 4).copy()\n",
    "precinct_gb_df['Oth_pct'] = round(precinct_gb_df['OTH'] / precinct_gb_df['Total_TO'], 4).copy()"
   ]
  },
  {
   "cell_type": "code",
   "execution_count": 30,
   "metadata": {},
   "outputs": [
    {
     "data": {
      "text/html": [
       "<div>\n",
       "<style scoped>\n",
       "    .dataframe tbody tr th:only-of-type {\n",
       "        vertical-align: middle;\n",
       "    }\n",
       "\n",
       "    .dataframe tbody tr th {\n",
       "        vertical-align: top;\n",
       "    }\n",
       "\n",
       "    .dataframe thead th {\n",
       "        text-align: right;\n",
       "    }\n",
       "</style>\n",
       "<table border=\"1\" class=\"dataframe\">\n",
       "  <thead>\n",
       "    <tr style=\"text-align: right;\">\n",
       "      <th>Party</th>\n",
       "      <th>Precinct</th>\n",
       "      <th>DEM</th>\n",
       "      <th>REP</th>\n",
       "      <th>OTH</th>\n",
       "      <th>Total_TO</th>\n",
       "      <th>Dem_pct</th>\n",
       "      <th>Rep_pct</th>\n",
       "      <th>Oth_pct</th>\n",
       "    </tr>\n",
       "  </thead>\n",
       "  <tbody>\n",
       "    <tr>\n",
       "      <th>0</th>\n",
       "      <td>101</td>\n",
       "      <td>258</td>\n",
       "      <td>46</td>\n",
       "      <td>36</td>\n",
       "      <td>340</td>\n",
       "      <td>0.7588</td>\n",
       "      <td>0.1353</td>\n",
       "      <td>0.1059</td>\n",
       "    </tr>\n",
       "    <tr>\n",
       "      <th>1</th>\n",
       "      <td>102</td>\n",
       "      <td>134</td>\n",
       "      <td>13</td>\n",
       "      <td>15</td>\n",
       "      <td>162</td>\n",
       "      <td>0.8272</td>\n",
       "      <td>0.0802</td>\n",
       "      <td>0.0926</td>\n",
       "    </tr>\n",
       "    <tr>\n",
       "      <th>2</th>\n",
       "      <td>103</td>\n",
       "      <td>43</td>\n",
       "      <td>35</td>\n",
       "      <td>9</td>\n",
       "      <td>87</td>\n",
       "      <td>0.4943</td>\n",
       "      <td>0.4023</td>\n",
       "      <td>0.1034</td>\n",
       "    </tr>\n",
       "    <tr>\n",
       "      <th>3</th>\n",
       "      <td>104</td>\n",
       "      <td>159</td>\n",
       "      <td>18</td>\n",
       "      <td>24</td>\n",
       "      <td>201</td>\n",
       "      <td>0.7910</td>\n",
       "      <td>0.0896</td>\n",
       "      <td>0.1194</td>\n",
       "    </tr>\n",
       "    <tr>\n",
       "      <th>4</th>\n",
       "      <td>105</td>\n",
       "      <td>255</td>\n",
       "      <td>38</td>\n",
       "      <td>35</td>\n",
       "      <td>328</td>\n",
       "      <td>0.7774</td>\n",
       "      <td>0.1159</td>\n",
       "      <td>0.1067</td>\n",
       "    </tr>\n",
       "    <tr>\n",
       "      <th>...</th>\n",
       "      <td>...</td>\n",
       "      <td>...</td>\n",
       "      <td>...</td>\n",
       "      <td>...</td>\n",
       "      <td>...</td>\n",
       "      <td>...</td>\n",
       "      <td>...</td>\n",
       "      <td>...</td>\n",
       "    </tr>\n",
       "    <tr>\n",
       "      <th>86</th>\n",
       "      <td>237</td>\n",
       "      <td>3</td>\n",
       "      <td>3</td>\n",
       "      <td>4</td>\n",
       "      <td>10</td>\n",
       "      <td>0.3000</td>\n",
       "      <td>0.3000</td>\n",
       "      <td>0.4000</td>\n",
       "    </tr>\n",
       "    <tr>\n",
       "      <th>87</th>\n",
       "      <td>239</td>\n",
       "      <td>121</td>\n",
       "      <td>111</td>\n",
       "      <td>46</td>\n",
       "      <td>278</td>\n",
       "      <td>0.4353</td>\n",
       "      <td>0.3993</td>\n",
       "      <td>0.1655</td>\n",
       "    </tr>\n",
       "    <tr>\n",
       "      <th>88</th>\n",
       "      <td>240</td>\n",
       "      <td>44</td>\n",
       "      <td>86</td>\n",
       "      <td>13</td>\n",
       "      <td>143</td>\n",
       "      <td>0.3077</td>\n",
       "      <td>0.6014</td>\n",
       "      <td>0.0909</td>\n",
       "    </tr>\n",
       "    <tr>\n",
       "      <th>89</th>\n",
       "      <td>241</td>\n",
       "      <td>86</td>\n",
       "      <td>111</td>\n",
       "      <td>43</td>\n",
       "      <td>240</td>\n",
       "      <td>0.3583</td>\n",
       "      <td>0.4625</td>\n",
       "      <td>0.1792</td>\n",
       "    </tr>\n",
       "    <tr>\n",
       "      <th>90</th>\n",
       "      <td>275</td>\n",
       "      <td>21</td>\n",
       "      <td>29</td>\n",
       "      <td>5</td>\n",
       "      <td>55</td>\n",
       "      <td>0.3818</td>\n",
       "      <td>0.5273</td>\n",
       "      <td>0.0909</td>\n",
       "    </tr>\n",
       "  </tbody>\n",
       "</table>\n",
       "<p>91 rows × 8 columns</p>\n",
       "</div>"
      ],
      "text/plain": [
       "Party  Precinct  DEM  REP  OTH  Total_TO  Dem_pct  Rep_pct  Oth_pct\n",
       "0           101  258   46   36       340   0.7588   0.1353   0.1059\n",
       "1           102  134   13   15       162   0.8272   0.0802   0.0926\n",
       "2           103   43   35    9        87   0.4943   0.4023   0.1034\n",
       "3           104  159   18   24       201   0.7910   0.0896   0.1194\n",
       "4           105  255   38   35       328   0.7774   0.1159   0.1067\n",
       "..          ...  ...  ...  ...       ...      ...      ...      ...\n",
       "86          237    3    3    4        10   0.3000   0.3000   0.4000\n",
       "87          239  121  111   46       278   0.4353   0.3993   0.1655\n",
       "88          240   44   86   13       143   0.3077   0.6014   0.0909\n",
       "89          241   86  111   43       240   0.3583   0.4625   0.1792\n",
       "90          275   21   29    5        55   0.3818   0.5273   0.0909\n",
       "\n",
       "[91 rows x 8 columns]"
      ]
     },
     "execution_count": 30,
     "metadata": {},
     "output_type": "execute_result"
    }
   ],
   "source": [
    "precinct_gb_df"
   ]
  },
  {
   "cell_type": "code",
   "execution_count": 31,
   "metadata": {},
   "outputs": [],
   "source": [
    "precinct_gb_df.to_csv('../data/mp_eday_2021_processed/CLEAN_voted_6PM_08-24-21.csv', index=False)"
   ]
  },
  {
   "cell_type": "markdown",
   "metadata": {},
   "source": [
    "---\n",
    "---"
   ]
  }
 ],
 "metadata": {
  "kernelspec": {
   "display_name": "Python 3",
   "language": "python",
   "name": "python3"
  },
  "language_info": {
   "codemirror_mode": {
    "name": "ipython",
    "version": 3
   },
   "file_extension": ".py",
   "mimetype": "text/x-python",
   "name": "python",
   "nbconvert_exporter": "python",
   "pygments_lexer": "ipython3",
   "version": "3.8.5"
  }
 },
 "nbformat": 4,
 "nbformat_minor": 4
}
