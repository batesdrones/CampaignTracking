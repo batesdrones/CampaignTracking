{
 "cells": [
  {
   "cell_type": "markdown",
   "metadata": {},
   "source": [
    "![](../additional_materials/logos/darden_rice_logo_SM.png)"
   ]
  },
  {
   "cell_type": "markdown",
   "metadata": {},
   "source": [
    "#### Handling Duplicates in Call Sheets"
   ]
  },
  {
   "cell_type": "code",
   "execution_count": 1,
   "metadata": {},
   "outputs": [],
   "source": [
    "import pandas as pd\n",
    "pd.set_option('display.max_columns', None)\n",
    "\n",
    "import numpy as np\n",
    "import matplotlib.pyplot as plt\n",
    "import matplotlib.ticker as ticker\n",
    "import seaborn as sns\n",
    "\n",
    "import datetime"
   ]
  },
  {
   "cell_type": "markdown",
   "metadata": {},
   "source": [
    "**BELOW:** Import master spreadsheet"
   ]
  },
  {
   "cell_type": "code",
   "execution_count": 2,
   "metadata": {},
   "outputs": [],
   "source": [
    "df = pd.read_csv('../data/raw_call_sheets/women_call_sheet_wduplicates.csv')"
   ]
  },
  {
   "cell_type": "code",
   "execution_count": 3,
   "metadata": {},
   "outputs": [
    {
     "data": {
      "text/html": [
       "<div>\n",
       "<style scoped>\n",
       "    .dataframe tbody tr th:only-of-type {\n",
       "        vertical-align: middle;\n",
       "    }\n",
       "\n",
       "    .dataframe tbody tr th {\n",
       "        vertical-align: top;\n",
       "    }\n",
       "\n",
       "    .dataframe thead th {\n",
       "        text-align: right;\n",
       "    }\n",
       "</style>\n",
       "<table border=\"1\" class=\"dataframe\">\n",
       "  <thead>\n",
       "    <tr style=\"text-align: right;\">\n",
       "      <th></th>\n",
       "      <th>Voter File VANID</th>\n",
       "      <th>LastName</th>\n",
       "      <th>FirstName</th>\n",
       "      <th>MiddleName</th>\n",
       "      <th>Suffix</th>\n",
       "      <th>Cell Phone</th>\n",
       "      <th>Home Phone</th>\n",
       "      <th>Preferred Phone</th>\n",
       "      <th>WorkPhone</th>\n",
       "      <th>WorkPhoneExt</th>\n",
       "      <th>Group</th>\n",
       "    </tr>\n",
       "  </thead>\n",
       "  <tbody>\n",
       "    <tr>\n",
       "      <th>0</th>\n",
       "      <td>45696</td>\n",
       "      <td>Reynolds</td>\n",
       "      <td>Mitzi</td>\n",
       "      <td>Reynolds</td>\n",
       "      <td>NaN</td>\n",
       "      <td>NaN</td>\n",
       "      <td>NaN</td>\n",
       "      <td>NaN</td>\n",
       "      <td>NaN</td>\n",
       "      <td>NaN</td>\n",
       "      <td>Women</td>\n",
       "    </tr>\n",
       "    <tr>\n",
       "      <th>1</th>\n",
       "      <td>49081</td>\n",
       "      <td>Hogan</td>\n",
       "      <td>Constance</td>\n",
       "      <td>Ann</td>\n",
       "      <td>NaN</td>\n",
       "      <td>8.506871e+09</td>\n",
       "      <td>7.278272e+09</td>\n",
       "      <td>8.506871e+09</td>\n",
       "      <td>NaN</td>\n",
       "      <td>NaN</td>\n",
       "      <td>Women</td>\n",
       "    </tr>\n",
       "    <tr>\n",
       "      <th>2</th>\n",
       "      <td>50047</td>\n",
       "      <td>Gall</td>\n",
       "      <td>Holly</td>\n",
       "      <td>Kay</td>\n",
       "      <td>NaN</td>\n",
       "      <td>NaN</td>\n",
       "      <td>NaN</td>\n",
       "      <td>NaN</td>\n",
       "      <td>NaN</td>\n",
       "      <td>NaN</td>\n",
       "      <td>Women</td>\n",
       "    </tr>\n",
       "  </tbody>\n",
       "</table>\n",
       "</div>"
      ],
      "text/plain": [
       "   Voter File VANID  LastName  FirstName MiddleName Suffix    Cell Phone  \\\n",
       "0             45696  Reynolds      Mitzi   Reynolds    NaN           NaN   \n",
       "1             49081     Hogan  Constance        Ann    NaN  8.506871e+09   \n",
       "2             50047      Gall      Holly        Kay    NaN           NaN   \n",
       "\n",
       "     Home Phone  Preferred Phone  WorkPhone   WorkPhoneExt   Group  \n",
       "0           NaN              NaN        NaN             NaN  Women  \n",
       "1  7.278272e+09     8.506871e+09        NaN             NaN  Women  \n",
       "2           NaN              NaN        NaN             NaN  Women  "
      ]
     },
     "execution_count": 3,
     "metadata": {},
     "output_type": "execute_result"
    }
   ],
   "source": [
    "df.head(3)"
   ]
  },
  {
   "cell_type": "code",
   "execution_count": 4,
   "metadata": {},
   "outputs": [
    {
     "data": {
      "text/plain": [
       "(21911, 11)"
      ]
     },
     "execution_count": 4,
     "metadata": {},
     "output_type": "execute_result"
    }
   ],
   "source": [
    "df.shape"
   ]
  },
  {
   "cell_type": "code",
   "execution_count": 5,
   "metadata": {},
   "outputs": [
    {
     "data": {
      "text/plain": [
       "Voter File VANID        0\n",
       "LastName                0\n",
       "FirstName               0\n",
       "MiddleName           1422\n",
       "Suffix              21866\n",
       "Cell Phone           8858\n",
       "Home Phone           9398\n",
       "Preferred Phone      3753\n",
       "WorkPhone           21820\n",
       " WorkPhoneExt       21911\n",
       "Group                   0\n",
       "dtype: int64"
      ]
     },
     "execution_count": 5,
     "metadata": {},
     "output_type": "execute_result"
    }
   ],
   "source": [
    "df.isnull().sum()"
   ]
  },
  {
   "cell_type": "code",
   "execution_count": 6,
   "metadata": {},
   "outputs": [],
   "source": [
    "# Drop duplicate VAN IDs and reindexing df\n",
    "df.drop_duplicates('Voter File VANID', keep='last', inplace=True)\n",
    "\n",
    "df.reset_index(drop=True, inplace=True)"
   ]
  },
  {
   "cell_type": "code",
   "execution_count": 7,
   "metadata": {},
   "outputs": [
    {
     "data": {
      "text/plain": [
       "(21185, 11)"
      ]
     },
     "execution_count": 7,
     "metadata": {},
     "output_type": "execute_result"
    }
   ],
   "source": [
    "df.shape"
   ]
  },
  {
   "cell_type": "code",
   "execution_count": 8,
   "metadata": {},
   "outputs": [],
   "source": [
    "# Formatting phone numbers correctly, currently displayed in scientific notation\n",
    "df['Preferred Phone'] = df['Preferred Phone'].fillna(0).apply(lambda x: '%d' % x).astype(int)\n",
    "\n",
    "df['Cell Phone'] = df['Cell Phone'].fillna(0).apply(lambda x: '%d' % x).astype(int)\n",
    "\n",
    "df['Home Phone'] = df['Home Phone'].fillna(0).apply(lambda x: '%d' % x).astype(int)\n",
    "\n",
    "df['WorkPhone'] = df['WorkPhone'].fillna(0).apply(lambda x: '%d' % x).astype(int)"
   ]
  },
  {
   "cell_type": "code",
   "execution_count": 9,
   "metadata": {},
   "outputs": [
    {
     "data": {
      "text/html": [
       "<div>\n",
       "<style scoped>\n",
       "    .dataframe tbody tr th:only-of-type {\n",
       "        vertical-align: middle;\n",
       "    }\n",
       "\n",
       "    .dataframe tbody tr th {\n",
       "        vertical-align: top;\n",
       "    }\n",
       "\n",
       "    .dataframe thead th {\n",
       "        text-align: right;\n",
       "    }\n",
       "</style>\n",
       "<table border=\"1\" class=\"dataframe\">\n",
       "  <thead>\n",
       "    <tr style=\"text-align: right;\">\n",
       "      <th></th>\n",
       "      <th>Voter File VANID</th>\n",
       "      <th>LastName</th>\n",
       "      <th>FirstName</th>\n",
       "      <th>MiddleName</th>\n",
       "      <th>Suffix</th>\n",
       "      <th>Cell Phone</th>\n",
       "      <th>Home Phone</th>\n",
       "      <th>Preferred Phone</th>\n",
       "      <th>WorkPhone</th>\n",
       "      <th>WorkPhoneExt</th>\n",
       "      <th>Group</th>\n",
       "    </tr>\n",
       "  </thead>\n",
       "  <tbody>\n",
       "    <tr>\n",
       "      <th>0</th>\n",
       "      <td>45696</td>\n",
       "      <td>Reynolds</td>\n",
       "      <td>Mitzi</td>\n",
       "      <td>Reynolds</td>\n",
       "      <td>NaN</td>\n",
       "      <td>0</td>\n",
       "      <td>0</td>\n",
       "      <td>0</td>\n",
       "      <td>0</td>\n",
       "      <td>NaN</td>\n",
       "      <td>Women</td>\n",
       "    </tr>\n",
       "    <tr>\n",
       "      <th>1</th>\n",
       "      <td>49081</td>\n",
       "      <td>Hogan</td>\n",
       "      <td>Constance</td>\n",
       "      <td>Ann</td>\n",
       "      <td>NaN</td>\n",
       "      <td>8506870943</td>\n",
       "      <td>7278272227</td>\n",
       "      <td>8506870943</td>\n",
       "      <td>0</td>\n",
       "      <td>NaN</td>\n",
       "      <td>Women</td>\n",
       "    </tr>\n",
       "    <tr>\n",
       "      <th>2</th>\n",
       "      <td>50047</td>\n",
       "      <td>Gall</td>\n",
       "      <td>Holly</td>\n",
       "      <td>Kay</td>\n",
       "      <td>NaN</td>\n",
       "      <td>0</td>\n",
       "      <td>0</td>\n",
       "      <td>0</td>\n",
       "      <td>0</td>\n",
       "      <td>NaN</td>\n",
       "      <td>Women</td>\n",
       "    </tr>\n",
       "    <tr>\n",
       "      <th>3</th>\n",
       "      <td>64579</td>\n",
       "      <td>Dogu</td>\n",
       "      <td>Amanda</td>\n",
       "      <td>Marie</td>\n",
       "      <td>NaN</td>\n",
       "      <td>0</td>\n",
       "      <td>0</td>\n",
       "      <td>0</td>\n",
       "      <td>0</td>\n",
       "      <td>NaN</td>\n",
       "      <td>Women</td>\n",
       "    </tr>\n",
       "    <tr>\n",
       "      <th>4</th>\n",
       "      <td>68775</td>\n",
       "      <td>Loper</td>\n",
       "      <td>Mary</td>\n",
       "      <td>Joan</td>\n",
       "      <td>NaN</td>\n",
       "      <td>0</td>\n",
       "      <td>7272894102</td>\n",
       "      <td>7272894102</td>\n",
       "      <td>0</td>\n",
       "      <td>NaN</td>\n",
       "      <td>Women</td>\n",
       "    </tr>\n",
       "  </tbody>\n",
       "</table>\n",
       "</div>"
      ],
      "text/plain": [
       "   Voter File VANID  LastName  FirstName MiddleName Suffix  Cell Phone  \\\n",
       "0             45696  Reynolds      Mitzi   Reynolds    NaN           0   \n",
       "1             49081     Hogan  Constance        Ann    NaN  8506870943   \n",
       "2             50047      Gall      Holly        Kay    NaN           0   \n",
       "3             64579      Dogu     Amanda      Marie    NaN           0   \n",
       "4             68775     Loper       Mary       Joan    NaN           0   \n",
       "\n",
       "   Home Phone  Preferred Phone  WorkPhone   WorkPhoneExt   Group  \n",
       "0           0                0          0             NaN  Women  \n",
       "1  7278272227       8506870943          0             NaN  Women  \n",
       "2           0                0          0             NaN  Women  \n",
       "3           0                0          0             NaN  Women  \n",
       "4  7272894102       7272894102          0             NaN  Women  "
      ]
     },
     "execution_count": 9,
     "metadata": {},
     "output_type": "execute_result"
    }
   ],
   "source": [
    "df.head()"
   ]
  },
  {
   "cell_type": "code",
   "execution_count": 10,
   "metadata": {},
   "outputs": [],
   "source": [
    "# Columns to format\n",
    "p_cols = ['Cell Phone', 'Home Phone', 'Preferred Phone', 'WorkPhone']\n",
    "\n",
    "# Casting all phones as strings\n",
    "df[p_cols] = df[p_cols].astype(str)\n",
    "\n",
    "# Replacing 0s with blanks to match original format\n",
    "df[p_cols] = df[p_cols].replace('0', '')"
   ]
  },
  {
   "cell_type": "code",
   "execution_count": 11,
   "metadata": {},
   "outputs": [
    {
     "data": {
      "text/html": [
       "<div>\n",
       "<style scoped>\n",
       "    .dataframe tbody tr th:only-of-type {\n",
       "        vertical-align: middle;\n",
       "    }\n",
       "\n",
       "    .dataframe tbody tr th {\n",
       "        vertical-align: top;\n",
       "    }\n",
       "\n",
       "    .dataframe thead th {\n",
       "        text-align: right;\n",
       "    }\n",
       "</style>\n",
       "<table border=\"1\" class=\"dataframe\">\n",
       "  <thead>\n",
       "    <tr style=\"text-align: right;\">\n",
       "      <th></th>\n",
       "      <th>Voter File VANID</th>\n",
       "      <th>LastName</th>\n",
       "      <th>FirstName</th>\n",
       "      <th>MiddleName</th>\n",
       "      <th>Suffix</th>\n",
       "      <th>Cell Phone</th>\n",
       "      <th>Home Phone</th>\n",
       "      <th>Preferred Phone</th>\n",
       "      <th>WorkPhone</th>\n",
       "      <th>WorkPhoneExt</th>\n",
       "      <th>Group</th>\n",
       "    </tr>\n",
       "  </thead>\n",
       "  <tbody>\n",
       "    <tr>\n",
       "      <th>0</th>\n",
       "      <td>45696</td>\n",
       "      <td>Reynolds</td>\n",
       "      <td>Mitzi</td>\n",
       "      <td>Reynolds</td>\n",
       "      <td>NaN</td>\n",
       "      <td></td>\n",
       "      <td></td>\n",
       "      <td></td>\n",
       "      <td></td>\n",
       "      <td>NaN</td>\n",
       "      <td>Women</td>\n",
       "    </tr>\n",
       "    <tr>\n",
       "      <th>1</th>\n",
       "      <td>49081</td>\n",
       "      <td>Hogan</td>\n",
       "      <td>Constance</td>\n",
       "      <td>Ann</td>\n",
       "      <td>NaN</td>\n",
       "      <td>8506870943</td>\n",
       "      <td>7278272227</td>\n",
       "      <td>8506870943</td>\n",
       "      <td></td>\n",
       "      <td>NaN</td>\n",
       "      <td>Women</td>\n",
       "    </tr>\n",
       "    <tr>\n",
       "      <th>2</th>\n",
       "      <td>50047</td>\n",
       "      <td>Gall</td>\n",
       "      <td>Holly</td>\n",
       "      <td>Kay</td>\n",
       "      <td>NaN</td>\n",
       "      <td></td>\n",
       "      <td></td>\n",
       "      <td></td>\n",
       "      <td></td>\n",
       "      <td>NaN</td>\n",
       "      <td>Women</td>\n",
       "    </tr>\n",
       "    <tr>\n",
       "      <th>3</th>\n",
       "      <td>64579</td>\n",
       "      <td>Dogu</td>\n",
       "      <td>Amanda</td>\n",
       "      <td>Marie</td>\n",
       "      <td>NaN</td>\n",
       "      <td></td>\n",
       "      <td></td>\n",
       "      <td></td>\n",
       "      <td></td>\n",
       "      <td>NaN</td>\n",
       "      <td>Women</td>\n",
       "    </tr>\n",
       "    <tr>\n",
       "      <th>4</th>\n",
       "      <td>68775</td>\n",
       "      <td>Loper</td>\n",
       "      <td>Mary</td>\n",
       "      <td>Joan</td>\n",
       "      <td>NaN</td>\n",
       "      <td></td>\n",
       "      <td>7272894102</td>\n",
       "      <td>7272894102</td>\n",
       "      <td></td>\n",
       "      <td>NaN</td>\n",
       "      <td>Women</td>\n",
       "    </tr>\n",
       "  </tbody>\n",
       "</table>\n",
       "</div>"
      ],
      "text/plain": [
       "   Voter File VANID  LastName  FirstName MiddleName Suffix  Cell Phone  \\\n",
       "0             45696  Reynolds      Mitzi   Reynolds    NaN               \n",
       "1             49081     Hogan  Constance        Ann    NaN  8506870943   \n",
       "2             50047      Gall      Holly        Kay    NaN               \n",
       "3             64579      Dogu     Amanda      Marie    NaN               \n",
       "4             68775     Loper       Mary       Joan    NaN               \n",
       "\n",
       "   Home Phone Preferred Phone WorkPhone   WorkPhoneExt   Group  \n",
       "0                                                   NaN  Women  \n",
       "1  7278272227      8506870943                       NaN  Women  \n",
       "2                                                   NaN  Women  \n",
       "3                                                   NaN  Women  \n",
       "4  7272894102      7272894102                       NaN  Women  "
      ]
     },
     "execution_count": 11,
     "metadata": {},
     "output_type": "execute_result"
    }
   ],
   "source": [
    "df.head()"
   ]
  },
  {
   "cell_type": "code",
   "execution_count": 12,
   "metadata": {},
   "outputs": [
    {
     "data": {
      "text/plain": [
       "              3680\n",
       "7278040730       3\n",
       "7273476151       3\n",
       "7278642237       3\n",
       "7277683653       3\n",
       "              ... \n",
       "7275760380       1\n",
       "7277415489       1\n",
       "7275043839       1\n",
       "7276438503       1\n",
       "8135800565       1\n",
       "Name: Preferred Phone, Length: 17304, dtype: int64"
      ]
     },
     "execution_count": 12,
     "metadata": {},
     "output_type": "execute_result"
    }
   ],
   "source": [
    "df['Preferred Phone'].value_counts()"
   ]
  },
  {
   "cell_type": "code",
   "execution_count": 13,
   "metadata": {},
   "outputs": [],
   "source": [
    "# Remove nulls from df to make dropping true duplicates easier\n",
    "non_nulls_df = df[(df['Preferred Phone'] != '') & ((df['Cell Phone'] != '') | (df['Home Phone'] != '') | (df['WorkPhone'] != ''))]"
   ]
  },
  {
   "cell_type": "code",
   "execution_count": 14,
   "metadata": {},
   "outputs": [
    {
     "data": {
      "text/plain": [
       "7278642237    3\n",
       "7274245791    3\n",
       "7277683653    3\n",
       "7273476151    3\n",
       "7278040730    3\n",
       "             ..\n",
       "7275760380    1\n",
       "7277415489    1\n",
       "7275043839    1\n",
       "7273453326    1\n",
       "7273248701    1\n",
       "Name: Preferred Phone, Length: 17303, dtype: int64"
      ]
     },
     "execution_count": 14,
     "metadata": {},
     "output_type": "execute_result"
    }
   ],
   "source": [
    "non_nulls_df['Preferred Phone'].value_counts()"
   ]
  },
  {
   "cell_type": "code",
   "execution_count": 15,
   "metadata": {},
   "outputs": [
    {
     "data": {
      "text/html": [
       "<div>\n",
       "<style scoped>\n",
       "    .dataframe tbody tr th:only-of-type {\n",
       "        vertical-align: middle;\n",
       "    }\n",
       "\n",
       "    .dataframe tbody tr th {\n",
       "        vertical-align: top;\n",
       "    }\n",
       "\n",
       "    .dataframe thead th {\n",
       "        text-align: right;\n",
       "    }\n",
       "</style>\n",
       "<table border=\"1\" class=\"dataframe\">\n",
       "  <thead>\n",
       "    <tr style=\"text-align: right;\">\n",
       "      <th></th>\n",
       "      <th>Voter File VANID</th>\n",
       "      <th>LastName</th>\n",
       "      <th>FirstName</th>\n",
       "      <th>MiddleName</th>\n",
       "      <th>Suffix</th>\n",
       "      <th>Cell Phone</th>\n",
       "      <th>Home Phone</th>\n",
       "      <th>Preferred Phone</th>\n",
       "      <th>WorkPhone</th>\n",
       "      <th>WorkPhoneExt</th>\n",
       "      <th>Group</th>\n",
       "    </tr>\n",
       "  </thead>\n",
       "  <tbody>\n",
       "    <tr>\n",
       "      <th>11199</th>\n",
       "      <td>12237291</td>\n",
       "      <td>Waters</td>\n",
       "      <td>Keion</td>\n",
       "      <td>Antell</td>\n",
       "      <td>NaN</td>\n",
       "      <td></td>\n",
       "      <td>7274245791</td>\n",
       "      <td>7274245791</td>\n",
       "      <td></td>\n",
       "      <td>NaN</td>\n",
       "      <td>Supporter</td>\n",
       "    </tr>\n",
       "    <tr>\n",
       "      <th>12489</th>\n",
       "      <td>20900596</td>\n",
       "      <td>Miller</td>\n",
       "      <td>Karon</td>\n",
       "      <td>NaN</td>\n",
       "      <td>NaN</td>\n",
       "      <td>7274245791</td>\n",
       "      <td></td>\n",
       "      <td>7274245791</td>\n",
       "      <td></td>\n",
       "      <td>NaN</td>\n",
       "      <td>Supporter</td>\n",
       "    </tr>\n",
       "    <tr>\n",
       "      <th>12646</th>\n",
       "      <td>21201898</td>\n",
       "      <td>Tomlinson</td>\n",
       "      <td>Jeffery</td>\n",
       "      <td>J</td>\n",
       "      <td>NaN</td>\n",
       "      <td>7274245791</td>\n",
       "      <td></td>\n",
       "      <td>7274245791</td>\n",
       "      <td></td>\n",
       "      <td>NaN</td>\n",
       "      <td>Supporter</td>\n",
       "    </tr>\n",
       "  </tbody>\n",
       "</table>\n",
       "</div>"
      ],
      "text/plain": [
       "       Voter File VANID   LastName FirstName MiddleName Suffix  Cell Phone  \\\n",
       "11199          12237291     Waters     Keion     Antell    NaN               \n",
       "12489          20900596     Miller     Karon        NaN    NaN  7274245791   \n",
       "12646          21201898  Tomlinson   Jeffery          J    NaN  7274245791   \n",
       "\n",
       "       Home Phone Preferred Phone WorkPhone   WorkPhoneExt       Group  \n",
       "11199  7274245791      7274245791                       NaN  Supporter  \n",
       "12489                  7274245791                       NaN  Supporter  \n",
       "12646                  7274245791                       NaN  Supporter  "
      ]
     },
     "execution_count": 15,
     "metadata": {},
     "output_type": "execute_result"
    }
   ],
   "source": [
    "non_nulls_df[non_nulls_df['Preferred Phone'] == '7274245791']"
   ]
  },
  {
   "cell_type": "code",
   "execution_count": 16,
   "metadata": {},
   "outputs": [
    {
     "data": {
      "text/html": [
       "<div>\n",
       "<style scoped>\n",
       "    .dataframe tbody tr th:only-of-type {\n",
       "        vertical-align: middle;\n",
       "    }\n",
       "\n",
       "    .dataframe tbody tr th {\n",
       "        vertical-align: top;\n",
       "    }\n",
       "\n",
       "    .dataframe thead th {\n",
       "        text-align: right;\n",
       "    }\n",
       "</style>\n",
       "<table border=\"1\" class=\"dataframe\">\n",
       "  <thead>\n",
       "    <tr style=\"text-align: right;\">\n",
       "      <th></th>\n",
       "      <th>Voter File VANID</th>\n",
       "      <th>LastName</th>\n",
       "      <th>FirstName</th>\n",
       "      <th>MiddleName</th>\n",
       "      <th>Suffix</th>\n",
       "      <th>Cell Phone</th>\n",
       "      <th>Home Phone</th>\n",
       "      <th>Preferred Phone</th>\n",
       "      <th>WorkPhone</th>\n",
       "      <th>WorkPhoneExt</th>\n",
       "      <th>Group</th>\n",
       "    </tr>\n",
       "  </thead>\n",
       "  <tbody>\n",
       "    <tr>\n",
       "      <th>436</th>\n",
       "      <td>1814573</td>\n",
       "      <td>Poirier</td>\n",
       "      <td>Joan</td>\n",
       "      <td>Ann</td>\n",
       "      <td>NaN</td>\n",
       "      <td>7277683653</td>\n",
       "      <td></td>\n",
       "      <td>7277683653</td>\n",
       "      <td></td>\n",
       "      <td>NaN</td>\n",
       "      <td>Women</td>\n",
       "    </tr>\n",
       "    <tr>\n",
       "      <th>2030</th>\n",
       "      <td>1921681</td>\n",
       "      <td>Poirier</td>\n",
       "      <td>Susan</td>\n",
       "      <td>Ann</td>\n",
       "      <td>NaN</td>\n",
       "      <td>7277683653</td>\n",
       "      <td></td>\n",
       "      <td>7277683653</td>\n",
       "      <td></td>\n",
       "      <td>NaN</td>\n",
       "      <td>Women</td>\n",
       "    </tr>\n",
       "    <tr>\n",
       "      <th>17826</th>\n",
       "      <td>37075796</td>\n",
       "      <td>Poirier</td>\n",
       "      <td>Jennifer</td>\n",
       "      <td>Elizabeth</td>\n",
       "      <td>NaN</td>\n",
       "      <td>7277683653</td>\n",
       "      <td></td>\n",
       "      <td>7277683653</td>\n",
       "      <td></td>\n",
       "      <td>NaN</td>\n",
       "      <td>Women</td>\n",
       "    </tr>\n",
       "  </tbody>\n",
       "</table>\n",
       "</div>"
      ],
      "text/plain": [
       "       Voter File VANID LastName FirstName MiddleName Suffix  Cell Phone  \\\n",
       "436             1814573  Poirier      Joan        Ann    NaN  7277683653   \n",
       "2030            1921681  Poirier     Susan        Ann    NaN  7277683653   \n",
       "17826          37075796  Poirier  Jennifer  Elizabeth    NaN  7277683653   \n",
       "\n",
       "      Home Phone Preferred Phone WorkPhone   WorkPhoneExt   Group  \n",
       "436                   7277683653                       NaN  Women  \n",
       "2030                  7277683653                       NaN  Women  \n",
       "17826                 7277683653                       NaN  Women  "
      ]
     },
     "execution_count": 16,
     "metadata": {},
     "output_type": "execute_result"
    }
   ],
   "source": [
    "non_nulls_df[non_nulls_df['Preferred Phone'] == '7277683653']"
   ]
  },
  {
   "cell_type": "code",
   "execution_count": 17,
   "metadata": {},
   "outputs": [
    {
     "data": {
      "text/html": [
       "<div>\n",
       "<style scoped>\n",
       "    .dataframe tbody tr th:only-of-type {\n",
       "        vertical-align: middle;\n",
       "    }\n",
       "\n",
       "    .dataframe tbody tr th {\n",
       "        vertical-align: top;\n",
       "    }\n",
       "\n",
       "    .dataframe thead th {\n",
       "        text-align: right;\n",
       "    }\n",
       "</style>\n",
       "<table border=\"1\" class=\"dataframe\">\n",
       "  <thead>\n",
       "    <tr style=\"text-align: right;\">\n",
       "      <th></th>\n",
       "      <th>Voter File VANID</th>\n",
       "      <th>LastName</th>\n",
       "      <th>FirstName</th>\n",
       "      <th>MiddleName</th>\n",
       "      <th>Suffix</th>\n",
       "      <th>Cell Phone</th>\n",
       "      <th>Home Phone</th>\n",
       "      <th>Preferred Phone</th>\n",
       "      <th>WorkPhone</th>\n",
       "      <th>WorkPhoneExt</th>\n",
       "      <th>Group</th>\n",
       "    </tr>\n",
       "  </thead>\n",
       "  <tbody>\n",
       "    <tr>\n",
       "      <th>5249</th>\n",
       "      <td>2138199</td>\n",
       "      <td>Updegraff</td>\n",
       "      <td>Elizabeth</td>\n",
       "      <td>Douglas</td>\n",
       "      <td>NaN</td>\n",
       "      <td>7276470338</td>\n",
       "      <td>7278223937</td>\n",
       "      <td>7276470338</td>\n",
       "      <td></td>\n",
       "      <td>NaN</td>\n",
       "      <td>Women</td>\n",
       "    </tr>\n",
       "    <tr>\n",
       "      <th>14548</th>\n",
       "      <td>24885789</td>\n",
       "      <td>Updegraff</td>\n",
       "      <td>Hannah</td>\n",
       "      <td>Katherine</td>\n",
       "      <td>NaN</td>\n",
       "      <td>7276470338</td>\n",
       "      <td></td>\n",
       "      <td>7276470338</td>\n",
       "      <td></td>\n",
       "      <td>NaN</td>\n",
       "      <td>Women</td>\n",
       "    </tr>\n",
       "    <tr>\n",
       "      <th>17858</th>\n",
       "      <td>37111103</td>\n",
       "      <td>Updegraff</td>\n",
       "      <td>Julia</td>\n",
       "      <td>Marie</td>\n",
       "      <td>NaN</td>\n",
       "      <td>7276470338</td>\n",
       "      <td>7278223937</td>\n",
       "      <td>7276470338</td>\n",
       "      <td></td>\n",
       "      <td>NaN</td>\n",
       "      <td>Women</td>\n",
       "    </tr>\n",
       "  </tbody>\n",
       "</table>\n",
       "</div>"
      ],
      "text/plain": [
       "       Voter File VANID   LastName  FirstName MiddleName Suffix  Cell Phone  \\\n",
       "5249            2138199  Updegraff  Elizabeth    Douglas    NaN  7276470338   \n",
       "14548          24885789  Updegraff     Hannah  Katherine    NaN  7276470338   \n",
       "17858          37111103  Updegraff      Julia      Marie    NaN  7276470338   \n",
       "\n",
       "       Home Phone Preferred Phone WorkPhone   WorkPhoneExt   Group  \n",
       "5249   7278223937      7276470338                       NaN  Women  \n",
       "14548                  7276470338                       NaN  Women  \n",
       "17858  7278223937      7276470338                       NaN  Women  "
      ]
     },
     "execution_count": 17,
     "metadata": {},
     "output_type": "execute_result"
    }
   ],
   "source": [
    "non_nulls_df[non_nulls_df['Preferred Phone'] == '7276470338']"
   ]
  },
  {
   "cell_type": "code",
   "execution_count": 18,
   "metadata": {},
   "outputs": [],
   "source": [
    "non_nulls_df = non_nulls_df.drop_duplicates('Preferred Phone', keep='last')"
   ]
  },
  {
   "cell_type": "code",
   "execution_count": 19,
   "metadata": {},
   "outputs": [
    {
     "data": {
      "text/plain": [
       "8133945339    1\n",
       "7277438344    1\n",
       "7276567951    1\n",
       "7272386694    1\n",
       "7277445348    1\n",
       "             ..\n",
       "5088641433    1\n",
       "9013556364    1\n",
       "7275198219    1\n",
       "7274329786    1\n",
       "7273248701    1\n",
       "Name: Preferred Phone, Length: 17303, dtype: int64"
      ]
     },
     "execution_count": 19,
     "metadata": {},
     "output_type": "execute_result"
    }
   ],
   "source": [
    "non_nulls_df['Preferred Phone'].value_counts()"
   ]
  },
  {
   "cell_type": "code",
   "execution_count": 20,
   "metadata": {},
   "outputs": [
    {
     "data": {
      "text/plain": [
       "Women        16215\n",
       "Supporter     1088\n",
       "Name: Group, dtype: int64"
      ]
     },
     "execution_count": 20,
     "metadata": {},
     "output_type": "execute_result"
    }
   ],
   "source": [
    "non_nulls_df['Group'].value_counts()"
   ]
  },
  {
   "cell_type": "code",
   "execution_count": 21,
   "metadata": {},
   "outputs": [],
   "source": [
    "non_nulls_df.reset_index(drop=True, inplace=True)"
   ]
  },
  {
   "cell_type": "markdown",
   "metadata": {},
   "source": [
    "---\n",
    "---"
   ]
  },
  {
   "cell_type": "code",
   "execution_count": 22,
   "metadata": {},
   "outputs": [],
   "source": [
    "non_nulls_df.to_csv('../data/processed_call_sheets/only_listed_numbers.csv')"
   ]
  },
  {
   "cell_type": "markdown",
   "metadata": {},
   "source": [
    "---\n",
    "---"
   ]
  },
  {
   "cell_type": "markdown",
   "metadata": {},
   "source": [
    "#### No Phone Listed"
   ]
  },
  {
   "cell_type": "code",
   "execution_count": 23,
   "metadata": {},
   "outputs": [],
   "source": [
    "# Entries with no phone listed\n",
    "no_phone_df = df[(df['Preferred Phone'] == '') & (df['Home Phone'] == '') & (df['Cell Phone'] == '') & (df['WorkPhone'] == '')]\n",
    "\n",
    "no_phone_df.reset_index(drop=True, inplace=True)"
   ]
  },
  {
   "cell_type": "code",
   "execution_count": 24,
   "metadata": {},
   "outputs": [
    {
     "data": {
      "text/html": [
       "<div>\n",
       "<style scoped>\n",
       "    .dataframe tbody tr th:only-of-type {\n",
       "        vertical-align: middle;\n",
       "    }\n",
       "\n",
       "    .dataframe tbody tr th {\n",
       "        vertical-align: top;\n",
       "    }\n",
       "\n",
       "    .dataframe thead th {\n",
       "        text-align: right;\n",
       "    }\n",
       "</style>\n",
       "<table border=\"1\" class=\"dataframe\">\n",
       "  <thead>\n",
       "    <tr style=\"text-align: right;\">\n",
       "      <th></th>\n",
       "      <th>Voter File VANID</th>\n",
       "      <th>LastName</th>\n",
       "      <th>FirstName</th>\n",
       "      <th>MiddleName</th>\n",
       "      <th>Suffix</th>\n",
       "      <th>Cell Phone</th>\n",
       "      <th>Home Phone</th>\n",
       "      <th>Preferred Phone</th>\n",
       "      <th>WorkPhone</th>\n",
       "      <th>WorkPhoneExt</th>\n",
       "      <th>Group</th>\n",
       "    </tr>\n",
       "  </thead>\n",
       "  <tbody>\n",
       "    <tr>\n",
       "      <th>0</th>\n",
       "      <td>45696</td>\n",
       "      <td>Reynolds</td>\n",
       "      <td>Mitzi</td>\n",
       "      <td>Reynolds</td>\n",
       "      <td>NaN</td>\n",
       "      <td></td>\n",
       "      <td></td>\n",
       "      <td></td>\n",
       "      <td></td>\n",
       "      <td>NaN</td>\n",
       "      <td>Women</td>\n",
       "    </tr>\n",
       "    <tr>\n",
       "      <th>1</th>\n",
       "      <td>50047</td>\n",
       "      <td>Gall</td>\n",
       "      <td>Holly</td>\n",
       "      <td>Kay</td>\n",
       "      <td>NaN</td>\n",
       "      <td></td>\n",
       "      <td></td>\n",
       "      <td></td>\n",
       "      <td></td>\n",
       "      <td>NaN</td>\n",
       "      <td>Women</td>\n",
       "    </tr>\n",
       "    <tr>\n",
       "      <th>2</th>\n",
       "      <td>64579</td>\n",
       "      <td>Dogu</td>\n",
       "      <td>Amanda</td>\n",
       "      <td>Marie</td>\n",
       "      <td>NaN</td>\n",
       "      <td></td>\n",
       "      <td></td>\n",
       "      <td></td>\n",
       "      <td></td>\n",
       "      <td>NaN</td>\n",
       "      <td>Women</td>\n",
       "    </tr>\n",
       "    <tr>\n",
       "      <th>3</th>\n",
       "      <td>212507</td>\n",
       "      <td>Black</td>\n",
       "      <td>Allison</td>\n",
       "      <td>NaN</td>\n",
       "      <td>NaN</td>\n",
       "      <td></td>\n",
       "      <td></td>\n",
       "      <td></td>\n",
       "      <td></td>\n",
       "      <td>NaN</td>\n",
       "      <td>Women</td>\n",
       "    </tr>\n",
       "    <tr>\n",
       "      <th>4</th>\n",
       "      <td>254871</td>\n",
       "      <td>Bispo</td>\n",
       "      <td>Elena</td>\n",
       "      <td>Marie</td>\n",
       "      <td>NaN</td>\n",
       "      <td></td>\n",
       "      <td></td>\n",
       "      <td></td>\n",
       "      <td></td>\n",
       "      <td>NaN</td>\n",
       "      <td>Women</td>\n",
       "    </tr>\n",
       "    <tr>\n",
       "      <th>...</th>\n",
       "      <td>...</td>\n",
       "      <td>...</td>\n",
       "      <td>...</td>\n",
       "      <td>...</td>\n",
       "      <td>...</td>\n",
       "      <td>...</td>\n",
       "      <td>...</td>\n",
       "      <td>...</td>\n",
       "      <td>...</td>\n",
       "      <td>...</td>\n",
       "      <td>...</td>\n",
       "    </tr>\n",
       "    <tr>\n",
       "      <th>3653</th>\n",
       "      <td>40429037</td>\n",
       "      <td>Pepe</td>\n",
       "      <td>Anne Marie</td>\n",
       "      <td>NaN</td>\n",
       "      <td>NaN</td>\n",
       "      <td></td>\n",
       "      <td></td>\n",
       "      <td></td>\n",
       "      <td></td>\n",
       "      <td>NaN</td>\n",
       "      <td>Women</td>\n",
       "    </tr>\n",
       "    <tr>\n",
       "      <th>3654</th>\n",
       "      <td>40436630</td>\n",
       "      <td>Rykaczewski</td>\n",
       "      <td>Carole</td>\n",
       "      <td>A</td>\n",
       "      <td>NaN</td>\n",
       "      <td></td>\n",
       "      <td></td>\n",
       "      <td></td>\n",
       "      <td></td>\n",
       "      <td>NaN</td>\n",
       "      <td>Women</td>\n",
       "    </tr>\n",
       "    <tr>\n",
       "      <th>3655</th>\n",
       "      <td>40520034</td>\n",
       "      <td>Supertino</td>\n",
       "      <td>Michelle</td>\n",
       "      <td>Nicole</td>\n",
       "      <td>NaN</td>\n",
       "      <td></td>\n",
       "      <td></td>\n",
       "      <td></td>\n",
       "      <td></td>\n",
       "      <td>NaN</td>\n",
       "      <td>Women</td>\n",
       "    </tr>\n",
       "    <tr>\n",
       "      <th>3656</th>\n",
       "      <td>40520131</td>\n",
       "      <td>Crooks</td>\n",
       "      <td>Louise</td>\n",
       "      <td>Grubbs</td>\n",
       "      <td>NaN</td>\n",
       "      <td></td>\n",
       "      <td></td>\n",
       "      <td></td>\n",
       "      <td></td>\n",
       "      <td>NaN</td>\n",
       "      <td>Women</td>\n",
       "    </tr>\n",
       "    <tr>\n",
       "      <th>3657</th>\n",
       "      <td>44517479</td>\n",
       "      <td>Shapiro</td>\n",
       "      <td>Aldona</td>\n",
       "      <td>NaN</td>\n",
       "      <td>NaN</td>\n",
       "      <td></td>\n",
       "      <td></td>\n",
       "      <td></td>\n",
       "      <td></td>\n",
       "      <td>NaN</td>\n",
       "      <td>Women</td>\n",
       "    </tr>\n",
       "  </tbody>\n",
       "</table>\n",
       "<p>3658 rows × 11 columns</p>\n",
       "</div>"
      ],
      "text/plain": [
       "      Voter File VANID     LastName   FirstName MiddleName Suffix Cell Phone  \\\n",
       "0                45696     Reynolds       Mitzi   Reynolds    NaN              \n",
       "1                50047         Gall       Holly        Kay    NaN              \n",
       "2                64579         Dogu      Amanda      Marie    NaN              \n",
       "3               212507        Black     Allison        NaN    NaN              \n",
       "4               254871        Bispo       Elena      Marie    NaN              \n",
       "...                ...          ...         ...        ...    ...        ...   \n",
       "3653          40429037         Pepe  Anne Marie        NaN    NaN              \n",
       "3654          40436630  Rykaczewski      Carole          A    NaN              \n",
       "3655          40520034    Supertino    Michelle     Nicole    NaN              \n",
       "3656          40520131       Crooks      Louise     Grubbs    NaN              \n",
       "3657          44517479      Shapiro      Aldona        NaN    NaN              \n",
       "\n",
       "     Home Phone Preferred Phone WorkPhone   WorkPhoneExt   Group  \n",
       "0                                                     NaN  Women  \n",
       "1                                                     NaN  Women  \n",
       "2                                                     NaN  Women  \n",
       "3                                                     NaN  Women  \n",
       "4                                                     NaN  Women  \n",
       "...         ...             ...       ...             ...    ...  \n",
       "3653                                                  NaN  Women  \n",
       "3654                                                  NaN  Women  \n",
       "3655                                                  NaN  Women  \n",
       "3656                                                  NaN  Women  \n",
       "3657                                                  NaN  Women  \n",
       "\n",
       "[3658 rows x 11 columns]"
      ]
     },
     "execution_count": 24,
     "metadata": {},
     "output_type": "execute_result"
    }
   ],
   "source": [
    "no_phone_df"
   ]
  },
  {
   "cell_type": "markdown",
   "metadata": {},
   "source": [
    "---\n",
    "---"
   ]
  },
  {
   "cell_type": "code",
   "execution_count": 25,
   "metadata": {},
   "outputs": [],
   "source": [
    "# Saving voters with no phone numbers listed\n",
    "no_phone_df.to_csv('../data/processed_call_sheets/no_phone_listed.csv', index=False)"
   ]
  },
  {
   "cell_type": "markdown",
   "metadata": {},
   "source": [
    "---\n",
    "---"
   ]
  },
  {
   "cell_type": "code",
   "execution_count": 26,
   "metadata": {},
   "outputs": [],
   "source": [
    "master_df = pd.concat([non_nulls_df, no_phone_df])\n",
    "\n",
    "master_df.reset_index(drop=True, inplace=True)"
   ]
  },
  {
   "cell_type": "code",
   "execution_count": 27,
   "metadata": {},
   "outputs": [
    {
     "data": {
      "text/plain": [
       "(20961, 11)"
      ]
     },
     "execution_count": 27,
     "metadata": {},
     "output_type": "execute_result"
    }
   ],
   "source": [
    "master_df.shape"
   ]
  },
  {
   "cell_type": "code",
   "execution_count": 28,
   "metadata": {},
   "outputs": [
    {
     "name": "stdout",
     "output_type": "stream",
     "text": [
      "<class 'pandas.core.frame.DataFrame'>\n",
      "RangeIndex: 20961 entries, 0 to 20960\n",
      "Data columns (total 11 columns):\n",
      " #   Column            Non-Null Count  Dtype  \n",
      "---  ------            --------------  -----  \n",
      " 0   Voter File VANID  20961 non-null  int64  \n",
      " 1   LastName          20961 non-null  object \n",
      " 2   FirstName         20961 non-null  object \n",
      " 3   MiddleName        19590 non-null  object \n",
      " 4   Suffix            44 non-null     object \n",
      " 5   Cell Phone        20961 non-null  object \n",
      " 6   Home Phone        20961 non-null  object \n",
      " 7   Preferred Phone   20961 non-null  object \n",
      " 8   WorkPhone         20961 non-null  object \n",
      " 9    WorkPhoneExt     0 non-null      float64\n",
      " 10  Group             20961 non-null  object \n",
      "dtypes: float64(1), int64(1), object(9)\n",
      "memory usage: 1.8+ MB\n"
     ]
    }
   ],
   "source": [
    "master_df.info()"
   ]
  },
  {
   "cell_type": "code",
   "execution_count": 29,
   "metadata": {},
   "outputs": [
    {
     "data": {
      "text/html": [
       "<div>\n",
       "<style scoped>\n",
       "    .dataframe tbody tr th:only-of-type {\n",
       "        vertical-align: middle;\n",
       "    }\n",
       "\n",
       "    .dataframe tbody tr th {\n",
       "        vertical-align: top;\n",
       "    }\n",
       "\n",
       "    .dataframe thead th {\n",
       "        text-align: right;\n",
       "    }\n",
       "</style>\n",
       "<table border=\"1\" class=\"dataframe\">\n",
       "  <thead>\n",
       "    <tr style=\"text-align: right;\">\n",
       "      <th></th>\n",
       "      <th>Voter File VANID</th>\n",
       "      <th>LastName</th>\n",
       "      <th>FirstName</th>\n",
       "      <th>MiddleName</th>\n",
       "      <th>Suffix</th>\n",
       "      <th>Cell Phone</th>\n",
       "      <th>Home Phone</th>\n",
       "      <th>Preferred Phone</th>\n",
       "      <th>WorkPhone</th>\n",
       "      <th>WorkPhoneExt</th>\n",
       "      <th>Group</th>\n",
       "    </tr>\n",
       "  </thead>\n",
       "  <tbody>\n",
       "    <tr>\n",
       "      <th>0</th>\n",
       "      <td>49081</td>\n",
       "      <td>Hogan</td>\n",
       "      <td>Constance</td>\n",
       "      <td>Ann</td>\n",
       "      <td>NaN</td>\n",
       "      <td>8506870943</td>\n",
       "      <td>7278272227</td>\n",
       "      <td>8506870943</td>\n",
       "      <td></td>\n",
       "      <td>NaN</td>\n",
       "      <td>Women</td>\n",
       "    </tr>\n",
       "    <tr>\n",
       "      <th>1</th>\n",
       "      <td>68775</td>\n",
       "      <td>Loper</td>\n",
       "      <td>Mary</td>\n",
       "      <td>Joan</td>\n",
       "      <td>NaN</td>\n",
       "      <td></td>\n",
       "      <td>7272894102</td>\n",
       "      <td>7272894102</td>\n",
       "      <td></td>\n",
       "      <td>NaN</td>\n",
       "      <td>Women</td>\n",
       "    </tr>\n",
       "    <tr>\n",
       "      <th>2</th>\n",
       "      <td>111764</td>\n",
       "      <td>Cartwright</td>\n",
       "      <td>Rebecca</td>\n",
       "      <td>Allison</td>\n",
       "      <td>NaN</td>\n",
       "      <td></td>\n",
       "      <td>3863077973</td>\n",
       "      <td>3863077973</td>\n",
       "      <td></td>\n",
       "      <td>NaN</td>\n",
       "      <td>Women</td>\n",
       "    </tr>\n",
       "    <tr>\n",
       "      <th>3</th>\n",
       "      <td>113907</td>\n",
       "      <td>Astle</td>\n",
       "      <td>Allison</td>\n",
       "      <td>Marie</td>\n",
       "      <td>NaN</td>\n",
       "      <td>7275048924</td>\n",
       "      <td></td>\n",
       "      <td>7275048924</td>\n",
       "      <td></td>\n",
       "      <td>NaN</td>\n",
       "      <td>Women</td>\n",
       "    </tr>\n",
       "    <tr>\n",
       "      <th>4</th>\n",
       "      <td>122847</td>\n",
       "      <td>Rouse</td>\n",
       "      <td>Margaret</td>\n",
       "      <td>T</td>\n",
       "      <td>NaN</td>\n",
       "      <td>3864511725</td>\n",
       "      <td></td>\n",
       "      <td>3864511725</td>\n",
       "      <td></td>\n",
       "      <td>NaN</td>\n",
       "      <td>Women</td>\n",
       "    </tr>\n",
       "    <tr>\n",
       "      <th>...</th>\n",
       "      <td>...</td>\n",
       "      <td>...</td>\n",
       "      <td>...</td>\n",
       "      <td>...</td>\n",
       "      <td>...</td>\n",
       "      <td>...</td>\n",
       "      <td>...</td>\n",
       "      <td>...</td>\n",
       "      <td>...</td>\n",
       "      <td>...</td>\n",
       "      <td>...</td>\n",
       "    </tr>\n",
       "    <tr>\n",
       "      <th>20956</th>\n",
       "      <td>40429037</td>\n",
       "      <td>Pepe</td>\n",
       "      <td>Anne Marie</td>\n",
       "      <td>NaN</td>\n",
       "      <td>NaN</td>\n",
       "      <td></td>\n",
       "      <td></td>\n",
       "      <td></td>\n",
       "      <td></td>\n",
       "      <td>NaN</td>\n",
       "      <td>Women</td>\n",
       "    </tr>\n",
       "    <tr>\n",
       "      <th>20957</th>\n",
       "      <td>40436630</td>\n",
       "      <td>Rykaczewski</td>\n",
       "      <td>Carole</td>\n",
       "      <td>A</td>\n",
       "      <td>NaN</td>\n",
       "      <td></td>\n",
       "      <td></td>\n",
       "      <td></td>\n",
       "      <td></td>\n",
       "      <td>NaN</td>\n",
       "      <td>Women</td>\n",
       "    </tr>\n",
       "    <tr>\n",
       "      <th>20958</th>\n",
       "      <td>40520034</td>\n",
       "      <td>Supertino</td>\n",
       "      <td>Michelle</td>\n",
       "      <td>Nicole</td>\n",
       "      <td>NaN</td>\n",
       "      <td></td>\n",
       "      <td></td>\n",
       "      <td></td>\n",
       "      <td></td>\n",
       "      <td>NaN</td>\n",
       "      <td>Women</td>\n",
       "    </tr>\n",
       "    <tr>\n",
       "      <th>20959</th>\n",
       "      <td>40520131</td>\n",
       "      <td>Crooks</td>\n",
       "      <td>Louise</td>\n",
       "      <td>Grubbs</td>\n",
       "      <td>NaN</td>\n",
       "      <td></td>\n",
       "      <td></td>\n",
       "      <td></td>\n",
       "      <td></td>\n",
       "      <td>NaN</td>\n",
       "      <td>Women</td>\n",
       "    </tr>\n",
       "    <tr>\n",
       "      <th>20960</th>\n",
       "      <td>44517479</td>\n",
       "      <td>Shapiro</td>\n",
       "      <td>Aldona</td>\n",
       "      <td>NaN</td>\n",
       "      <td>NaN</td>\n",
       "      <td></td>\n",
       "      <td></td>\n",
       "      <td></td>\n",
       "      <td></td>\n",
       "      <td>NaN</td>\n",
       "      <td>Women</td>\n",
       "    </tr>\n",
       "  </tbody>\n",
       "</table>\n",
       "<p>20961 rows × 11 columns</p>\n",
       "</div>"
      ],
      "text/plain": [
       "       Voter File VANID     LastName   FirstName MiddleName Suffix  \\\n",
       "0                 49081        Hogan   Constance        Ann    NaN   \n",
       "1                 68775        Loper        Mary       Joan    NaN   \n",
       "2                111764   Cartwright     Rebecca    Allison    NaN   \n",
       "3                113907        Astle     Allison      Marie    NaN   \n",
       "4                122847        Rouse    Margaret          T    NaN   \n",
       "...                 ...          ...         ...        ...    ...   \n",
       "20956          40429037         Pepe  Anne Marie        NaN    NaN   \n",
       "20957          40436630  Rykaczewski      Carole          A    NaN   \n",
       "20958          40520034    Supertino    Michelle     Nicole    NaN   \n",
       "20959          40520131       Crooks      Louise     Grubbs    NaN   \n",
       "20960          44517479      Shapiro      Aldona        NaN    NaN   \n",
       "\n",
       "       Cell Phone  Home Phone Preferred Phone WorkPhone   WorkPhoneExt   Group  \n",
       "0      8506870943  7278272227      8506870943                       NaN  Women  \n",
       "1                  7272894102      7272894102                       NaN  Women  \n",
       "2                  3863077973      3863077973                       NaN  Women  \n",
       "3      7275048924                  7275048924                       NaN  Women  \n",
       "4      3864511725                  3864511725                       NaN  Women  \n",
       "...           ...         ...             ...       ...             ...    ...  \n",
       "20956                                                               NaN  Women  \n",
       "20957                                                               NaN  Women  \n",
       "20958                                                               NaN  Women  \n",
       "20959                                                               NaN  Women  \n",
       "20960                                                               NaN  Women  \n",
       "\n",
       "[20961 rows x 11 columns]"
      ]
     },
     "execution_count": 29,
     "metadata": {},
     "output_type": "execute_result"
    }
   ],
   "source": [
    "master_df"
   ]
  },
  {
   "cell_type": "markdown",
   "metadata": {},
   "source": [
    "---\n",
    "---"
   ]
  },
  {
   "cell_type": "code",
   "execution_count": 30,
   "metadata": {},
   "outputs": [],
   "source": [
    "master_df.to_csv('../data/processed_call_sheets/master_call_sheet_no_duplicates.csv' ,index=False)"
   ]
  },
  {
   "cell_type": "markdown",
   "metadata": {},
   "source": [
    "---\n",
    "---"
   ]
  },
  {
   "cell_type": "markdown",
   "metadata": {},
   "source": [
    "#### Supporters & Women Sheets"
   ]
  },
  {
   "cell_type": "code",
   "execution_count": 31,
   "metadata": {},
   "outputs": [],
   "source": [
    "supporters_df = master_df[master_df['Group'] == 'Supporter']\n",
    "supporters_df.reset_index(drop=True, inplace=True)"
   ]
  },
  {
   "cell_type": "code",
   "execution_count": 32,
   "metadata": {},
   "outputs": [],
   "source": [
    "women_df = master_df[master_df['Group'] == 'Women']\n",
    "women_df.reset_index(drop=True, inplace=True)"
   ]
  },
  {
   "cell_type": "markdown",
   "metadata": {},
   "source": [
    "---\n",
    "---"
   ]
  },
  {
   "cell_type": "code",
   "execution_count": 33,
   "metadata": {},
   "outputs": [],
   "source": [
    "supporters_df.to_csv('../data/processed_call_sheets/supporters_no_duplicates.csv', index=False)\n",
    "women_df.to_csv('../data/processed_call_sheets/women_no_duplicates.csv', index=False)"
   ]
  },
  {
   "cell_type": "markdown",
   "metadata": {},
   "source": [
    "---\n",
    "---"
   ]
  },
  {
   "cell_type": "markdown",
   "metadata": {},
   "source": [
    "### Alternative Method"
   ]
  },
  {
   "cell_type": "code",
   "execution_count": 34,
   "metadata": {},
   "outputs": [],
   "source": [
    "# df = pd.read_csv('../data/raw_call_sheets/women_call_sheet_wduplicates.csv')"
   ]
  },
  {
   "cell_type": "code",
   "execution_count": 35,
   "metadata": {},
   "outputs": [],
   "source": [
    "# supporter_df = df[df['Group'] == 'Supporter']\n",
    "# fem_df = df[df['Group'] == 'Women']"
   ]
  },
  {
   "cell_type": "code",
   "execution_count": null,
   "metadata": {},
   "outputs": [],
   "source": [
    "# master_df = "
   ]
  },
  {
   "cell_type": "code",
   "execution_count": null,
   "metadata": {},
   "outputs": [],
   "source": []
  },
  {
   "cell_type": "code",
   "execution_count": null,
   "metadata": {},
   "outputs": [],
   "source": []
  },
  {
   "cell_type": "code",
   "execution_count": null,
   "metadata": {},
   "outputs": [],
   "source": []
  }
 ],
 "metadata": {
  "kernelspec": {
   "display_name": "Python 3",
   "language": "python",
   "name": "python3"
  },
  "language_info": {
   "codemirror_mode": {
    "name": "ipython",
    "version": 3
   },
   "file_extension": ".py",
   "mimetype": "text/x-python",
   "name": "python",
   "nbconvert_exporter": "python",
   "pygments_lexer": "ipython3",
   "version": "3.8.5"
  }
 },
 "nbformat": 4,
 "nbformat_minor": 4
}
